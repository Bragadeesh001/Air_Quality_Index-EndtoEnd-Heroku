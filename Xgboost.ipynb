{
 "cells": [
  {
   "cell_type": "markdown",
   "id": "c2cf4dd3",
   "metadata": {},
   "source": [
    "# Xgboost"
   ]
  },
  {
   "cell_type": "code",
   "execution_count": 1,
   "id": "a3721ddd",
   "metadata": {},
   "outputs": [],
   "source": [
    "# importing the libraries\n",
    "\n",
    "import pandas as pd\n",
    "import numpy as np\n",
    "import matplotlib.pyplot as plt\n",
    "import seaborn as sns"
   ]
  },
  {
   "cell_type": "code",
   "execution_count": 2,
   "id": "6ccaef79",
   "metadata": {},
   "outputs": [
    {
     "data": {
      "text/html": [
       "<div>\n",
       "<style scoped>\n",
       "    .dataframe tbody tr th:only-of-type {\n",
       "        vertical-align: middle;\n",
       "    }\n",
       "\n",
       "    .dataframe tbody tr th {\n",
       "        vertical-align: top;\n",
       "    }\n",
       "\n",
       "    .dataframe thead th {\n",
       "        text-align: right;\n",
       "    }\n",
       "</style>\n",
       "<table border=\"1\" class=\"dataframe\">\n",
       "  <thead>\n",
       "    <tr style=\"text-align: right;\">\n",
       "      <th></th>\n",
       "      <th>T</th>\n",
       "      <th>TM</th>\n",
       "      <th>SLP</th>\n",
       "      <th>H</th>\n",
       "      <th>W</th>\n",
       "      <th>V</th>\n",
       "      <th>VM</th>\n",
       "      <th>PM 2.5</th>\n",
       "    </tr>\n",
       "  </thead>\n",
       "  <tbody>\n",
       "    <tr>\n",
       "      <th>0</th>\n",
       "      <td>9.8</td>\n",
       "      <td>4.8</td>\n",
       "      <td>1017.6</td>\n",
       "      <td>93.0</td>\n",
       "      <td>0.5</td>\n",
       "      <td>4.3</td>\n",
       "      <td>9.4</td>\n",
       "      <td>219.720833</td>\n",
       "    </tr>\n",
       "    <tr>\n",
       "      <th>1</th>\n",
       "      <td>12.7</td>\n",
       "      <td>4.4</td>\n",
       "      <td>1018.5</td>\n",
       "      <td>87.0</td>\n",
       "      <td>0.6</td>\n",
       "      <td>4.4</td>\n",
       "      <td>11.1</td>\n",
       "      <td>182.187500</td>\n",
       "    </tr>\n",
       "    <tr>\n",
       "      <th>2</th>\n",
       "      <td>13.4</td>\n",
       "      <td>2.4</td>\n",
       "      <td>1019.4</td>\n",
       "      <td>82.0</td>\n",
       "      <td>0.6</td>\n",
       "      <td>4.8</td>\n",
       "      <td>11.1</td>\n",
       "      <td>154.037500</td>\n",
       "    </tr>\n",
       "    <tr>\n",
       "      <th>3</th>\n",
       "      <td>15.5</td>\n",
       "      <td>3.3</td>\n",
       "      <td>1018.7</td>\n",
       "      <td>72.0</td>\n",
       "      <td>0.8</td>\n",
       "      <td>8.1</td>\n",
       "      <td>20.6</td>\n",
       "      <td>223.208333</td>\n",
       "    </tr>\n",
       "    <tr>\n",
       "      <th>4</th>\n",
       "      <td>20.9</td>\n",
       "      <td>4.4</td>\n",
       "      <td>1017.3</td>\n",
       "      <td>61.0</td>\n",
       "      <td>1.3</td>\n",
       "      <td>8.7</td>\n",
       "      <td>22.2</td>\n",
       "      <td>200.645833</td>\n",
       "    </tr>\n",
       "  </tbody>\n",
       "</table>\n",
       "</div>"
      ],
      "text/plain": [
       "      T   TM     SLP     H    W    V    VM      PM 2.5\n",
       "0   9.8  4.8  1017.6  93.0  0.5  4.3   9.4  219.720833\n",
       "1  12.7  4.4  1018.5  87.0  0.6  4.4  11.1  182.187500\n",
       "2  13.4  2.4  1019.4  82.0  0.6  4.8  11.1  154.037500\n",
       "3  15.5  3.3  1018.7  72.0  0.8  8.1  20.6  223.208333\n",
       "4  20.9  4.4  1017.3  61.0  1.3  8.7  22.2  200.645833"
      ]
     },
     "execution_count": 2,
     "metadata": {},
     "output_type": "execute_result"
    }
   ],
   "source": [
    "df=pd.read_csv('data/Real-Data/Real_Combine.csv')\n",
    "df.head()"
   ]
  },
  {
   "cell_type": "code",
   "execution_count": 3,
   "id": "f8f91ae0",
   "metadata": {},
   "outputs": [],
   "source": [
    "# Splitting into independent and dependent\n",
    "\n",
    "X=df.iloc[:,:-1]\n",
    "y=df.iloc[:,-1]"
   ]
  },
  {
   "cell_type": "code",
   "execution_count": 4,
   "id": "311b7778",
   "metadata": {},
   "outputs": [
    {
     "data": {
      "text/plain": [
       "2"
      ]
     },
     "execution_count": 4,
     "metadata": {},
     "output_type": "execute_result"
    }
   ],
   "source": [
    "y.isnull().sum()"
   ]
  },
  {
   "cell_type": "code",
   "execution_count": 5,
   "id": "bd78380e",
   "metadata": {},
   "outputs": [],
   "source": [
    "## Replacing the null values with median\n",
    "y.fillna(y.median(),inplace=True)"
   ]
  },
  {
   "cell_type": "code",
   "execution_count": 6,
   "id": "c79b30e7",
   "metadata": {},
   "outputs": [],
   "source": [
    "### Train test split\n",
    "from sklearn.model_selection import train_test_split\n",
    "\n",
    "X_train,X_test,y_train,y_test=train_test_split(X,y,test_size=0.3,random_state=0)"
   ]
  },
  {
   "cell_type": "markdown",
   "id": "5e1351b2",
   "metadata": {},
   "source": [
    "### Implementation"
   ]
  },
  {
   "cell_type": "code",
   "execution_count": 7,
   "id": "a785e644",
   "metadata": {},
   "outputs": [],
   "source": [
    "import xgboost as xgb"
   ]
  },
  {
   "cell_type": "code",
   "execution_count": 8,
   "id": "bb3b756b",
   "metadata": {},
   "outputs": [
    {
     "data": {
      "text/plain": [
       "XGBRegressor(base_score=0.5, booster='gbtree', callbacks=None,\n",
       "             colsample_bylevel=1, colsample_bynode=1, colsample_bytree=1,\n",
       "             early_stopping_rounds=None, enable_categorical=False,\n",
       "             eval_metric=None, gamma=0, gpu_id=-1, grow_policy='depthwise',\n",
       "             importance_type=None, interaction_constraints='',\n",
       "             learning_rate=0.300000012, max_bin=256, max_cat_to_onehot=4,\n",
       "             max_delta_step=0, max_depth=6, max_leaves=0, min_child_weight=1,\n",
       "             missing=nan, monotone_constraints='()', n_estimators=100, n_jobs=0,\n",
       "             num_parallel_tree=1, predictor='auto', random_state=0, reg_alpha=0,\n",
       "             reg_lambda=1, ...)"
      ]
     },
     "execution_count": 8,
     "metadata": {},
     "output_type": "execute_result"
    }
   ],
   "source": [
    "regressor=xgb.XGBRegressor()\n",
    "regressor.fit(X_train,y_train)"
   ]
  },
  {
   "cell_type": "code",
   "execution_count": 9,
   "id": "d56c9544",
   "metadata": {},
   "outputs": [
    {
     "name": "stdout",
     "output_type": "stream",
     "text": [
      "co-efficient r^2 on train: 0.9987360052279449\n",
      "co-efficient r^2 on test: 0.5720235247614003\n"
     ]
    }
   ],
   "source": [
    "print('co-efficient r^2 on train: {}'.format(regressor.score(X_train,y_train)))\n",
    "print('co-efficient r^2 on test: {}'.format(regressor.score(X_test,y_test)))"
   ]
  },
  {
   "cell_type": "code",
   "execution_count": 10,
   "id": "dce2fd58",
   "metadata": {},
   "outputs": [
    {
     "data": {
      "text/plain": [
       "0.3764800771038265"
      ]
     },
     "execution_count": 10,
     "metadata": {},
     "output_type": "execute_result"
    }
   ],
   "source": [
    "from sklearn.model_selection import cross_val_score\n",
    "\n",
    "score=cross_val_score(regressor,X,y,cv=5)\n",
    "score.mean()"
   ]
  },
  {
   "cell_type": "code",
   "execution_count": 11,
   "id": "8c76f7af",
   "metadata": {},
   "outputs": [],
   "source": [
    "### Evaluation\n",
    "\n",
    "prediction=regressor.predict(X_test)\n"
   ]
  },
  {
   "cell_type": "code",
   "execution_count": 12,
   "id": "857ab48a",
   "metadata": {},
   "outputs": [
    {
     "name": "stderr",
     "output_type": "stream",
     "text": [
      "C:\\Users\\BRAG\\anaconda3\\envs\\airquality\\lib\\site-packages\\seaborn\\distributions.py:2619: FutureWarning: `distplot` is a deprecated function and will be removed in a future version. Please adapt your code to use either `displot` (a figure-level function with similar flexibility) or `histplot` (an axes-level function for histograms).\n",
      "  warnings.warn(msg, FutureWarning)\n"
     ]
    },
    {
     "data": {
      "text/plain": [
       "<AxesSubplot:xlabel='PM 2.5', ylabel='Density'>"
      ]
     },
     "execution_count": 12,
     "metadata": {},
     "output_type": "execute_result"
    },
    {
     "data": {
      "image/png": "[encoded data removed]",
      "text/plain": [
       "<Figure size 432x288 with 1 Axes>"
      ]
     },
     "metadata": {
      "needs_background": "light"
     },
     "output_type": "display_data"
    }
   ],
   "source": [
    "sns.distplot(y_test-prediction)"
   ]
  },
  {
   "cell_type": "code",
   "execution_count": 13,
   "id": "ca8bcc09",
   "metadata": {},
   "outputs": [
    {
     "name": "stderr",
     "output_type": "stream",
     "text": [
      "C:\\Users\\BRAG\\anaconda3\\envs\\airquality\\lib\\site-packages\\seaborn\\_decorators.py:36: FutureWarning: Pass the following variables as keyword args: x, y. From version 0.12, the only valid positional argument will be `data`, and passing other arguments without an explicit keyword will result in an error or misinterpretation.\n",
      "  warnings.warn(\n"
     ]
    },
    {
     "data": {
      "text/plain": [
       "<AxesSubplot:xlabel='PM 2.5'>"
      ]
     },
     "execution_count": 13,
     "metadata": {},
     "output_type": "execute_result"
    },
    {
     "data": {
      "image/png": "[encoded data removed]",
      "text/plain": [
       "<Figure size 432x288 with 1 Axes>"
      ]
     },
     "metadata": {
      "needs_background": "light"
     },
     "output_type": "display_data"
    }
   ],
   "source": [
    "sns.scatterplot(y_test,prediction)"
   ]
  },
  {
   "cell_type": "code",
   "execution_count": 14,
   "id": "76a3b42d",
   "metadata": {},
   "outputs": [
    {
     "name": "stdout",
     "output_type": "stream",
     "text": [
      "r2 score: 0.5720235247614003\n"
     ]
    }
   ],
   "source": [
    "from sklearn.metrics import r2_score\n",
    "print('r2 score: {}'.format(r2_score(y_test,prediction)))"
   ]
  },
  {
   "cell_type": "code",
   "execution_count": 15,
   "id": "35adceb2",
   "metadata": {},
   "outputs": [],
   "source": [
    "### Hyperparameter tuning"
   ]
  },
  {
   "cell_type": "code",
   "execution_count": 16,
   "id": "14344f2d",
   "metadata": {},
   "outputs": [],
   "source": [
    "from sklearn.model_selection import RandomizedSearchCV"
   ]
  },
  {
   "cell_type": "code",
   "execution_count": 17,
   "id": "8a744973",
   "metadata": {},
   "outputs": [],
   "source": [
    "n_estimators=[int(x) for x in np.linspace(start=100,stop=1200,num=12)]\n",
    "learning_rate=['0.05','0.1','0.2','0.3','0.5','0.6']\n",
    "max_depth=[int(x) for x in np.linspace(5,30,num=6)]\n",
    "subsample=[0.7,0.6,0.8]\n",
    "min_child_weight=[3,4,5,6,7]"
   ]
  },
  {
   "cell_type": "code",
   "execution_count": 18,
   "id": "1c31453f",
   "metadata": {},
   "outputs": [],
   "source": [
    "random_grid={\n",
    "    'n_estimators': n_estimators,\n",
    "    'learning_rate': learning_rate,\n",
    "    'max_depth': max_depth,\n",
    "    'subsample': subsample,\n",
    "    'min_child_weight': min_child_weight\n",
    "}"
   ]
  },
  {
   "cell_type": "code",
   "execution_count": 19,
   "id": "41188564",
   "metadata": {},
   "outputs": [],
   "source": [
    "from sklearn.model_selection import RandomizedSearchCV\n",
    "\n",
    "regresser=xgb.XGBRegressor()\n",
    "xg_random=RandomizedSearchCV(regresser,param_distributions=random_grid,scoring='neg_mean_squared_error',n_iter=100,cv=5, verbose=2, random_state=42, n_jobs=1)"
   ]
  },
  {
   "cell_type": "code",
   "execution_count": 20,
   "id": "ac319113",
   "metadata": {},
   "outputs": [
    {
     "name": "stdout",
     "output_type": "stream",
     "text": [
      "Fitting 5 folds for each of 100 candidates, totalling 500 fits\n",
      "[CV] END learning_rate=0.3, max_depth=10, min_child_weight=6, n_estimators=1100, subsample=0.7; total time=   1.7s\n",
      "[CV] END learning_rate=0.3, max_depth=10, min_child_weight=6, n_estimators=1100, subsample=0.7; total time=   1.6s\n",
      "[CV] END learning_rate=0.3, max_depth=10, min_child_weight=6, n_estimators=1100, subsample=0.7; total time=   1.7s\n",
      "[CV] END learning_rate=0.3, max_depth=10, min_child_weight=6, n_estimators=1100, subsample=0.7; total time=   1.6s\n",
      "[CV] END learning_rate=0.3, max_depth=10, min_child_weight=6, n_estimators=1100, subsample=0.7; total time=   1.8s\n",
      "[CV] END learning_rate=0.3, max_depth=20, min_child_weight=6, n_estimators=600, subsample=0.7; total time=   1.5s\n",
      "[CV] END learning_rate=0.3, max_depth=20, min_child_weight=6, n_estimators=600, subsample=0.7; total time=   1.4s\n",
      "[CV] END learning_rate=0.3, max_depth=20, min_child_weight=6, n_estimators=600, subsample=0.7; total time=   1.5s\n",
      "[CV] END learning_rate=0.3, max_depth=20, min_child_weight=6, n_estimators=600, subsample=0.7; total time=   1.4s\n",
      "[CV] END learning_rate=0.3, max_depth=20, min_child_weight=6, n_estimators=600, subsample=0.7; total time=   1.3s\n",
      "[CV] END learning_rate=0.1, max_depth=30, min_child_weight=7, n_estimators=300, subsample=0.6; total time=   0.6s\n",
      "[CV] END learning_rate=0.1, max_depth=30, min_child_weight=7, n_estimators=300, subsample=0.6; total time=   0.6s\n",
      "[CV] END learning_rate=0.1, max_depth=30, min_child_weight=7, n_estimators=300, subsample=0.6; total time=   0.6s\n",
      "[CV] END learning_rate=0.1, max_depth=30, min_child_weight=7, n_estimators=300, subsample=0.6; total time=   0.6s\n",
      "[CV] END learning_rate=0.1, max_depth=30, min_child_weight=7, n_estimators=300, subsample=0.6; total time=   0.6s\n",
      "[CV] END learning_rate=0.05, max_depth=10, min_child_weight=7, n_estimators=1000, subsample=0.7; total time=   1.7s\n",
      "[CV] END learning_rate=0.05, max_depth=10, min_child_weight=7, n_estimators=1000, subsample=0.7; total time=   1.8s\n",
      "[CV] END learning_rate=0.05, max_depth=10, min_child_weight=7, n_estimators=1000, subsample=0.7; total time=   1.8s\n",
      "[CV] END learning_rate=0.05, max_depth=10, min_child_weight=7, n_estimators=1000, subsample=0.7; total time=   1.8s\n",
      "[CV] END learning_rate=0.05, max_depth=10, min_child_weight=7, n_estimators=1000, subsample=0.7; total time=   1.8s\n",
      "[CV] END learning_rate=0.3, max_depth=10, min_child_weight=3, n_estimators=100, subsample=0.8; total time=   0.1s\n",
      "[CV] END learning_rate=0.3, max_depth=10, min_child_weight=3, n_estimators=100, subsample=0.8; total time=   0.1s\n",
      "[CV] END learning_rate=0.3, max_depth=10, min_child_weight=3, n_estimators=100, subsample=0.8; total time=   0.1s\n",
      "[CV] END learning_rate=0.3, max_depth=10, min_child_weight=3, n_estimators=100, subsample=0.8; total time=   0.1s\n",
      "[CV] END learning_rate=0.3, max_depth=10, min_child_weight=3, n_estimators=100, subsample=0.8; total time=   0.1s\n",
      "[CV] END learning_rate=0.3, max_depth=5, min_child_weight=6, n_estimators=500, subsample=0.6; total time=   0.6s\n",
      "[CV] END learning_rate=0.3, max_depth=5, min_child_weight=6, n_estimators=500, subsample=0.6; total time=   0.6s\n",
      "[CV] END learning_rate=0.3, max_depth=5, min_child_weight=6, n_estimators=500, subsample=0.6; total time=   0.6s\n",
      "[CV] END learning_rate=0.3, max_depth=5, min_child_weight=6, n_estimators=500, subsample=0.6; total time=   0.6s\n",
      "[CV] END learning_rate=0.3, max_depth=5, min_child_weight=6, n_estimators=500, subsample=0.6; total time=   0.6s\n",
      "[CV] END learning_rate=0.2, max_depth=25, min_child_weight=7, n_estimators=100, subsample=0.6; total time=   0.2s\n",
      "[CV] END learning_rate=0.2, max_depth=25, min_child_weight=7, n_estimators=100, subsample=0.6; total time=   0.1s\n",
      "[CV] END learning_rate=0.2, max_depth=25, min_child_weight=7, n_estimators=100, subsample=0.6; total time=   0.1s\n",
      "[CV] END learning_rate=0.2, max_depth=25, min_child_weight=7, n_estimators=100, subsample=0.6; total time=   0.1s\n",
      "[CV] END learning_rate=0.2, max_depth=25, min_child_weight=7, n_estimators=100, subsample=0.6; total time=   0.1s\n",
      "[CV] END learning_rate=0.1, max_depth=10, min_child_weight=5, n_estimators=900, subsample=0.6; total time=   1.6s\n",
      "[CV] END learning_rate=0.1, max_depth=10, min_child_weight=5, n_estimators=900, subsample=0.6; total time=   1.6s\n",
      "[CV] END learning_rate=0.1, max_depth=10, min_child_weight=5, n_estimators=900, subsample=0.6; total time=   1.6s\n",
      "[CV] END learning_rate=0.1, max_depth=10, min_child_weight=5, n_estimators=900, subsample=0.6; total time=   1.6s\n",
      "[CV] END learning_rate=0.1, max_depth=10, min_child_weight=5, n_estimators=900, subsample=0.6; total time=   1.6s\n",
      "[CV] END learning_rate=0.3, max_depth=15, min_child_weight=6, n_estimators=500, subsample=0.7; total time=   1.0s\n",
      "[CV] END learning_rate=0.3, max_depth=15, min_child_weight=6, n_estimators=500, subsample=0.7; total time=   1.0s\n",
      "[CV] END learning_rate=0.3, max_depth=15, min_child_weight=6, n_estimators=500, subsample=0.7; total time=   1.0s\n",
      "[CV] END learning_rate=0.3, max_depth=15, min_child_weight=6, n_estimators=500, subsample=0.7; total time=   1.0s\n",
      "[CV] END learning_rate=0.3, max_depth=15, min_child_weight=6, n_estimators=500, subsample=0.7; total time=   1.1s\n",
      "[CV] END learning_rate=0.2, max_depth=5, min_child_weight=5, n_estimators=1000, subsample=0.7; total time=   1.4s\n",
      "[CV] END learning_rate=0.2, max_depth=5, min_child_weight=5, n_estimators=1000, subsample=0.7; total time=   1.5s\n",
      "[CV] END learning_rate=0.2, max_depth=5, min_child_weight=5, n_estimators=1000, subsample=0.7; total time=   1.4s\n",
      "[CV] END learning_rate=0.2, max_depth=5, min_child_weight=5, n_estimators=1000, subsample=0.7; total time=   1.5s\n",
      "[CV] END learning_rate=0.2, max_depth=5, min_child_weight=5, n_estimators=1000, subsample=0.7; total time=   1.4s\n",
      "[CV] END learning_rate=0.3, max_depth=15, min_child_weight=5, n_estimators=800, subsample=0.7; total time=   1.7s\n",
      "[CV] END learning_rate=0.3, max_depth=15, min_child_weight=5, n_estimators=800, subsample=0.7; total time=   1.8s\n",
      "[CV] END learning_rate=0.3, max_depth=15, min_child_weight=5, n_estimators=800, subsample=0.7; total time=   1.7s\n",
      "[CV] END learning_rate=0.3, max_depth=15, min_child_weight=5, n_estimators=800, subsample=0.7; total time=   1.5s\n",
      "[CV] END learning_rate=0.3, max_depth=15, min_child_weight=5, n_estimators=800, subsample=0.7; total time=   1.5s\n",
      "[CV] END learning_rate=0.05, max_depth=30, min_child_weight=7, n_estimators=200, subsample=0.7; total time=   0.5s\n",
      "[CV] END learning_rate=0.05, max_depth=30, min_child_weight=7, n_estimators=200, subsample=0.7; total time=   0.5s\n",
      "[CV] END learning_rate=0.05, max_depth=30, min_child_weight=7, n_estimators=200, subsample=0.7; total time=   0.5s\n",
      "[CV] END learning_rate=0.05, max_depth=30, min_child_weight=7, n_estimators=200, subsample=0.7; total time=   0.5s\n",
      "[CV] END learning_rate=0.05, max_depth=30, min_child_weight=7, n_estimators=200, subsample=0.7; total time=   0.5s\n",
      "[CV] END learning_rate=0.05, max_depth=15, min_child_weight=3, n_estimators=800, subsample=0.7; total time=   2.2s\n",
      "[CV] END learning_rate=0.05, max_depth=15, min_child_weight=3, n_estimators=800, subsample=0.7; total time=   2.1s\n",
      "[CV] END learning_rate=0.05, max_depth=15, min_child_weight=3, n_estimators=800, subsample=0.7; total time=   2.0s\n",
      "[CV] END learning_rate=0.05, max_depth=15, min_child_weight=3, n_estimators=800, subsample=0.7; total time=   2.0s\n",
      "[CV] END learning_rate=0.05, max_depth=15, min_child_weight=3, n_estimators=800, subsample=0.7; total time=   2.0s\n",
      "[CV] END learning_rate=0.05, max_depth=30, min_child_weight=4, n_estimators=800, subsample=0.7; total time=   2.3s\n",
      "[CV] END learning_rate=0.05, max_depth=30, min_child_weight=4, n_estimators=800, subsample=0.7; total time=   2.2s\n",
      "[CV] END learning_rate=0.05, max_depth=30, min_child_weight=4, n_estimators=800, subsample=0.7; total time=   2.3s\n",
      "[CV] END learning_rate=0.05, max_depth=30, min_child_weight=4, n_estimators=800, subsample=0.7; total time=   2.3s\n",
      "[CV] END learning_rate=0.05, max_depth=30, min_child_weight=4, n_estimators=800, subsample=0.7; total time=   2.2s\n",
      "[CV] END learning_rate=0.5, max_depth=30, min_child_weight=7, n_estimators=1100, subsample=0.7; total time=   1.7s\n",
      "[CV] END learning_rate=0.5, max_depth=30, min_child_weight=7, n_estimators=1100, subsample=0.7; total time=   1.6s\n"
     ]
    },
    {
     "name": "stdout",
     "output_type": "stream",
     "text": [
      "[CV] END learning_rate=0.5, max_depth=30, min_child_weight=7, n_estimators=1100, subsample=0.7; total time=   2.0s\n",
      "[CV] END learning_rate=0.5, max_depth=30, min_child_weight=7, n_estimators=1100, subsample=0.7; total time=   1.9s\n",
      "[CV] END learning_rate=0.5, max_depth=30, min_child_weight=7, n_estimators=1100, subsample=0.7; total time=   1.7s\n",
      "[CV] END learning_rate=0.3, max_depth=25, min_child_weight=5, n_estimators=800, subsample=0.6; total time=   1.8s\n",
      "[CV] END learning_rate=0.3, max_depth=25, min_child_weight=5, n_estimators=800, subsample=0.6; total time=   1.5s\n",
      "[CV] END learning_rate=0.3, max_depth=25, min_child_weight=5, n_estimators=800, subsample=0.6; total time=   1.7s\n",
      "[CV] END learning_rate=0.3, max_depth=25, min_child_weight=5, n_estimators=800, subsample=0.6; total time=   1.6s\n",
      "[CV] END learning_rate=0.3, max_depth=25, min_child_weight=5, n_estimators=800, subsample=0.6; total time=   1.5s\n",
      "[CV] END learning_rate=0.1, max_depth=15, min_child_weight=7, n_estimators=600, subsample=0.6; total time=   1.2s\n",
      "[CV] END learning_rate=0.1, max_depth=15, min_child_weight=7, n_estimators=600, subsample=0.6; total time=   1.2s\n",
      "[CV] END learning_rate=0.1, max_depth=15, min_child_weight=7, n_estimators=600, subsample=0.6; total time=   1.2s\n",
      "[CV] END learning_rate=0.1, max_depth=15, min_child_weight=7, n_estimators=600, subsample=0.6; total time=   1.2s\n",
      "[CV] END learning_rate=0.1, max_depth=15, min_child_weight=7, n_estimators=600, subsample=0.6; total time=   1.2s\n",
      "[CV] END learning_rate=0.3, max_depth=30, min_child_weight=4, n_estimators=500, subsample=0.8; total time=   1.0s\n",
      "[CV] END learning_rate=0.3, max_depth=30, min_child_weight=4, n_estimators=500, subsample=0.8; total time=   0.8s\n",
      "[CV] END learning_rate=0.3, max_depth=30, min_child_weight=4, n_estimators=500, subsample=0.8; total time=   0.9s\n",
      "[CV] END learning_rate=0.3, max_depth=30, min_child_weight=4, n_estimators=500, subsample=0.8; total time=   1.0s\n",
      "[CV] END learning_rate=0.3, max_depth=30, min_child_weight=4, n_estimators=500, subsample=0.8; total time=   1.0s\n",
      "[CV] END learning_rate=0.3, max_depth=10, min_child_weight=3, n_estimators=500, subsample=0.8; total time=   0.8s\n",
      "[CV] END learning_rate=0.3, max_depth=10, min_child_weight=3, n_estimators=500, subsample=0.8; total time=   0.7s\n",
      "[CV] END learning_rate=0.3, max_depth=10, min_child_weight=3, n_estimators=500, subsample=0.8; total time=   0.7s\n",
      "[CV] END learning_rate=0.3, max_depth=10, min_child_weight=3, n_estimators=500, subsample=0.8; total time=   0.7s\n",
      "[CV] END learning_rate=0.3, max_depth=10, min_child_weight=3, n_estimators=500, subsample=0.8; total time=   0.8s\n",
      "[CV] END learning_rate=0.5, max_depth=30, min_child_weight=6, n_estimators=300, subsample=0.6; total time=   0.7s\n",
      "[CV] END learning_rate=0.5, max_depth=30, min_child_weight=6, n_estimators=300, subsample=0.6; total time=   0.7s\n",
      "[CV] END learning_rate=0.5, max_depth=30, min_child_weight=6, n_estimators=300, subsample=0.6; total time=   0.7s\n",
      "[CV] END learning_rate=0.5, max_depth=30, min_child_weight=6, n_estimators=300, subsample=0.6; total time=   0.8s\n",
      "[CV] END learning_rate=0.5, max_depth=30, min_child_weight=6, n_estimators=300, subsample=0.6; total time=   0.8s\n",
      "[CV] END learning_rate=0.5, max_depth=30, min_child_weight=7, n_estimators=700, subsample=0.8; total time=   1.6s\n",
      "[CV] END learning_rate=0.5, max_depth=30, min_child_weight=7, n_estimators=700, subsample=0.8; total time=   1.3s\n",
      "[CV] END learning_rate=0.5, max_depth=30, min_child_weight=7, n_estimators=700, subsample=0.8; total time=   1.2s\n",
      "[CV] END learning_rate=0.5, max_depth=30, min_child_weight=7, n_estimators=700, subsample=0.8; total time=   1.2s\n",
      "[CV] END learning_rate=0.5, max_depth=30, min_child_weight=7, n_estimators=700, subsample=0.8; total time=   1.1s\n",
      "[CV] END learning_rate=0.6, max_depth=20, min_child_weight=3, n_estimators=1100, subsample=0.8; total time=   1.3s\n",
      "[CV] END learning_rate=0.6, max_depth=20, min_child_weight=3, n_estimators=1100, subsample=0.8; total time=   1.3s\n",
      "[CV] END learning_rate=0.6, max_depth=20, min_child_weight=3, n_estimators=1100, subsample=0.8; total time=   1.3s\n",
      "[CV] END learning_rate=0.6, max_depth=20, min_child_weight=3, n_estimators=1100, subsample=0.8; total time=   1.3s\n",
      "[CV] END learning_rate=0.6, max_depth=20, min_child_weight=3, n_estimators=1100, subsample=0.8; total time=   1.3s\n",
      "[CV] END learning_rate=0.2, max_depth=10, min_child_weight=5, n_estimators=1200, subsample=0.6; total time=   2.0s\n",
      "[CV] END learning_rate=0.2, max_depth=10, min_child_weight=5, n_estimators=1200, subsample=0.6; total time=   1.9s\n",
      "[CV] END learning_rate=0.2, max_depth=10, min_child_weight=5, n_estimators=1200, subsample=0.6; total time=   2.1s\n",
      "[CV] END learning_rate=0.2, max_depth=10, min_child_weight=5, n_estimators=1200, subsample=0.6; total time=   2.1s\n",
      "[CV] END learning_rate=0.2, max_depth=10, min_child_weight=5, n_estimators=1200, subsample=0.6; total time=   1.9s\n",
      "[CV] END learning_rate=0.1, max_depth=30, min_child_weight=3, n_estimators=800, subsample=0.6; total time=   2.3s\n",
      "[CV] END learning_rate=0.1, max_depth=30, min_child_weight=3, n_estimators=800, subsample=0.6; total time=   2.4s\n",
      "[CV] END learning_rate=0.1, max_depth=30, min_child_weight=3, n_estimators=800, subsample=0.6; total time=   2.5s\n",
      "[CV] END learning_rate=0.1, max_depth=30, min_child_weight=3, n_estimators=800, subsample=0.6; total time=   3.1s\n",
      "[CV] END learning_rate=0.1, max_depth=30, min_child_weight=3, n_estimators=800, subsample=0.6; total time=   2.5s\n",
      "[CV] END learning_rate=0.5, max_depth=30, min_child_weight=4, n_estimators=400, subsample=0.7; total time=   1.1s\n",
      "[CV] END learning_rate=0.5, max_depth=30, min_child_weight=4, n_estimators=400, subsample=0.7; total time=   1.1s\n",
      "[CV] END learning_rate=0.5, max_depth=30, min_child_weight=4, n_estimators=400, subsample=0.7; total time=   1.4s\n",
      "[CV] END learning_rate=0.5, max_depth=30, min_child_weight=4, n_estimators=400, subsample=0.7; total time=   0.5s\n",
      "[CV] END learning_rate=0.5, max_depth=30, min_child_weight=4, n_estimators=400, subsample=0.7; total time=   0.7s\n",
      "[CV] END learning_rate=0.1, max_depth=30, min_child_weight=4, n_estimators=300, subsample=0.8; total time=   1.3s\n",
      "[CV] END learning_rate=0.1, max_depth=30, min_child_weight=4, n_estimators=300, subsample=0.8; total time=   1.3s\n",
      "[CV] END learning_rate=0.1, max_depth=30, min_child_weight=4, n_estimators=300, subsample=0.8; total time=   0.6s\n",
      "[CV] END learning_rate=0.1, max_depth=30, min_child_weight=4, n_estimators=300, subsample=0.8; total time=   0.6s\n",
      "[CV] END learning_rate=0.1, max_depth=30, min_child_weight=4, n_estimators=300, subsample=0.8; total time=   1.3s\n",
      "[CV] END learning_rate=0.3, max_depth=20, min_child_weight=7, n_estimators=300, subsample=0.6; total time=   1.1s\n",
      "[CV] END learning_rate=0.3, max_depth=20, min_child_weight=7, n_estimators=300, subsample=0.6; total time=   0.7s\n",
      "[CV] END learning_rate=0.3, max_depth=20, min_child_weight=7, n_estimators=300, subsample=0.6; total time=   0.4s\n",
      "[CV] END learning_rate=0.3, max_depth=20, min_child_weight=7, n_estimators=300, subsample=0.6; total time=   0.7s\n",
      "[CV] END learning_rate=0.3, max_depth=20, min_child_weight=7, n_estimators=300, subsample=0.6; total time=   1.0s\n",
      "[CV] END learning_rate=0.3, max_depth=30, min_child_weight=3, n_estimators=1200, subsample=0.6; total time=   2.1s\n",
      "[CV] END learning_rate=0.3, max_depth=30, min_child_weight=3, n_estimators=1200, subsample=0.6; total time=   2.3s\n",
      "[CV] END learning_rate=0.3, max_depth=30, min_child_weight=3, n_estimators=1200, subsample=0.6; total time=   2.0s\n",
      "[CV] END learning_rate=0.3, max_depth=30, min_child_weight=3, n_estimators=1200, subsample=0.6; total time=   2.2s\n",
      "[CV] END learning_rate=0.3, max_depth=30, min_child_weight=3, n_estimators=1200, subsample=0.6; total time=   1.9s\n",
      "[CV] END learning_rate=0.1, max_depth=5, min_child_weight=4, n_estimators=1200, subsample=0.7; total time=   2.3s\n",
      "[CV] END learning_rate=0.1, max_depth=5, min_child_weight=4, n_estimators=1200, subsample=0.7; total time=   1.6s\n",
      "[CV] END learning_rate=0.1, max_depth=5, min_child_weight=4, n_estimators=1200, subsample=0.7; total time=   2.3s\n",
      "[CV] END learning_rate=0.1, max_depth=5, min_child_weight=4, n_estimators=1200, subsample=0.7; total time=   1.6s\n"
     ]
    },
    {
     "name": "stdout",
     "output_type": "stream",
     "text": [
      "[CV] END learning_rate=0.1, max_depth=5, min_child_weight=4, n_estimators=1200, subsample=0.7; total time=   2.7s\n",
      "[CV] END learning_rate=0.5, max_depth=20, min_child_weight=6, n_estimators=100, subsample=0.8; total time=   0.4s\n",
      "[CV] END learning_rate=0.5, max_depth=20, min_child_weight=6, n_estimators=100, subsample=0.8; total time=   0.2s\n",
      "[CV] END learning_rate=0.5, max_depth=20, min_child_weight=6, n_estimators=100, subsample=0.8; total time=   0.1s\n",
      "[CV] END learning_rate=0.5, max_depth=20, min_child_weight=6, n_estimators=100, subsample=0.8; total time=   0.1s\n",
      "[CV] END learning_rate=0.5, max_depth=20, min_child_weight=6, n_estimators=100, subsample=0.8; total time=   0.1s\n",
      "[CV] END learning_rate=0.6, max_depth=25, min_child_weight=7, n_estimators=800, subsample=0.7; total time=   1.7s\n",
      "[CV] END learning_rate=0.6, max_depth=25, min_child_weight=7, n_estimators=800, subsample=0.7; total time=   2.1s\n",
      "[CV] END learning_rate=0.6, max_depth=25, min_child_weight=7, n_estimators=800, subsample=0.7; total time=   1.4s\n",
      "[CV] END learning_rate=0.6, max_depth=25, min_child_weight=7, n_estimators=800, subsample=0.7; total time=   2.3s\n",
      "[CV] END learning_rate=0.6, max_depth=25, min_child_weight=7, n_estimators=800, subsample=0.7; total time=   1.3s\n",
      "[CV] END learning_rate=0.1, max_depth=10, min_child_weight=5, n_estimators=200, subsample=0.7; total time=   0.2s\n",
      "[CV] END learning_rate=0.1, max_depth=10, min_child_weight=5, n_estimators=200, subsample=0.7; total time=   0.5s\n",
      "[CV] END learning_rate=0.1, max_depth=10, min_child_weight=5, n_estimators=200, subsample=0.7; total time=   0.5s\n",
      "[CV] END learning_rate=0.1, max_depth=10, min_child_weight=5, n_estimators=200, subsample=0.7; total time=   0.6s\n",
      "[CV] END learning_rate=0.1, max_depth=10, min_child_weight=5, n_estimators=200, subsample=0.7; total time=   0.5s\n",
      "[CV] END learning_rate=0.05, max_depth=30, min_child_weight=7, n_estimators=200, subsample=0.8; total time=   0.6s\n",
      "[CV] END learning_rate=0.05, max_depth=30, min_child_weight=7, n_estimators=200, subsample=0.8; total time=   0.3s\n",
      "[CV] END learning_rate=0.05, max_depth=30, min_child_weight=7, n_estimators=200, subsample=0.8; total time=   0.3s\n",
      "[CV] END learning_rate=0.05, max_depth=30, min_child_weight=7, n_estimators=200, subsample=0.8; total time=   0.2s\n",
      "[CV] END learning_rate=0.05, max_depth=30, min_child_weight=7, n_estimators=200, subsample=0.8; total time=   0.7s\n",
      "[CV] END learning_rate=0.1, max_depth=5, min_child_weight=6, n_estimators=1200, subsample=0.7; total time=   2.4s\n",
      "[CV] END learning_rate=0.1, max_depth=5, min_child_weight=6, n_estimators=1200, subsample=0.7; total time=   1.5s\n",
      "[CV] END learning_rate=0.1, max_depth=5, min_child_weight=6, n_estimators=1200, subsample=0.7; total time=   2.5s\n",
      "[CV] END learning_rate=0.1, max_depth=5, min_child_weight=6, n_estimators=1200, subsample=0.7; total time=   1.4s\n",
      "[CV] END learning_rate=0.1, max_depth=5, min_child_weight=6, n_estimators=1200, subsample=0.7; total time=   2.6s\n",
      "[CV] END learning_rate=0.05, max_depth=15, min_child_weight=6, n_estimators=100, subsample=0.6; total time=   0.1s\n",
      "[CV] END learning_rate=0.05, max_depth=15, min_child_weight=6, n_estimators=100, subsample=0.6; total time=   0.1s\n",
      "[CV] END learning_rate=0.05, max_depth=15, min_child_weight=6, n_estimators=100, subsample=0.6; total time=   0.1s\n",
      "[CV] END learning_rate=0.05, max_depth=15, min_child_weight=6, n_estimators=100, subsample=0.6; total time=   0.1s\n",
      "[CV] END learning_rate=0.05, max_depth=15, min_child_weight=6, n_estimators=100, subsample=0.6; total time=   0.1s\n",
      "[CV] END learning_rate=0.1, max_depth=15, min_child_weight=7, n_estimators=1000, subsample=0.6; total time=   2.8s\n",
      "[CV] END learning_rate=0.1, max_depth=15, min_child_weight=7, n_estimators=1000, subsample=0.6; total time=   1.8s\n",
      "[CV] END learning_rate=0.1, max_depth=15, min_child_weight=7, n_estimators=1000, subsample=0.6; total time=   3.0s\n",
      "[CV] END learning_rate=0.1, max_depth=15, min_child_weight=7, n_estimators=1000, subsample=0.6; total time=   2.0s\n",
      "[CV] END learning_rate=0.1, max_depth=15, min_child_weight=7, n_estimators=1000, subsample=0.6; total time=   2.5s\n",
      "[CV] END learning_rate=0.6, max_depth=5, min_child_weight=7, n_estimators=400, subsample=0.7; total time=   0.3s\n",
      "[CV] END learning_rate=0.6, max_depth=5, min_child_weight=7, n_estimators=400, subsample=0.7; total time=   0.5s\n",
      "[CV] END learning_rate=0.6, max_depth=5, min_child_weight=7, n_estimators=400, subsample=0.7; total time=   0.8s\n",
      "[CV] END learning_rate=0.6, max_depth=5, min_child_weight=7, n_estimators=400, subsample=0.7; total time=   0.8s\n",
      "[CV] END learning_rate=0.6, max_depth=5, min_child_weight=7, n_estimators=400, subsample=0.7; total time=   0.6s\n",
      "[CV] END learning_rate=0.3, max_depth=15, min_child_weight=7, n_estimators=900, subsample=0.8; total time=   1.1s\n",
      "[CV] END learning_rate=0.3, max_depth=15, min_child_weight=7, n_estimators=900, subsample=0.8; total time=   2.3s\n",
      "[CV] END learning_rate=0.3, max_depth=15, min_child_weight=7, n_estimators=900, subsample=0.8; total time=   1.0s\n",
      "[CV] END learning_rate=0.3, max_depth=15, min_child_weight=7, n_estimators=900, subsample=0.8; total time=   1.9s\n",
      "[CV] END learning_rate=0.3, max_depth=15, min_child_weight=7, n_estimators=900, subsample=0.8; total time=   1.9s\n",
      "[CV] END learning_rate=0.3, max_depth=5, min_child_weight=5, n_estimators=300, subsample=0.6; total time=   0.2s\n",
      "[CV] END learning_rate=0.3, max_depth=5, min_child_weight=5, n_estimators=300, subsample=0.6; total time=   0.2s\n",
      "[CV] END learning_rate=0.3, max_depth=5, min_child_weight=5, n_estimators=300, subsample=0.6; total time=   0.2s\n",
      "[CV] END learning_rate=0.3, max_depth=5, min_child_weight=5, n_estimators=300, subsample=0.6; total time=   0.3s\n",
      "[CV] END learning_rate=0.3, max_depth=5, min_child_weight=5, n_estimators=300, subsample=0.6; total time=   0.6s\n",
      "[CV] END learning_rate=0.6, max_depth=10, min_child_weight=7, n_estimators=900, subsample=0.7; total time=   1.7s\n",
      "[CV] END learning_rate=0.6, max_depth=10, min_child_weight=7, n_estimators=900, subsample=0.7; total time=   0.8s\n",
      "[CV] END learning_rate=0.6, max_depth=10, min_child_weight=7, n_estimators=900, subsample=0.7; total time=   1.8s\n",
      "[CV] END learning_rate=0.6, max_depth=10, min_child_weight=7, n_estimators=900, subsample=0.7; total time=   1.4s\n",
      "[CV] END learning_rate=0.6, max_depth=10, min_child_weight=7, n_estimators=900, subsample=0.7; total time=   0.8s\n",
      "[CV] END learning_rate=0.3, max_depth=20, min_child_weight=7, n_estimators=500, subsample=0.8; total time=   1.7s\n",
      "[CV] END learning_rate=0.3, max_depth=20, min_child_weight=7, n_estimators=500, subsample=0.8; total time=   1.2s\n",
      "[CV] END learning_rate=0.3, max_depth=20, min_child_weight=7, n_estimators=500, subsample=0.8; total time=   0.8s\n",
      "[CV] END learning_rate=0.3, max_depth=20, min_child_weight=7, n_estimators=500, subsample=0.8; total time=   1.6s\n",
      "[CV] END learning_rate=0.3, max_depth=20, min_child_weight=7, n_estimators=500, subsample=0.8; total time=   1.4s\n",
      "[CV] END learning_rate=0.3, max_depth=5, min_child_weight=7, n_estimators=1000, subsample=0.8; total time=   1.1s\n",
      "[CV] END learning_rate=0.3, max_depth=5, min_child_weight=7, n_estimators=1000, subsample=0.8; total time=   2.3s\n",
      "[CV] END learning_rate=0.3, max_depth=5, min_child_weight=7, n_estimators=1000, subsample=0.8; total time=   1.3s\n",
      "[CV] END learning_rate=0.3, max_depth=5, min_child_weight=7, n_estimators=1000, subsample=0.8; total time=   1.8s\n",
      "[CV] END learning_rate=0.3, max_depth=5, min_child_weight=7, n_estimators=1000, subsample=0.8; total time=   2.2s\n",
      "[CV] END learning_rate=0.05, max_depth=5, min_child_weight=3, n_estimators=1100, subsample=0.6; total time=   1.4s\n",
      "[CV] END learning_rate=0.05, max_depth=5, min_child_weight=3, n_estimators=1100, subsample=0.6; total time=   2.6s\n",
      "[CV] END learning_rate=0.05, max_depth=5, min_child_weight=3, n_estimators=1100, subsample=0.6; total time=   1.6s\n",
      "[CV] END learning_rate=0.05, max_depth=5, min_child_weight=3, n_estimators=1100, subsample=0.6; total time=   2.2s\n",
      "[CV] END learning_rate=0.05, max_depth=5, min_child_weight=3, n_estimators=1100, subsample=0.6; total time=   2.0s\n",
      "[CV] END learning_rate=0.05, max_depth=30, min_child_weight=3, n_estimators=1100, subsample=0.8; total time=   4.4s\n"
     ]
    },
    {
     "name": "stdout",
     "output_type": "stream",
     "text": [
      "[CV] END learning_rate=0.05, max_depth=30, min_child_weight=3, n_estimators=1100, subsample=0.8; total time=   4.0s\n",
      "[CV] END learning_rate=0.05, max_depth=30, min_child_weight=3, n_estimators=1100, subsample=0.8; total time=   4.0s\n",
      "[CV] END learning_rate=0.05, max_depth=30, min_child_weight=3, n_estimators=1100, subsample=0.8; total time=   3.9s\n",
      "[CV] END learning_rate=0.05, max_depth=30, min_child_weight=3, n_estimators=1100, subsample=0.8; total time=   4.0s\n",
      "[CV] END learning_rate=0.2, max_depth=30, min_child_weight=5, n_estimators=1200, subsample=0.6; total time=   3.2s\n",
      "[CV] END learning_rate=0.2, max_depth=30, min_child_weight=5, n_estimators=1200, subsample=0.6; total time=   3.2s\n",
      "[CV] END learning_rate=0.2, max_depth=30, min_child_weight=5, n_estimators=1200, subsample=0.6; total time=   2.3s\n",
      "[CV] END learning_rate=0.2, max_depth=30, min_child_weight=5, n_estimators=1200, subsample=0.6; total time=   3.1s\n",
      "[CV] END learning_rate=0.2, max_depth=30, min_child_weight=5, n_estimators=1200, subsample=0.6; total time=   3.0s\n",
      "[CV] END learning_rate=0.2, max_depth=10, min_child_weight=5, n_estimators=1200, subsample=0.8; total time=   2.0s\n",
      "[CV] END learning_rate=0.2, max_depth=10, min_child_weight=5, n_estimators=1200, subsample=0.8; total time=   2.5s\n",
      "[CV] END learning_rate=0.2, max_depth=10, min_child_weight=5, n_estimators=1200, subsample=0.8; total time=   2.0s\n",
      "[CV] END learning_rate=0.2, max_depth=10, min_child_weight=5, n_estimators=1200, subsample=0.8; total time=   2.3s\n",
      "[CV] END learning_rate=0.2, max_depth=10, min_child_weight=5, n_estimators=1200, subsample=0.8; total time=   1.9s\n",
      "[CV] END learning_rate=0.6, max_depth=10, min_child_weight=4, n_estimators=900, subsample=0.6; total time=   1.0s\n",
      "[CV] END learning_rate=0.6, max_depth=10, min_child_weight=4, n_estimators=900, subsample=0.6; total time=   1.8s\n",
      "[CV] END learning_rate=0.6, max_depth=10, min_child_weight=4, n_estimators=900, subsample=0.6; total time=   1.5s\n",
      "[CV] END learning_rate=0.6, max_depth=10, min_child_weight=4, n_estimators=900, subsample=0.6; total time=   0.8s\n",
      "[CV] END learning_rate=0.6, max_depth=10, min_child_weight=4, n_estimators=900, subsample=0.6; total time=   1.9s\n",
      "[CV] END learning_rate=0.1, max_depth=20, min_child_weight=6, n_estimators=1100, subsample=0.8; total time=   3.0s\n",
      "[CV] END learning_rate=0.1, max_depth=20, min_child_weight=6, n_estimators=1100, subsample=0.8; total time=   3.5s\n",
      "[CV] END learning_rate=0.1, max_depth=20, min_child_weight=6, n_estimators=1100, subsample=0.8; total time=   3.1s\n",
      "[CV] END learning_rate=0.1, max_depth=20, min_child_weight=6, n_estimators=1100, subsample=0.8; total time=   2.6s\n",
      "[CV] END learning_rate=0.1, max_depth=20, min_child_weight=6, n_estimators=1100, subsample=0.8; total time=   3.1s\n",
      "[CV] END learning_rate=0.05, max_depth=10, min_child_weight=7, n_estimators=800, subsample=0.6; total time=   1.9s\n",
      "[CV] END learning_rate=0.05, max_depth=10, min_child_weight=7, n_estimators=800, subsample=0.6; total time=   2.0s\n",
      "[CV] END learning_rate=0.05, max_depth=10, min_child_weight=7, n_estimators=800, subsample=0.6; total time=   1.3s\n",
      "[CV] END learning_rate=0.05, max_depth=10, min_child_weight=7, n_estimators=800, subsample=0.6; total time=   2.4s\n",
      "[CV] END learning_rate=0.05, max_depth=10, min_child_weight=7, n_estimators=800, subsample=0.6; total time=   1.6s\n",
      "[CV] END learning_rate=0.5, max_depth=20, min_child_weight=6, n_estimators=1200, subsample=0.8; total time=   2.5s\n",
      "[CV] END learning_rate=0.5, max_depth=20, min_child_weight=6, n_estimators=1200, subsample=0.8; total time=   1.8s\n",
      "[CV] END learning_rate=0.5, max_depth=20, min_child_weight=6, n_estimators=1200, subsample=0.8; total time=   2.5s\n",
      "[CV] END learning_rate=0.5, max_depth=20, min_child_weight=6, n_estimators=1200, subsample=0.8; total time=   1.8s\n",
      "[CV] END learning_rate=0.5, max_depth=20, min_child_weight=6, n_estimators=1200, subsample=0.8; total time=   1.9s\n",
      "[CV] END learning_rate=0.1, max_depth=15, min_child_weight=7, n_estimators=900, subsample=0.7; total time=   2.3s\n",
      "[CV] END learning_rate=0.1, max_depth=15, min_child_weight=7, n_estimators=900, subsample=0.7; total time=   2.3s\n",
      "[CV] END learning_rate=0.1, max_depth=15, min_child_weight=7, n_estimators=900, subsample=0.7; total time=   2.8s\n",
      "[CV] END learning_rate=0.1, max_depth=15, min_child_weight=7, n_estimators=900, subsample=0.7; total time=   1.9s\n",
      "[CV] END learning_rate=0.1, max_depth=15, min_child_weight=7, n_estimators=900, subsample=0.7; total time=   3.0s\n",
      "[CV] END learning_rate=0.6, max_depth=30, min_child_weight=7, n_estimators=100, subsample=0.7; total time=   0.1s\n",
      "[CV] END learning_rate=0.6, max_depth=30, min_child_weight=7, n_estimators=100, subsample=0.7; total time=   0.1s\n",
      "[CV] END learning_rate=0.6, max_depth=30, min_child_weight=7, n_estimators=100, subsample=0.7; total time=   0.1s\n",
      "[CV] END learning_rate=0.6, max_depth=30, min_child_weight=7, n_estimators=100, subsample=0.7; total time=   0.1s\n",
      "[CV] END learning_rate=0.6, max_depth=30, min_child_weight=7, n_estimators=100, subsample=0.7; total time=   0.1s\n",
      "[CV] END learning_rate=0.05, max_depth=5, min_child_weight=6, n_estimators=900, subsample=0.7; total time=   2.0s\n",
      "[CV] END learning_rate=0.05, max_depth=5, min_child_weight=6, n_estimators=900, subsample=0.7; total time=   2.0s\n",
      "[CV] END learning_rate=0.05, max_depth=5, min_child_weight=6, n_estimators=900, subsample=0.7; total time=   0.9s\n",
      "[CV] END learning_rate=0.05, max_depth=5, min_child_weight=6, n_estimators=900, subsample=0.7; total time=   2.0s\n",
      "[CV] END learning_rate=0.05, max_depth=5, min_child_weight=6, n_estimators=900, subsample=0.7; total time=   1.9s\n",
      "[CV] END learning_rate=0.5, max_depth=15, min_child_weight=3, n_estimators=1100, subsample=0.8; total time=   0.9s\n",
      "[CV] END learning_rate=0.5, max_depth=15, min_child_weight=3, n_estimators=1100, subsample=0.8; total time=   2.0s\n",
      "[CV] END learning_rate=0.5, max_depth=15, min_child_weight=3, n_estimators=1100, subsample=0.8; total time=   1.9s\n",
      "[CV] END learning_rate=0.5, max_depth=15, min_child_weight=3, n_estimators=1100, subsample=0.8; total time=   1.0s\n",
      "[CV] END learning_rate=0.5, max_depth=15, min_child_weight=3, n_estimators=1100, subsample=0.8; total time=   2.1s\n",
      "[CV] END learning_rate=0.3, max_depth=5, min_child_weight=5, n_estimators=1200, subsample=0.6; total time=   2.0s\n",
      "[CV] END learning_rate=0.3, max_depth=5, min_child_weight=5, n_estimators=1200, subsample=0.6; total time=   2.1s\n",
      "[CV] END learning_rate=0.3, max_depth=5, min_child_weight=5, n_estimators=1200, subsample=0.6; total time=   2.6s\n",
      "[CV] END learning_rate=0.3, max_depth=5, min_child_weight=5, n_estimators=1200, subsample=0.6; total time=   1.5s\n",
      "[CV] END learning_rate=0.3, max_depth=5, min_child_weight=5, n_estimators=1200, subsample=0.6; total time=   2.8s\n",
      "[CV] END learning_rate=0.5, max_depth=15, min_child_weight=6, n_estimators=100, subsample=0.8; total time=   0.3s\n",
      "[CV] END learning_rate=0.5, max_depth=15, min_child_weight=6, n_estimators=100, subsample=0.8; total time=   0.2s\n",
      "[CV] END learning_rate=0.5, max_depth=15, min_child_weight=6, n_estimators=100, subsample=0.8; total time=   0.1s\n",
      "[CV] END learning_rate=0.5, max_depth=15, min_child_weight=6, n_estimators=100, subsample=0.8; total time=   0.1s\n",
      "[CV] END learning_rate=0.5, max_depth=15, min_child_weight=6, n_estimators=100, subsample=0.8; total time=   0.1s\n",
      "[CV] END learning_rate=0.1, max_depth=20, min_child_weight=6, n_estimators=400, subsample=0.7; total time=   1.0s\n",
      "[CV] END learning_rate=0.1, max_depth=20, min_child_weight=6, n_estimators=400, subsample=0.7; total time=   1.7s\n",
      "[CV] END learning_rate=0.1, max_depth=20, min_child_weight=6, n_estimators=400, subsample=0.7; total time=   1.6s\n",
      "[CV] END learning_rate=0.1, max_depth=20, min_child_weight=6, n_estimators=400, subsample=0.7; total time=   1.3s\n",
      "[CV] END learning_rate=0.1, max_depth=20, min_child_weight=6, n_estimators=400, subsample=0.7; total time=   0.7s\n",
      "[CV] END learning_rate=0.3, max_depth=10, min_child_weight=7, n_estimators=800, subsample=0.7; total time=   2.1s\n",
      "[CV] END learning_rate=0.3, max_depth=10, min_child_weight=7, n_estimators=800, subsample=0.7; total time=   2.0s\n",
      "[CV] END learning_rate=0.3, max_depth=10, min_child_weight=7, n_estimators=800, subsample=0.7; total time=   0.9s\n"
     ]
    },
    {
     "name": "stdout",
     "output_type": "stream",
     "text": [
      "[CV] END learning_rate=0.3, max_depth=10, min_child_weight=7, n_estimators=800, subsample=0.7; total time=   2.1s\n",
      "[CV] END learning_rate=0.3, max_depth=10, min_child_weight=7, n_estimators=800, subsample=0.7; total time=   2.2s\n",
      "[CV] END learning_rate=0.05, max_depth=15, min_child_weight=6, n_estimators=300, subsample=0.8; total time=   0.4s\n",
      "[CV] END learning_rate=0.05, max_depth=15, min_child_weight=6, n_estimators=300, subsample=0.8; total time=   0.4s\n",
      "[CV] END learning_rate=0.05, max_depth=15, min_child_weight=6, n_estimators=300, subsample=0.8; total time=   1.0s\n",
      "[CV] END learning_rate=0.05, max_depth=15, min_child_weight=6, n_estimators=300, subsample=0.8; total time=   1.0s\n",
      "[CV] END learning_rate=0.05, max_depth=15, min_child_weight=6, n_estimators=300, subsample=0.8; total time=   1.0s\n",
      "[CV] END learning_rate=0.3, max_depth=20, min_child_weight=5, n_estimators=300, subsample=0.7; total time=   1.2s\n",
      "[CV] END learning_rate=0.3, max_depth=20, min_child_weight=5, n_estimators=300, subsample=0.7; total time=   0.5s\n",
      "[CV] END learning_rate=0.3, max_depth=20, min_child_weight=5, n_estimators=300, subsample=0.7; total time=   0.6s\n",
      "[CV] END learning_rate=0.3, max_depth=20, min_child_weight=5, n_estimators=300, subsample=0.7; total time=   1.3s\n",
      "[CV] END learning_rate=0.3, max_depth=20, min_child_weight=5, n_estimators=300, subsample=0.7; total time=   1.2s\n",
      "[CV] END learning_rate=0.2, max_depth=25, min_child_weight=4, n_estimators=600, subsample=0.6; total time=   2.4s\n",
      "[CV] END learning_rate=0.2, max_depth=25, min_child_weight=4, n_estimators=600, subsample=0.6; total time=   1.3s\n",
      "[CV] END learning_rate=0.2, max_depth=25, min_child_weight=4, n_estimators=600, subsample=0.6; total time=   2.5s\n",
      "[CV] END learning_rate=0.2, max_depth=25, min_child_weight=4, n_estimators=600, subsample=0.6; total time=   2.1s\n",
      "[CV] END learning_rate=0.2, max_depth=25, min_child_weight=4, n_estimators=600, subsample=0.6; total time=   1.6s\n",
      "[CV] END learning_rate=0.5, max_depth=25, min_child_weight=3, n_estimators=200, subsample=0.7; total time=   0.9s\n",
      "[CV] END learning_rate=0.5, max_depth=25, min_child_weight=3, n_estimators=200, subsample=0.7; total time=   0.9s\n",
      "[CV] END learning_rate=0.5, max_depth=25, min_child_weight=3, n_estimators=200, subsample=0.7; total time=   0.9s\n",
      "[CV] END learning_rate=0.5, max_depth=25, min_child_weight=3, n_estimators=200, subsample=0.7; total time=   0.8s\n",
      "[CV] END learning_rate=0.5, max_depth=25, min_child_weight=3, n_estimators=200, subsample=0.7; total time=   0.7s\n",
      "[CV] END learning_rate=0.05, max_depth=20, min_child_weight=3, n_estimators=800, subsample=0.7; total time=   2.4s\n",
      "[CV] END learning_rate=0.05, max_depth=20, min_child_weight=3, n_estimators=800, subsample=0.7; total time=   3.7s\n",
      "[CV] END learning_rate=0.05, max_depth=20, min_child_weight=3, n_estimators=800, subsample=0.7; total time=   2.4s\n",
      "[CV] END learning_rate=0.05, max_depth=20, min_child_weight=3, n_estimators=800, subsample=0.7; total time=   3.8s\n",
      "[CV] END learning_rate=0.05, max_depth=20, min_child_weight=3, n_estimators=800, subsample=0.7; total time=   2.2s\n",
      "[CV] END learning_rate=0.05, max_depth=10, min_child_weight=4, n_estimators=800, subsample=0.8; total time=   2.4s\n",
      "[CV] END learning_rate=0.05, max_depth=10, min_child_weight=4, n_estimators=800, subsample=0.8; total time=   2.0s\n",
      "[CV] END learning_rate=0.05, max_depth=10, min_child_weight=4, n_estimators=800, subsample=0.8; total time=   1.8s\n",
      "[CV] END learning_rate=0.05, max_depth=10, min_child_weight=4, n_estimators=800, subsample=0.8; total time=   2.5s\n",
      "[CV] END learning_rate=0.05, max_depth=10, min_child_weight=4, n_estimators=800, subsample=0.8; total time=   2.1s\n",
      "[CV] END learning_rate=0.6, max_depth=5, min_child_weight=4, n_estimators=600, subsample=0.7; total time=   0.5s\n",
      "[CV] END learning_rate=0.6, max_depth=5, min_child_weight=4, n_estimators=600, subsample=0.7; total time=   1.2s\n",
      "[CV] END learning_rate=0.6, max_depth=5, min_child_weight=4, n_estimators=600, subsample=0.7; total time=   1.3s\n",
      "[CV] END learning_rate=0.6, max_depth=5, min_child_weight=4, n_estimators=600, subsample=0.7; total time=   1.3s\n",
      "[CV] END learning_rate=0.6, max_depth=5, min_child_weight=4, n_estimators=600, subsample=0.7; total time=   1.0s\n",
      "[CV] END learning_rate=0.6, max_depth=30, min_child_weight=5, n_estimators=900, subsample=0.6; total time=   1.5s\n",
      "[CV] END learning_rate=0.6, max_depth=30, min_child_weight=5, n_estimators=900, subsample=0.6; total time=   2.3s\n",
      "[CV] END learning_rate=0.6, max_depth=30, min_child_weight=5, n_estimators=900, subsample=0.6; total time=   1.7s\n",
      "[CV] END learning_rate=0.6, max_depth=30, min_child_weight=5, n_estimators=900, subsample=0.6; total time=   1.5s\n",
      "[CV] END learning_rate=0.6, max_depth=30, min_child_weight=5, n_estimators=900, subsample=0.6; total time=   2.3s\n",
      "[CV] END learning_rate=0.5, max_depth=10, min_child_weight=5, n_estimators=1100, subsample=0.7; total time=   1.1s\n",
      "[CV] END learning_rate=0.5, max_depth=10, min_child_weight=5, n_estimators=1100, subsample=0.7; total time=   1.9s\n",
      "[CV] END learning_rate=0.5, max_depth=10, min_child_weight=5, n_estimators=1100, subsample=0.7; total time=   1.9s\n",
      "[CV] END learning_rate=0.5, max_depth=10, min_child_weight=5, n_estimators=1100, subsample=0.7; total time=   0.9s\n",
      "[CV] END learning_rate=0.5, max_depth=10, min_child_weight=5, n_estimators=1100, subsample=0.7; total time=   2.2s\n",
      "[CV] END learning_rate=0.3, max_depth=5, min_child_weight=3, n_estimators=100, subsample=0.7; total time=   0.2s\n",
      "[CV] END learning_rate=0.3, max_depth=5, min_child_weight=3, n_estimators=100, subsample=0.7; total time=   0.2s\n",
      "[CV] END learning_rate=0.3, max_depth=5, min_child_weight=3, n_estimators=100, subsample=0.7; total time=   0.2s\n",
      "[CV] END learning_rate=0.3, max_depth=5, min_child_weight=3, n_estimators=100, subsample=0.7; total time=   0.1s\n",
      "[CV] END learning_rate=0.3, max_depth=5, min_child_weight=3, n_estimators=100, subsample=0.7; total time=   0.0s\n",
      "[CV] END learning_rate=0.5, max_depth=5, min_child_weight=3, n_estimators=200, subsample=0.7; total time=   0.1s\n",
      "[CV] END learning_rate=0.5, max_depth=5, min_child_weight=3, n_estimators=200, subsample=0.7; total time=   0.1s\n",
      "[CV] END learning_rate=0.5, max_depth=5, min_child_weight=3, n_estimators=200, subsample=0.7; total time=   0.1s\n",
      "[CV] END learning_rate=0.5, max_depth=5, min_child_weight=3, n_estimators=200, subsample=0.7; total time=   0.1s\n",
      "[CV] END learning_rate=0.5, max_depth=5, min_child_weight=3, n_estimators=200, subsample=0.7; total time=   0.2s\n",
      "[CV] END learning_rate=0.05, max_depth=30, min_child_weight=3, n_estimators=900, subsample=0.8; total time=   3.7s\n",
      "[CV] END learning_rate=0.05, max_depth=30, min_child_weight=3, n_estimators=900, subsample=0.8; total time=   3.7s\n",
      "[CV] END learning_rate=0.05, max_depth=30, min_child_weight=3, n_estimators=900, subsample=0.8; total time=   3.5s\n",
      "[CV] END learning_rate=0.05, max_depth=30, min_child_weight=3, n_estimators=900, subsample=0.8; total time=   3.1s\n",
      "[CV] END learning_rate=0.05, max_depth=30, min_child_weight=3, n_estimators=900, subsample=0.8; total time=   3.4s\n",
      "[CV] END learning_rate=0.5, max_depth=30, min_child_weight=7, n_estimators=500, subsample=0.8; total time=   1.7s\n",
      "[CV] END learning_rate=0.5, max_depth=30, min_child_weight=7, n_estimators=500, subsample=0.8; total time=   1.4s\n",
      "[CV] END learning_rate=0.5, max_depth=30, min_child_weight=7, n_estimators=500, subsample=0.8; total time=   0.7s\n",
      "[CV] END learning_rate=0.5, max_depth=30, min_child_weight=7, n_estimators=500, subsample=0.8; total time=   1.1s\n",
      "[CV] END learning_rate=0.5, max_depth=30, min_child_weight=7, n_estimators=500, subsample=0.8; total time=   1.5s\n",
      "[CV] END learning_rate=0.2, max_depth=15, min_child_weight=6, n_estimators=500, subsample=0.7; total time=   0.9s\n",
      "[CV] END learning_rate=0.2, max_depth=15, min_child_weight=6, n_estimators=500, subsample=0.7; total time=   1.1s\n",
      "[CV] END learning_rate=0.2, max_depth=15, min_child_weight=6, n_estimators=500, subsample=0.7; total time=   1.7s\n",
      "[CV] END learning_rate=0.2, max_depth=15, min_child_weight=6, n_estimators=500, subsample=0.7; total time=   1.1s\n",
      "[CV] END learning_rate=0.2, max_depth=15, min_child_weight=6, n_estimators=500, subsample=0.7; total time=   0.8s\n"
     ]
    },
    {
     "name": "stdout",
     "output_type": "stream",
     "text": [
      "[CV] END learning_rate=0.5, max_depth=25, min_child_weight=3, n_estimators=400, subsample=0.6; total time=   1.3s\n",
      "[CV] END learning_rate=0.5, max_depth=25, min_child_weight=3, n_estimators=400, subsample=0.6; total time=   1.2s\n",
      "[CV] END learning_rate=0.5, max_depth=25, min_child_weight=3, n_estimators=400, subsample=0.6; total time=   0.5s\n",
      "[CV] END learning_rate=0.5, max_depth=25, min_child_weight=3, n_estimators=400, subsample=0.6; total time=   0.5s\n",
      "[CV] END learning_rate=0.5, max_depth=25, min_child_weight=3, n_estimators=400, subsample=0.6; total time=   1.1s\n",
      "[CV] END learning_rate=0.5, max_depth=30, min_child_weight=3, n_estimators=900, subsample=0.7; total time=   1.8s\n",
      "[CV] END learning_rate=0.5, max_depth=30, min_child_weight=3, n_estimators=900, subsample=0.7; total time=   0.8s\n",
      "[CV] END learning_rate=0.5, max_depth=30, min_child_weight=3, n_estimators=900, subsample=0.7; total time=   1.8s\n",
      "[CV] END learning_rate=0.5, max_depth=30, min_child_weight=3, n_estimators=900, subsample=0.7; total time=   1.4s\n",
      "[CV] END learning_rate=0.5, max_depth=30, min_child_weight=3, n_estimators=900, subsample=0.7; total time=   1.0s\n",
      "[CV] END learning_rate=0.6, max_depth=25, min_child_weight=6, n_estimators=600, subsample=0.6; total time=   1.7s\n",
      "[CV] END learning_rate=0.6, max_depth=25, min_child_weight=6, n_estimators=600, subsample=0.6; total time=   1.2s\n",
      "[CV] END learning_rate=0.6, max_depth=25, min_child_weight=6, n_estimators=600, subsample=0.6; total time=   0.9s\n",
      "[CV] END learning_rate=0.6, max_depth=25, min_child_weight=6, n_estimators=600, subsample=0.6; total time=   1.9s\n",
      "[CV] END learning_rate=0.6, max_depth=25, min_child_weight=6, n_estimators=600, subsample=0.6; total time=   1.0s\n",
      "[CV] END learning_rate=0.05, max_depth=10, min_child_weight=4, n_estimators=100, subsample=0.6; total time=   0.1s\n",
      "[CV] END learning_rate=0.05, max_depth=10, min_child_weight=4, n_estimators=100, subsample=0.6; total time=   0.1s\n",
      "[CV] END learning_rate=0.05, max_depth=10, min_child_weight=4, n_estimators=100, subsample=0.6; total time=   0.1s\n",
      "[CV] END learning_rate=0.05, max_depth=10, min_child_weight=4, n_estimators=100, subsample=0.6; total time=   0.1s\n",
      "[CV] END learning_rate=0.05, max_depth=10, min_child_weight=4, n_estimators=100, subsample=0.6; total time=   0.1s\n",
      "[CV] END learning_rate=0.2, max_depth=5, min_child_weight=7, n_estimators=700, subsample=0.6; total time=   1.5s\n",
      "[CV] END learning_rate=0.2, max_depth=5, min_child_weight=7, n_estimators=700, subsample=0.6; total time=   1.1s\n",
      "[CV] END learning_rate=0.2, max_depth=5, min_child_weight=7, n_estimators=700, subsample=0.6; total time=   0.7s\n",
      "[CV] END learning_rate=0.2, max_depth=5, min_child_weight=7, n_estimators=700, subsample=0.6; total time=   1.3s\n",
      "[CV] END learning_rate=0.2, max_depth=5, min_child_weight=7, n_estimators=700, subsample=0.6; total time=   1.5s\n",
      "[CV] END learning_rate=0.6, max_depth=30, min_child_weight=4, n_estimators=100, subsample=0.7; total time=   0.1s\n",
      "[CV] END learning_rate=0.6, max_depth=30, min_child_weight=4, n_estimators=100, subsample=0.7; total time=   0.1s\n",
      "[CV] END learning_rate=0.6, max_depth=30, min_child_weight=4, n_estimators=100, subsample=0.7; total time=   0.1s\n",
      "[CV] END learning_rate=0.6, max_depth=30, min_child_weight=4, n_estimators=100, subsample=0.7; total time=   0.1s\n",
      "[CV] END learning_rate=0.6, max_depth=30, min_child_weight=4, n_estimators=100, subsample=0.7; total time=   0.1s\n",
      "[CV] END learning_rate=0.05, max_depth=25, min_child_weight=4, n_estimators=100, subsample=0.7; total time=   0.2s\n",
      "[CV] END learning_rate=0.05, max_depth=25, min_child_weight=4, n_estimators=100, subsample=0.7; total time=   0.3s\n",
      "[CV] END learning_rate=0.05, max_depth=25, min_child_weight=4, n_estimators=100, subsample=0.7; total time=   0.3s\n",
      "[CV] END learning_rate=0.05, max_depth=25, min_child_weight=4, n_estimators=100, subsample=0.7; total time=   0.3s\n",
      "[CV] END learning_rate=0.05, max_depth=25, min_child_weight=4, n_estimators=100, subsample=0.7; total time=   0.3s\n",
      "[CV] END learning_rate=0.05, max_depth=5, min_child_weight=5, n_estimators=900, subsample=0.7; total time=   1.3s\n",
      "[CV] END learning_rate=0.05, max_depth=5, min_child_weight=5, n_estimators=900, subsample=0.7; total time=   1.2s\n",
      "[CV] END learning_rate=0.05, max_depth=5, min_child_weight=5, n_estimators=900, subsample=0.7; total time=   2.0s\n",
      "[CV] END learning_rate=0.05, max_depth=5, min_child_weight=5, n_estimators=900, subsample=0.7; total time=   0.9s\n",
      "[CV] END learning_rate=0.05, max_depth=5, min_child_weight=5, n_estimators=900, subsample=0.7; total time=   1.5s\n",
      "[CV] END learning_rate=0.6, max_depth=25, min_child_weight=5, n_estimators=800, subsample=0.6; total time=   1.8s\n",
      "[CV] END learning_rate=0.6, max_depth=25, min_child_weight=5, n_estimators=800, subsample=0.6; total time=   1.2s\n",
      "[CV] END learning_rate=0.6, max_depth=25, min_child_weight=5, n_estimators=800, subsample=0.6; total time=   2.2s\n",
      "[CV] END learning_rate=0.6, max_depth=25, min_child_weight=5, n_estimators=800, subsample=0.6; total time=   0.9s\n",
      "[CV] END learning_rate=0.6, max_depth=25, min_child_weight=5, n_estimators=800, subsample=0.6; total time=   1.8s\n",
      "[CV] END learning_rate=0.1, max_depth=15, min_child_weight=4, n_estimators=400, subsample=0.8; total time=   1.2s\n",
      "[CV] END learning_rate=0.1, max_depth=15, min_child_weight=4, n_estimators=400, subsample=0.8; total time=   0.6s\n",
      "[CV] END learning_rate=0.1, max_depth=15, min_child_weight=4, n_estimators=400, subsample=0.8; total time=   1.0s\n",
      "[CV] END learning_rate=0.1, max_depth=15, min_child_weight=4, n_estimators=400, subsample=0.8; total time=   1.5s\n",
      "[CV] END learning_rate=0.1, max_depth=15, min_child_weight=4, n_estimators=400, subsample=0.8; total time=   0.8s\n",
      "[CV] END learning_rate=0.05, max_depth=30, min_child_weight=5, n_estimators=400, subsample=0.6; total time=   0.6s\n",
      "[CV] END learning_rate=0.05, max_depth=30, min_child_weight=5, n_estimators=400, subsample=0.6; total time=   1.4s\n",
      "[CV] END learning_rate=0.05, max_depth=30, min_child_weight=5, n_estimators=400, subsample=0.6; total time=   1.2s\n",
      "[CV] END learning_rate=0.05, max_depth=30, min_child_weight=5, n_estimators=400, subsample=0.6; total time=   0.6s\n",
      "[CV] END learning_rate=0.05, max_depth=30, min_child_weight=5, n_estimators=400, subsample=0.6; total time=   1.0s\n",
      "[CV] END learning_rate=0.1, max_depth=10, min_child_weight=6, n_estimators=300, subsample=0.6; total time=   0.8s\n",
      "[CV] END learning_rate=0.1, max_depth=10, min_child_weight=6, n_estimators=300, subsample=0.6; total time=   0.8s\n",
      "[CV] END learning_rate=0.1, max_depth=10, min_child_weight=6, n_estimators=300, subsample=0.6; total time=   0.4s\n",
      "[CV] END learning_rate=0.1, max_depth=10, min_child_weight=6, n_estimators=300, subsample=0.6; total time=   0.3s\n",
      "[CV] END learning_rate=0.1, max_depth=10, min_child_weight=6, n_estimators=300, subsample=0.6; total time=   0.3s\n",
      "[CV] END learning_rate=0.6, max_depth=25, min_child_weight=5, n_estimators=1100, subsample=0.8; total time=   2.2s\n",
      "[CV] END learning_rate=0.6, max_depth=25, min_child_weight=5, n_estimators=1100, subsample=0.8; total time=   1.2s\n",
      "[CV] END learning_rate=0.6, max_depth=25, min_child_weight=5, n_estimators=1100, subsample=0.8; total time=   1.8s\n",
      "[CV] END learning_rate=0.6, max_depth=25, min_child_weight=5, n_estimators=1100, subsample=0.8; total time=   1.7s\n",
      "[CV] END learning_rate=0.6, max_depth=25, min_child_weight=5, n_estimators=1100, subsample=0.8; total time=   1.3s\n",
      "[CV] END learning_rate=0.2, max_depth=20, min_child_weight=5, n_estimators=800, subsample=0.8; total time=   2.3s\n",
      "[CV] END learning_rate=0.2, max_depth=20, min_child_weight=5, n_estimators=800, subsample=0.8; total time=   1.2s\n",
      "[CV] END learning_rate=0.2, max_depth=20, min_child_weight=5, n_estimators=800, subsample=0.8; total time=   2.5s\n",
      "[CV] END learning_rate=0.2, max_depth=20, min_child_weight=5, n_estimators=800, subsample=0.8; total time=   1.1s\n",
      "[CV] END learning_rate=0.2, max_depth=20, min_child_weight=5, n_estimators=800, subsample=0.8; total time=   2.7s\n",
      "[CV] END learning_rate=0.3, max_depth=5, min_child_weight=4, n_estimators=100, subsample=0.6; total time=   0.2s\n",
      "[CV] END learning_rate=0.3, max_depth=5, min_child_weight=4, n_estimators=100, subsample=0.6; total time=   0.2s\n",
      "[CV] END learning_rate=0.3, max_depth=5, min_child_weight=4, n_estimators=100, subsample=0.6; total time=   0.1s\n"
     ]
    },
    {
     "name": "stdout",
     "output_type": "stream",
     "text": [
      "[CV] END learning_rate=0.3, max_depth=5, min_child_weight=4, n_estimators=100, subsample=0.6; total time=   0.0s\n",
      "[CV] END learning_rate=0.3, max_depth=5, min_child_weight=4, n_estimators=100, subsample=0.6; total time=   0.0s\n",
      "[CV] END learning_rate=0.5, max_depth=20, min_child_weight=3, n_estimators=800, subsample=0.8; total time=   0.8s\n",
      "[CV] END learning_rate=0.5, max_depth=20, min_child_weight=3, n_estimators=800, subsample=0.8; total time=   1.9s\n",
      "[CV] END learning_rate=0.5, max_depth=20, min_child_weight=3, n_estimators=800, subsample=0.8; total time=   1.5s\n",
      "[CV] END learning_rate=0.5, max_depth=20, min_child_weight=3, n_estimators=800, subsample=0.8; total time=   0.8s\n",
      "[CV] END learning_rate=0.5, max_depth=20, min_child_weight=3, n_estimators=800, subsample=0.8; total time=   1.6s\n",
      "[CV] END learning_rate=0.5, max_depth=5, min_child_weight=6, n_estimators=900, subsample=0.6; total time=   1.7s\n",
      "[CV] END learning_rate=0.5, max_depth=5, min_child_weight=6, n_estimators=900, subsample=0.6; total time=   1.1s\n",
      "[CV] END learning_rate=0.5, max_depth=5, min_child_weight=6, n_estimators=900, subsample=0.6; total time=   2.1s\n",
      "[CV] END learning_rate=0.5, max_depth=5, min_child_weight=6, n_estimators=900, subsample=0.6; total time=   1.3s\n",
      "[CV] END learning_rate=0.5, max_depth=5, min_child_weight=6, n_estimators=900, subsample=0.6; total time=   1.3s\n",
      "[CV] END learning_rate=0.6, max_depth=5, min_child_weight=7, n_estimators=100, subsample=0.6; total time=   0.2s\n",
      "[CV] END learning_rate=0.6, max_depth=5, min_child_weight=7, n_estimators=100, subsample=0.6; total time=   0.2s\n",
      "[CV] END learning_rate=0.6, max_depth=5, min_child_weight=7, n_estimators=100, subsample=0.6; total time=   0.2s\n",
      "[CV] END learning_rate=0.6, max_depth=5, min_child_weight=7, n_estimators=100, subsample=0.6; total time=   0.2s\n",
      "[CV] END learning_rate=0.6, max_depth=5, min_child_weight=7, n_estimators=100, subsample=0.6; total time=   0.2s\n",
      "[CV] END learning_rate=0.2, max_depth=10, min_child_weight=6, n_estimators=200, subsample=0.8; total time=   0.6s\n",
      "[CV] END learning_rate=0.2, max_depth=10, min_child_weight=6, n_estimators=200, subsample=0.8; total time=   0.5s\n",
      "[CV] END learning_rate=0.2, max_depth=10, min_child_weight=6, n_estimators=200, subsample=0.8; total time=   0.3s\n",
      "[CV] END learning_rate=0.2, max_depth=10, min_child_weight=6, n_estimators=200, subsample=0.8; total time=   0.2s\n",
      "[CV] END learning_rate=0.2, max_depth=10, min_child_weight=6, n_estimators=200, subsample=0.8; total time=   0.2s\n",
      "[CV] END learning_rate=0.1, max_depth=15, min_child_weight=7, n_estimators=1200, subsample=0.7; total time=   4.1s\n",
      "[CV] END learning_rate=0.1, max_depth=15, min_child_weight=7, n_estimators=1200, subsample=0.7; total time=   3.2s\n",
      "[CV] END learning_rate=0.1, max_depth=15, min_child_weight=7, n_estimators=1200, subsample=0.7; total time=   2.9s\n",
      "[CV] END learning_rate=0.1, max_depth=15, min_child_weight=7, n_estimators=1200, subsample=0.7; total time=   3.8s\n",
      "[CV] END learning_rate=0.1, max_depth=15, min_child_weight=7, n_estimators=1200, subsample=0.7; total time=   3.4s\n",
      "[CV] END learning_rate=0.2, max_depth=25, min_child_weight=3, n_estimators=200, subsample=0.7; total time=   0.9s\n",
      "[CV] END learning_rate=0.2, max_depth=25, min_child_weight=3, n_estimators=200, subsample=0.7; total time=   0.4s\n",
      "[CV] END learning_rate=0.2, max_depth=25, min_child_weight=3, n_estimators=200, subsample=0.7; total time=   0.4s\n",
      "[CV] END learning_rate=0.2, max_depth=25, min_child_weight=3, n_estimators=200, subsample=0.7; total time=   0.8s\n",
      "[CV] END learning_rate=0.2, max_depth=25, min_child_weight=3, n_estimators=200, subsample=0.7; total time=   1.0s\n",
      "[CV] END learning_rate=0.3, max_depth=25, min_child_weight=5, n_estimators=400, subsample=0.7; total time=   1.8s\n",
      "[CV] END learning_rate=0.3, max_depth=25, min_child_weight=5, n_estimators=400, subsample=0.7; total time=   1.0s\n",
      "[CV] END learning_rate=0.3, max_depth=25, min_child_weight=5, n_estimators=400, subsample=0.7; total time=   1.4s\n",
      "[CV] END learning_rate=0.3, max_depth=25, min_child_weight=5, n_estimators=400, subsample=0.7; total time=   1.6s\n",
      "[CV] END learning_rate=0.3, max_depth=25, min_child_weight=5, n_estimators=400, subsample=0.7; total time=   1.3s\n",
      "[CV] END learning_rate=0.1, max_depth=10, min_child_weight=4, n_estimators=1100, subsample=0.8; total time=   3.2s\n",
      "[CV] END learning_rate=0.1, max_depth=10, min_child_weight=4, n_estimators=1100, subsample=0.8; total time=   2.5s\n",
      "[CV] END learning_rate=0.1, max_depth=10, min_child_weight=4, n_estimators=1100, subsample=0.8; total time=   3.1s\n",
      "[CV] END learning_rate=0.1, max_depth=10, min_child_weight=4, n_estimators=1100, subsample=0.8; total time=   2.1s\n",
      "[CV] END learning_rate=0.1, max_depth=10, min_child_weight=4, n_estimators=1100, subsample=0.8; total time=   3.2s\n",
      "[CV] END learning_rate=0.5, max_depth=20, min_child_weight=6, n_estimators=600, subsample=0.6; total time=   1.3s\n",
      "[CV] END learning_rate=0.5, max_depth=20, min_child_weight=6, n_estimators=600, subsample=0.6; total time=   1.5s\n",
      "[CV] END learning_rate=0.5, max_depth=20, min_child_weight=6, n_estimators=600, subsample=0.6; total time=   2.3s\n",
      "[CV] END learning_rate=0.5, max_depth=20, min_child_weight=6, n_estimators=600, subsample=0.6; total time=   1.2s\n",
      "[CV] END learning_rate=0.5, max_depth=20, min_child_weight=6, n_estimators=600, subsample=0.6; total time=   2.4s\n",
      "[CV] END learning_rate=0.2, max_depth=25, min_child_weight=7, n_estimators=800, subsample=0.7; total time=   2.4s\n",
      "[CV] END learning_rate=0.2, max_depth=25, min_child_weight=7, n_estimators=800, subsample=0.7; total time=   3.1s\n",
      "[CV] END learning_rate=0.2, max_depth=25, min_child_weight=7, n_estimators=800, subsample=0.7; total time=   2.2s\n",
      "[CV] END learning_rate=0.2, max_depth=25, min_child_weight=7, n_estimators=800, subsample=0.7; total time=   3.2s\n",
      "[CV] END learning_rate=0.2, max_depth=25, min_child_weight=7, n_estimators=800, subsample=0.7; total time=   1.9s\n",
      "[CV] END learning_rate=0.1, max_depth=15, min_child_weight=4, n_estimators=1200, subsample=0.7; total time=   3.0s\n",
      "[CV] END learning_rate=0.1, max_depth=15, min_child_weight=4, n_estimators=1200, subsample=0.7; total time=   3.6s\n",
      "[CV] END learning_rate=0.1, max_depth=15, min_child_weight=4, n_estimators=1200, subsample=0.7; total time=   2.9s\n",
      "[CV] END learning_rate=0.1, max_depth=15, min_child_weight=4, n_estimators=1200, subsample=0.7; total time=   3.1s\n",
      "[CV] END learning_rate=0.1, max_depth=15, min_child_weight=4, n_estimators=1200, subsample=0.7; total time=   3.9s\n",
      "[CV] END learning_rate=0.6, max_depth=20, min_child_weight=3, n_estimators=400, subsample=0.8; total time=   0.6s\n",
      "[CV] END learning_rate=0.6, max_depth=20, min_child_weight=3, n_estimators=400, subsample=0.8; total time=   0.4s\n",
      "[CV] END learning_rate=0.6, max_depth=20, min_child_weight=3, n_estimators=400, subsample=0.8; total time=   0.7s\n",
      "[CV] END learning_rate=0.6, max_depth=20, min_child_weight=3, n_estimators=400, subsample=0.8; total time=   0.9s\n",
      "[CV] END learning_rate=0.6, max_depth=20, min_child_weight=3, n_estimators=400, subsample=0.8; total time=   1.0s\n",
      "[CV] END learning_rate=0.05, max_depth=10, min_child_weight=3, n_estimators=700, subsample=0.7; total time=   2.1s\n",
      "[CV] END learning_rate=0.05, max_depth=10, min_child_weight=3, n_estimators=700, subsample=0.7; total time=   1.6s\n",
      "[CV] END learning_rate=0.05, max_depth=10, min_child_weight=3, n_estimators=700, subsample=0.7; total time=   2.4s\n",
      "[CV] END learning_rate=0.05, max_depth=10, min_child_weight=3, n_estimators=700, subsample=0.7; total time=   2.5s\n",
      "[CV] END learning_rate=0.05, max_depth=10, min_child_weight=3, n_estimators=700, subsample=0.7; total time=   1.8s\n"
     ]
    },
    {
     "data": {
      "text/plain": [
       "RandomizedSearchCV(cv=5,\n",
       "                   estimator=XGBRegressor(base_score=None, booster=None,\n",
       "                                          callbacks=None,\n",
       "                                          colsample_bylevel=None,\n",
       "                                          colsample_bynode=None,\n",
       "                                          colsample_bytree=None,\n",
       "                                          early_stopping_rounds=None,\n",
       "                                          enable_categorical=False,\n",
       "                                          eval_metric=None, gamma=None,\n",
       "                                          gpu_id=None, grow_policy=None,\n",
       "                                          importance_type=None,\n",
       "                                          interaction_constraints=None,\n",
       "                                          learning_rate=None, max_bin=None,\n",
       "                                          m...\n",
       "                                          predictor=None, random_state=None,\n",
       "                                          reg_alpha=None, reg_lambda=None, ...),\n",
       "                   n_iter=100, n_jobs=1,\n",
       "                   param_distributions={'learning_rate': ['0.05', '0.1', '0.2',\n",
       "                                                          '0.3', '0.5', '0.6'],\n",
       "                                        'max_depth': [5, 10, 15, 20, 25, 30],\n",
       "                                        'min_child_weight': [3, 4, 5, 6, 7],\n",
       "                                        'n_estimators': [100, 200, 300, 400,\n",
       "                                                         500, 600, 700, 800,\n",
       "                                                         900, 1000, 1100,\n",
       "                                                         1200],\n",
       "                                        'subsample': [0.7, 0.6, 0.8]},\n",
       "                   random_state=42, scoring='neg_mean_squared_error',\n",
       "                   verbose=2)"
      ]
     },
     "execution_count": 20,
     "metadata": {},
     "output_type": "execute_result"
    }
   ],
   "source": [
    "xg_random.fit(X_train,y_train)"
   ]
  },
  {
   "cell_type": "code",
   "execution_count": 21,
   "id": "d868fdd8",
   "metadata": {},
   "outputs": [
    {
     "data": {
      "text/plain": [
       "{'subsample': 0.6,\n",
       " 'n_estimators': 100,\n",
       " 'min_child_weight': 4,\n",
       " 'max_depth': 10,\n",
       " 'learning_rate': '0.05'}"
      ]
     },
     "execution_count": 21,
     "metadata": {},
     "output_type": "execute_result"
    }
   ],
   "source": [
    "xg_random.best_params_"
   ]
  },
  {
   "cell_type": "code",
   "execution_count": 22,
   "id": "6ccc9962",
   "metadata": {},
   "outputs": [
    {
     "data": {
      "text/plain": [
       "-3104.73052875857"
      ]
     },
     "execution_count": 22,
     "metadata": {},
     "output_type": "execute_result"
    }
   ],
   "source": [
    "xg_random.best_score_"
   ]
  },
  {
   "cell_type": "code",
   "execution_count": 23,
   "id": "5522bae5",
   "metadata": {},
   "outputs": [],
   "source": [
    "prediction=xg_random.predict(X_test)"
   ]
  },
  {
   "cell_type": "code",
   "execution_count": 24,
   "id": "32d78d6a",
   "metadata": {},
   "outputs": [
    {
     "name": "stderr",
     "output_type": "stream",
     "text": [
      "C:\\Users\\BRAG\\anaconda3\\envs\\airquality\\lib\\site-packages\\seaborn\\_decorators.py:36: FutureWarning: Pass the following variables as keyword args: x, y. From version 0.12, the only valid positional argument will be `data`, and passing other arguments without an explicit keyword will result in an error or misinterpretation.\n",
      "  warnings.warn(\n"
     ]
    },
    {
     "data": {
      "text/plain": [
       "<AxesSubplot:xlabel='PM 2.5'>"
      ]
     },
     "execution_count": 24,
     "metadata": {},
     "output_type": "execute_result"
    },
    {
     "data": {
      "image/png": "[encoded data removed]",
      "text/plain": [
       "<Figure size 432x288 with 1 Axes>"
      ]
     },
     "metadata": {
      "needs_background": "light"
     },
     "output_type": "display_data"
    }
   ],
   "source": [
    "# scatter\n",
    "\n",
    "sns.scatterplot(y_test,prediction)"
   ]
  },
  {
   "cell_type": "code",
   "execution_count": 25,
   "id": "35e4e5a7",
   "metadata": {},
   "outputs": [
    {
     "name": "stderr",
     "output_type": "stream",
     "text": [
      "C:\\Users\\BRAG\\anaconda3\\envs\\airquality\\lib\\site-packages\\seaborn\\distributions.py:2619: FutureWarning: `distplot` is a deprecated function and will be removed in a future version. Please adapt your code to use either `displot` (a figure-level function with similar flexibility) or `histplot` (an axes-level function for histograms).\n",
      "  warnings.warn(msg, FutureWarning)\n"
     ]
    },
    {
     "data": {
      "text/plain": [
       "<AxesSubplot:xlabel='PM 2.5', ylabel='Density'>"
      ]
     },
     "execution_count": 25,
     "metadata": {},
     "output_type": "execute_result"
    },
    {
     "data": {
      "image/png": "[encoded data removed]",
      "text/plain": [
       "<Figure size 432x288 with 1 Axes>"
      ]
     },
     "metadata": {
      "needs_background": "light"
     },
     "output_type": "display_data"
    }
   ],
   "source": [
    "sns.distplot(y_test-prediction)"
   ]
  },
  {
   "cell_type": "code",
   "execution_count": 28,
   "id": "6a1cd822",
   "metadata": {},
   "outputs": [],
   "source": [
    "### Metrics\n",
    "\n",
    "from sklearn.metrics import mean_absolute_error,mean_squared_error, r2_score"
   ]
  },
  {
   "cell_type": "code",
   "execution_count": 31,
   "id": "87ef73aa",
   "metadata": {},
   "outputs": [
    {
     "name": "stdout",
     "output_type": "stream",
     "text": [
      "MAE: 36.667788736730294\n",
      "MSE: 2742.2545480536432\n",
      "RMSE: 52.36654034833353\n",
      "R^2: 0.617076965468433\n"
     ]
    }
   ],
   "source": [
    "print('MAE: {}'.format(mean_absolute_error(y_test,prediction)))\n",
    "print('MSE: {}'.format(mean_squared_error(y_test,prediction)))\n",
    "print('RMSE: {}'.format(np.sqrt(mean_squared_error(y_test,prediction))))\n",
    "print('R^2: {}'.format(r2_score(y_test,prediction)))"
   ]
  },
  {
   "cell_type": "code",
   "execution_count": null,
   "id": "751ab9b6",
   "metadata": {},
   "outputs": [],
   "source": []
  }
 ],
 "metadata": {
  "kernelspec": {
   "display_name": "Python 3 (ipykernel)",
   "language": "python",
   "name": "python3"
  },
  "language_info": {
   "codemirror_mode": {
    "name": "ipython",
    "version": 3
   },
   "file_extension": ".py",
   "mimetype": "text/x-python",
   "name": "python",
   "nbconvert_exporter": "python",
   "pygments_lexer": "ipython3",
   "version": "3.9.12"
  }
 },
 "nbformat": 4,
 "nbformat_minor": 5
}
