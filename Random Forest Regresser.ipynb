{
 "cells": [
  {
   "cell_type": "markdown",
   "id": "7f23be90",
   "metadata": {},
   "source": [
    "# Random Forest Regressor"
   ]
  },
  {
   "cell_type": "code",
   "execution_count": 2,
   "id": "7034f530",
   "metadata": {},
   "outputs": [],
   "source": [
    "# importing the libraries\n",
    "\n",
    "import pandas as pd\n",
    "import numpy as np\n",
    "import matplotlib.pyplot as plt\n",
    "import seaborn as sns"
   ]
  },
  {
   "cell_type": "code",
   "execution_count": 3,
   "id": "d08f671f",
   "metadata": {},
   "outputs": [
    {
     "data": {
      "text/html": [
       "<div>\n",
       "<style scoped>\n",
       "    .dataframe tbody tr th:only-of-type {\n",
       "        vertical-align: middle;\n",
       "    }\n",
       "\n",
       "    .dataframe tbody tr th {\n",
       "        vertical-align: top;\n",
       "    }\n",
       "\n",
       "    .dataframe thead th {\n",
       "        text-align: right;\n",
       "    }\n",
       "</style>\n",
       "<table border=\"1\" class=\"dataframe\">\n",
       "  <thead>\n",
       "    <tr style=\"text-align: right;\">\n",
       "      <th></th>\n",
       "      <th>T</th>\n",
       "      <th>TM</th>\n",
       "      <th>SLP</th>\n",
       "      <th>H</th>\n",
       "      <th>W</th>\n",
       "      <th>V</th>\n",
       "      <th>VM</th>\n",
       "      <th>PM 2.5</th>\n",
       "    </tr>\n",
       "  </thead>\n",
       "  <tbody>\n",
       "    <tr>\n",
       "      <th>0</th>\n",
       "      <td>9.8</td>\n",
       "      <td>4.8</td>\n",
       "      <td>1017.6</td>\n",
       "      <td>93.0</td>\n",
       "      <td>0.5</td>\n",
       "      <td>4.3</td>\n",
       "      <td>9.4</td>\n",
       "      <td>219.720833</td>\n",
       "    </tr>\n",
       "    <tr>\n",
       "      <th>1</th>\n",
       "      <td>12.7</td>\n",
       "      <td>4.4</td>\n",
       "      <td>1018.5</td>\n",
       "      <td>87.0</td>\n",
       "      <td>0.6</td>\n",
       "      <td>4.4</td>\n",
       "      <td>11.1</td>\n",
       "      <td>182.187500</td>\n",
       "    </tr>\n",
       "    <tr>\n",
       "      <th>2</th>\n",
       "      <td>13.4</td>\n",
       "      <td>2.4</td>\n",
       "      <td>1019.4</td>\n",
       "      <td>82.0</td>\n",
       "      <td>0.6</td>\n",
       "      <td>4.8</td>\n",
       "      <td>11.1</td>\n",
       "      <td>154.037500</td>\n",
       "    </tr>\n",
       "    <tr>\n",
       "      <th>3</th>\n",
       "      <td>15.5</td>\n",
       "      <td>3.3</td>\n",
       "      <td>1018.7</td>\n",
       "      <td>72.0</td>\n",
       "      <td>0.8</td>\n",
       "      <td>8.1</td>\n",
       "      <td>20.6</td>\n",
       "      <td>223.208333</td>\n",
       "    </tr>\n",
       "    <tr>\n",
       "      <th>4</th>\n",
       "      <td>20.9</td>\n",
       "      <td>4.4</td>\n",
       "      <td>1017.3</td>\n",
       "      <td>61.0</td>\n",
       "      <td>1.3</td>\n",
       "      <td>8.7</td>\n",
       "      <td>22.2</td>\n",
       "      <td>200.645833</td>\n",
       "    </tr>\n",
       "  </tbody>\n",
       "</table>\n",
       "</div>"
      ],
      "text/plain": [
       "      T   TM     SLP     H    W    V    VM      PM 2.5\n",
       "0   9.8  4.8  1017.6  93.0  0.5  4.3   9.4  219.720833\n",
       "1  12.7  4.4  1018.5  87.0  0.6  4.4  11.1  182.187500\n",
       "2  13.4  2.4  1019.4  82.0  0.6  4.8  11.1  154.037500\n",
       "3  15.5  3.3  1018.7  72.0  0.8  8.1  20.6  223.208333\n",
       "4  20.9  4.4  1017.3  61.0  1.3  8.7  22.2  200.645833"
      ]
     },
     "execution_count": 3,
     "metadata": {},
     "output_type": "execute_result"
    }
   ],
   "source": [
    "df=pd.read_csv('data/Real-Data/Real_Combine.csv')\n",
    "df.head()"
   ]
  },
  {
   "cell_type": "code",
   "execution_count": 4,
   "id": "1194c7b1",
   "metadata": {},
   "outputs": [],
   "source": [
    "# Splitting into independent and dependent\n",
    "\n",
    "X=df.iloc[:,:-1]\n",
    "y=df.iloc[:,-1]"
   ]
  },
  {
   "cell_type": "code",
   "execution_count": 5,
   "id": "4f24745b",
   "metadata": {},
   "outputs": [
    {
     "data": {
      "text/plain": [
       "2"
      ]
     },
     "execution_count": 5,
     "metadata": {},
     "output_type": "execute_result"
    }
   ],
   "source": [
    "y.isnull().sum()"
   ]
  },
  {
   "cell_type": "code",
   "execution_count": 6,
   "id": "3778e752",
   "metadata": {},
   "outputs": [],
   "source": [
    "## Replacing the null values with median\n",
    "y.fillna(y.median(),inplace=True)"
   ]
  },
  {
   "cell_type": "code",
   "execution_count": 7,
   "id": "7ce0b819",
   "metadata": {},
   "outputs": [],
   "source": [
    "### Train test split\n",
    "from sklearn.model_selection import train_test_split\n",
    "\n",
    "X_train,X_test,y_train,y_test=train_test_split(X,y,test_size=0.3,random_state=0)"
   ]
  },
  {
   "cell_type": "markdown",
   "id": "94679f18",
   "metadata": {},
   "source": [
    "### Implementation"
   ]
  },
  {
   "cell_type": "code",
   "execution_count": 8,
   "id": "aeda583f",
   "metadata": {},
   "outputs": [
    {
     "data": {
      "text/plain": [
       "RandomForestRegressor()"
      ]
     },
     "execution_count": 8,
     "metadata": {},
     "output_type": "execute_result"
    }
   ],
   "source": [
    "from sklearn.ensemble import RandomForestRegressor\n",
    "\n",
    "regresser=RandomForestRegressor()\n",
    "regresser.fit(X_train,y_train)"
   ]
  },
  {
   "cell_type": "code",
   "execution_count": 9,
   "id": "b1ae8f20",
   "metadata": {},
   "outputs": [
    {
     "name": "stdout",
     "output_type": "stream",
     "text": [
      "co-efficient r^2 on train: 0.9396672373649867\n"
     ]
    }
   ],
   "source": [
    "print('co-efficient r^2 on train: {}'.format(regresser.score(X_train,y_train)))"
   ]
  },
  {
   "cell_type": "code",
   "execution_count": 10,
   "id": "404b1745",
   "metadata": {},
   "outputs": [
    {
     "name": "stdout",
     "output_type": "stream",
     "text": [
      "co-efficient r^2 on test: 0.6260471054549535\n"
     ]
    }
   ],
   "source": [
    "print('co-efficient r^2 on test: {}'.format(regresser.score(X_test,y_test)))"
   ]
  },
  {
   "cell_type": "code",
   "execution_count": 11,
   "id": "0a9f59a0",
   "metadata": {},
   "outputs": [
    {
     "data": {
      "text/plain": [
       "0.48932846263690655"
      ]
     },
     "execution_count": 11,
     "metadata": {},
     "output_type": "execute_result"
    }
   ],
   "source": [
    "from sklearn.model_selection import cross_val_score\n",
    "\n",
    "score=cross_val_score(regresser,X,y,cv=5)\n",
    "score.mean()"
   ]
  },
  {
   "cell_type": "code",
   "execution_count": 12,
   "id": "11d2bc90",
   "metadata": {},
   "outputs": [],
   "source": [
    "### Evaluation"
   ]
  },
  {
   "cell_type": "code",
   "execution_count": 13,
   "id": "58eb842f",
   "metadata": {},
   "outputs": [],
   "source": [
    "prediction=regresser.predict(X_test)"
   ]
  },
  {
   "cell_type": "code",
   "execution_count": 14,
   "id": "039eec5c",
   "metadata": {},
   "outputs": [
    {
     "name": "stderr",
     "output_type": "stream",
     "text": [
      "C:\\Users\\BRAG\\anaconda3\\envs\\airquality\\lib\\site-packages\\seaborn\\distributions.py:2619: FutureWarning: `distplot` is a deprecated function and will be removed in a future version. Please adapt your code to use either `displot` (a figure-level function with similar flexibility) or `histplot` (an axes-level function for histograms).\n",
      "  warnings.warn(msg, FutureWarning)\n"
     ]
    },
    {
     "data": {
      "text/plain": [
       "<AxesSubplot:xlabel='PM 2.5', ylabel='Density'>"
      ]
     },
     "execution_count": 14,
     "metadata": {},
     "output_type": "execute_result"
    },
    {
     "data": {
      "image/png": "[encoded data removed]",
      "text/plain": [
       "<Figure size 432x288 with 1 Axes>"
      ]
     },
     "metadata": {
      "needs_background": "light"
     },
     "output_type": "display_data"
    }
   ],
   "source": [
    "#### distplot\n",
    "\n",
    "sns.distplot(y_test-prediction)"
   ]
  },
  {
   "cell_type": "code",
   "execution_count": 15,
   "id": "a48ac6b7",
   "metadata": {},
   "outputs": [
    {
     "name": "stderr",
     "output_type": "stream",
     "text": [
      "C:\\Users\\BRAG\\anaconda3\\envs\\airquality\\lib\\site-packages\\seaborn\\_decorators.py:36: FutureWarning: Pass the following variables as keyword args: x, y. From version 0.12, the only valid positional argument will be `data`, and passing other arguments without an explicit keyword will result in an error or misinterpretation.\n",
      "  warnings.warn(\n"
     ]
    },
    {
     "data": {
      "text/plain": [
       "<AxesSubplot:xlabel='PM 2.5'>"
      ]
     },
     "execution_count": 15,
     "metadata": {},
     "output_type": "execute_result"
    },
    {
     "data": {
      "image/png": "[encoded data removed]",
      "text/plain": [
       "<Figure size 432x288 with 1 Axes>"
      ]
     },
     "metadata": {
      "needs_background": "light"
     },
     "output_type": "display_data"
    }
   ],
   "source": [
    "#### scatter\n",
    "\n",
    "sns.scatterplot(y_test,prediction)"
   ]
  },
  {
   "cell_type": "code",
   "execution_count": 16,
   "id": "38c57a4b",
   "metadata": {},
   "outputs": [
    {
     "name": "stdout",
     "output_type": "stream",
     "text": [
      "r2 score: 0.6260471054549535\n"
     ]
    }
   ],
   "source": [
    "from sklearn.metrics import r2_score\n",
    "print('r2 score: {}'.format(r2_score(y_test,prediction)))"
   ]
  },
  {
   "cell_type": "markdown",
   "id": "956d1ed2",
   "metadata": {},
   "source": [
    "### Hyperparameter tuning"
   ]
  },
  {
   "cell_type": "code",
   "execution_count": 17,
   "id": "740141d7",
   "metadata": {},
   "outputs": [
    {
     "data": {
      "text/plain": [
       "RandomForestRegressor()"
      ]
     },
     "execution_count": 17,
     "metadata": {},
     "output_type": "execute_result"
    }
   ],
   "source": [
    "RandomForestRegressor()"
   ]
  },
  {
   "cell_type": "code",
   "execution_count": 18,
   "id": "018bccfe",
   "metadata": {},
   "outputs": [],
   "source": [
    "# Randomized Search cv\n",
    "from sklearn.model_selection import RandomizedSearchCV\n",
    "\n",
    "#number of trees in random forest\n",
    "n_estimators=[int(x) for x in np.linspace(start=100,stop=1200, num=12)]\n",
    "\n",
    "# Number of features to consider at every split\n",
    "max_features=['auto','squrt']\n",
    "\n",
    "#Maximum number of levels in tree\n",
    "max_depth=[int(x) for x in np.linspace(5,30,num=6)]\n",
    "\n",
    "# max_depth.append(None)\n",
    "# Minimum number of samples required to split a node\n",
    "min_samples_split=[2,5,10,15,100]\n",
    "\n",
    "#Minimum number of samples required at each leaf node\n",
    "min_samples_leaf=[1,2,5,10]\n"
   ]
  },
  {
   "cell_type": "code",
   "execution_count": 19,
   "id": "347eecca",
   "metadata": {},
   "outputs": [
    {
     "name": "stdout",
     "output_type": "stream",
     "text": [
      "{'n_estimators': [100, 200, 300, 400, 500, 600, 700, 800, 900, 1000, 1100, 1200], 'max_features': ['auto', 'squrt'], 'max_depth': [5, 10, 15, 20, 25, 30], 'min_samples_split': [2, 5, 10, 15, 100], 'min_samples_leaf': [1, 2, 5, 10]}\n"
     ]
    }
   ],
   "source": [
    "random_grid={\n",
    "    'n_estimators': n_estimators,\n",
    "    'max_features': max_features,\n",
    "    'max_depth': max_depth,\n",
    "    'min_samples_split': min_samples_split,\n",
    "    'min_samples_leaf': min_samples_leaf\n",
    "}\n",
    "\n",
    "print(random_grid)"
   ]
  },
  {
   "cell_type": "code",
   "execution_count": 20,
   "id": "cc019e6d",
   "metadata": {},
   "outputs": [],
   "source": [
    "# base model to tune\n",
    "\n",
    "rf=RandomForestRegressor()"
   ]
  },
  {
   "cell_type": "code",
   "execution_count": 21,
   "id": "7d2bd46a",
   "metadata": {},
   "outputs": [],
   "source": [
    "rf_random=RandomizedSearchCV(estimator=rf,param_distributions=random_grid,scoring='neg_mean_squared_error',n_iter=100,cv=5,verbose=2,random_state=42)"
   ]
  },
  {
   "cell_type": "code",
   "execution_count": 22,
   "id": "44896a34",
   "metadata": {},
   "outputs": [
    {
     "name": "stdout",
     "output_type": "stream",
     "text": [
      "Fitting 5 folds for each of 100 candidates, totalling 500 fits\n",
      "[CV] END max_depth=5, max_features=squrt, min_samples_leaf=10, min_samples_split=100, n_estimators=400; total time=   0.0s\n",
      "[CV] END max_depth=5, max_features=squrt, min_samples_leaf=10, min_samples_split=100, n_estimators=400; total time=   0.0s\n",
      "[CV] END max_depth=5, max_features=squrt, min_samples_leaf=10, min_samples_split=100, n_estimators=400; total time=   0.0s\n",
      "[CV] END max_depth=5, max_features=squrt, min_samples_leaf=10, min_samples_split=100, n_estimators=400; total time=   0.0s\n",
      "[CV] END max_depth=5, max_features=squrt, min_samples_leaf=10, min_samples_split=100, n_estimators=400; total time=   0.0s\n",
      "[CV] END max_depth=20, max_features=auto, min_samples_leaf=1, min_samples_split=5, n_estimators=200; total time=   0.3s\n",
      "[CV] END max_depth=20, max_features=auto, min_samples_leaf=1, min_samples_split=5, n_estimators=200; total time=   0.4s\n",
      "[CV] END max_depth=20, max_features=auto, min_samples_leaf=1, min_samples_split=5, n_estimators=200; total time=   0.3s\n",
      "[CV] END max_depth=20, max_features=auto, min_samples_leaf=1, min_samples_split=5, n_estimators=200; total time=   0.3s\n",
      "[CV] END max_depth=20, max_features=auto, min_samples_leaf=1, min_samples_split=5, n_estimators=200; total time=   0.3s\n",
      "[CV] END max_depth=25, max_features=squrt, min_samples_leaf=10, min_samples_split=15, n_estimators=200; total time=   0.0s\n",
      "[CV] END max_depth=25, max_features=squrt, min_samples_leaf=10, min_samples_split=15, n_estimators=200; total time=   0.0s\n",
      "[CV] END max_depth=25, max_features=squrt, min_samples_leaf=10, min_samples_split=15, n_estimators=200; total time=   0.0s\n",
      "[CV] END max_depth=25, max_features=squrt, min_samples_leaf=10, min_samples_split=15, n_estimators=200; total time=   0.0s\n",
      "[CV] END max_depth=25, max_features=squrt, min_samples_leaf=10, min_samples_split=15, n_estimators=200; total time=   0.0s\n",
      "[CV] END max_depth=20, max_features=auto, min_samples_leaf=5, min_samples_split=15, n_estimators=600; total time=   0.9s\n",
      "[CV] END max_depth=20, max_features=auto, min_samples_leaf=5, min_samples_split=15, n_estimators=600; total time=   1.0s\n",
      "[CV] END max_depth=20, max_features=auto, min_samples_leaf=5, min_samples_split=15, n_estimators=600; total time=   0.9s\n",
      "[CV] END max_depth=20, max_features=auto, min_samples_leaf=5, min_samples_split=15, n_estimators=600; total time=   0.9s\n",
      "[CV] END max_depth=20, max_features=auto, min_samples_leaf=5, min_samples_split=15, n_estimators=600; total time=   0.9s\n",
      "[CV] END max_depth=15, max_features=auto, min_samples_leaf=5, min_samples_split=5, n_estimators=300; total time=   0.5s\n",
      "[CV] END max_depth=15, max_features=auto, min_samples_leaf=5, min_samples_split=5, n_estimators=300; total time=   0.4s\n",
      "[CV] END max_depth=15, max_features=auto, min_samples_leaf=5, min_samples_split=5, n_estimators=300; total time=   0.4s\n",
      "[CV] END max_depth=15, max_features=auto, min_samples_leaf=5, min_samples_split=5, n_estimators=300; total time=   0.4s\n",
      "[CV] END max_depth=15, max_features=auto, min_samples_leaf=5, min_samples_split=5, n_estimators=300; total time=   0.4s\n",
      "[CV] END max_depth=15, max_features=squrt, min_samples_leaf=1, min_samples_split=100, n_estimators=800; total time=   0.1s\n",
      "[CV] END max_depth=15, max_features=squrt, min_samples_leaf=1, min_samples_split=100, n_estimators=800; total time=   0.1s\n",
      "[CV] END max_depth=15, max_features=squrt, min_samples_leaf=1, min_samples_split=100, n_estimators=800; total time=   0.1s\n",
      "[CV] END max_depth=15, max_features=squrt, min_samples_leaf=1, min_samples_split=100, n_estimators=800; total time=   0.1s\n",
      "[CV] END max_depth=15, max_features=squrt, min_samples_leaf=1, min_samples_split=100, n_estimators=800; total time=   0.1s\n",
      "[CV] END max_depth=15, max_features=auto, min_samples_leaf=5, min_samples_split=100, n_estimators=100; total time=   0.0s\n",
      "[CV] END max_depth=15, max_features=auto, min_samples_leaf=5, min_samples_split=100, n_estimators=100; total time=   0.0s\n",
      "[CV] END max_depth=15, max_features=auto, min_samples_leaf=5, min_samples_split=100, n_estimators=100; total time=   0.0s\n",
      "[CV] END max_depth=15, max_features=auto, min_samples_leaf=5, min_samples_split=100, n_estimators=100; total time=   0.0s\n",
      "[CV] END max_depth=15, max_features=auto, min_samples_leaf=5, min_samples_split=100, n_estimators=100; total time=   0.0s\n",
      "[CV] END max_depth=25, max_features=squrt, min_samples_leaf=2, min_samples_split=10, n_estimators=900; total time=   0.1s\n",
      "[CV] END max_depth=25, max_features=squrt, min_samples_leaf=2, min_samples_split=10, n_estimators=900; total time=   0.1s\n",
      "[CV] END max_depth=25, max_features=squrt, min_samples_leaf=2, min_samples_split=10, n_estimators=900; total time=   0.1s\n",
      "[CV] END max_depth=25, max_features=squrt, min_samples_leaf=2, min_samples_split=10, n_estimators=900; total time=   0.1s\n",
      "[CV] END max_depth=25, max_features=squrt, min_samples_leaf=2, min_samples_split=10, n_estimators=900; total time=   0.1s\n",
      "[CV] END max_depth=10, max_features=squrt, min_samples_leaf=10, min_samples_split=15, n_estimators=1000; total time=   0.2s\n",
      "[CV] END max_depth=10, max_features=squrt, min_samples_leaf=10, min_samples_split=15, n_estimators=1000; total time=   0.2s\n",
      "[CV] END max_depth=10, max_features=squrt, min_samples_leaf=10, min_samples_split=15, n_estimators=1000; total time=   0.2s\n",
      "[CV] END max_depth=10, max_features=squrt, min_samples_leaf=10, min_samples_split=15, n_estimators=1000; total time=   0.2s\n",
      "[CV] END max_depth=10, max_features=squrt, min_samples_leaf=10, min_samples_split=15, n_estimators=1000; total time=   0.2s\n",
      "[CV] END max_depth=20, max_features=squrt, min_samples_leaf=5, min_samples_split=2, n_estimators=100; total time=   0.0s\n",
      "[CV] END max_depth=20, max_features=squrt, min_samples_leaf=5, min_samples_split=2, n_estimators=100; total time=   0.0s\n",
      "[CV] END max_depth=20, max_features=squrt, min_samples_leaf=5, min_samples_split=2, n_estimators=100; total time=   0.0s\n",
      "[CV] END max_depth=20, max_features=squrt, min_samples_leaf=5, min_samples_split=2, n_estimators=100; total time=   0.0s\n",
      "[CV] END max_depth=20, max_features=squrt, min_samples_leaf=5, min_samples_split=2, n_estimators=100; total time=   0.0s\n",
      "[CV] END max_depth=30, max_features=squrt, min_samples_leaf=5, min_samples_split=5, n_estimators=300; total time=   0.0s\n",
      "[CV] END max_depth=30, max_features=squrt, min_samples_leaf=5, min_samples_split=5, n_estimators=300; total time=   0.0s\n",
      "[CV] END max_depth=30, max_features=squrt, min_samples_leaf=5, min_samples_split=5, n_estimators=300; total time=   0.0s\n",
      "[CV] END max_depth=30, max_features=squrt, min_samples_leaf=5, min_samples_split=5, n_estimators=300; total time=   0.0s\n",
      "[CV] END max_depth=30, max_features=squrt, min_samples_leaf=5, min_samples_split=5, n_estimators=300; total time=   0.0s\n",
      "[CV] END max_depth=30, max_features=squrt, min_samples_leaf=2, min_samples_split=10, n_estimators=400; total time=   0.0s\n",
      "[CV] END max_depth=30, max_features=squrt, min_samples_leaf=2, min_samples_split=10, n_estimators=400; total time=   0.0s\n",
      "[CV] END max_depth=30, max_features=squrt, min_samples_leaf=2, min_samples_split=10, n_estimators=400; total time=   0.0s\n",
      "[CV] END max_depth=30, max_features=squrt, min_samples_leaf=2, min_samples_split=10, n_estimators=400; total time=   0.0s\n",
      "[CV] END max_depth=30, max_features=squrt, min_samples_leaf=2, min_samples_split=10, n_estimators=400; total time=   0.0s\n",
      "[CV] END max_depth=5, max_features=squrt, min_samples_leaf=5, min_samples_split=2, n_estimators=900; total time=   0.1s\n",
      "[CV] END max_depth=5, max_features=squrt, min_samples_leaf=5, min_samples_split=2, n_estimators=900; total time=   0.1s\n",
      "[CV] END max_depth=5, max_features=squrt, min_samples_leaf=5, min_samples_split=2, n_estimators=900; total time=   0.1s\n",
      "[CV] END max_depth=5, max_features=squrt, min_samples_leaf=5, min_samples_split=2, n_estimators=900; total time=   0.1s\n",
      "[CV] END max_depth=5, max_features=squrt, min_samples_leaf=5, min_samples_split=2, n_estimators=900; total time=   0.1s\n",
      "[CV] END max_depth=20, max_features=squrt, min_samples_leaf=2, min_samples_split=5, n_estimators=900; total time=   0.1s\n",
      "[CV] END max_depth=20, max_features=squrt, min_samples_leaf=2, min_samples_split=5, n_estimators=900; total time=   0.1s\n"
     ]
    },
    {
     "name": "stdout",
     "output_type": "stream",
     "text": [
      "[CV] END max_depth=20, max_features=squrt, min_samples_leaf=2, min_samples_split=5, n_estimators=900; total time=   0.1s\n",
      "[CV] END max_depth=20, max_features=squrt, min_samples_leaf=2, min_samples_split=5, n_estimators=900; total time=   0.1s\n",
      "[CV] END max_depth=20, max_features=squrt, min_samples_leaf=2, min_samples_split=5, n_estimators=900; total time=   0.1s\n",
      "[CV] END max_depth=10, max_features=squrt, min_samples_leaf=2, min_samples_split=15, n_estimators=200; total time=   0.0s\n",
      "[CV] END max_depth=10, max_features=squrt, min_samples_leaf=2, min_samples_split=15, n_estimators=200; total time=   0.0s\n",
      "[CV] END max_depth=10, max_features=squrt, min_samples_leaf=2, min_samples_split=15, n_estimators=200; total time=   0.0s\n",
      "[CV] END max_depth=10, max_features=squrt, min_samples_leaf=2, min_samples_split=15, n_estimators=200; total time=   0.0s\n",
      "[CV] END max_depth=10, max_features=squrt, min_samples_leaf=2, min_samples_split=15, n_estimators=200; total time=   0.0s\n",
      "[CV] END max_depth=10, max_features=squrt, min_samples_leaf=2, min_samples_split=2, n_estimators=200; total time=   0.0s\n",
      "[CV] END max_depth=10, max_features=squrt, min_samples_leaf=2, min_samples_split=2, n_estimators=200; total time=   0.0s\n",
      "[CV] END max_depth=10, max_features=squrt, min_samples_leaf=2, min_samples_split=2, n_estimators=200; total time=   0.0s\n",
      "[CV] END max_depth=10, max_features=squrt, min_samples_leaf=2, min_samples_split=2, n_estimators=200; total time=   0.0s\n",
      "[CV] END max_depth=10, max_features=squrt, min_samples_leaf=2, min_samples_split=2, n_estimators=200; total time=   0.0s\n",
      "[CV] END max_depth=10, max_features=auto, min_samples_leaf=1, min_samples_split=5, n_estimators=700; total time=   1.3s\n",
      "[CV] END max_depth=10, max_features=auto, min_samples_leaf=1, min_samples_split=5, n_estimators=700; total time=   1.3s\n",
      "[CV] END max_depth=10, max_features=auto, min_samples_leaf=1, min_samples_split=5, n_estimators=700; total time=   1.3s\n",
      "[CV] END max_depth=10, max_features=auto, min_samples_leaf=1, min_samples_split=5, n_estimators=700; total time=   1.3s\n",
      "[CV] END max_depth=10, max_features=auto, min_samples_leaf=1, min_samples_split=5, n_estimators=700; total time=   1.3s\n",
      "[CV] END max_depth=5, max_features=auto, min_samples_leaf=10, min_samples_split=100, n_estimators=1200; total time=   1.5s\n",
      "[CV] END max_depth=5, max_features=auto, min_samples_leaf=10, min_samples_split=100, n_estimators=1200; total time=   1.6s\n",
      "[CV] END max_depth=5, max_features=auto, min_samples_leaf=10, min_samples_split=100, n_estimators=1200; total time=   1.5s\n",
      "[CV] END max_depth=5, max_features=auto, min_samples_leaf=10, min_samples_split=100, n_estimators=1200; total time=   1.5s\n",
      "[CV] END max_depth=5, max_features=auto, min_samples_leaf=10, min_samples_split=100, n_estimators=1200; total time=   1.5s\n",
      "[CV] END max_depth=5, max_features=squrt, min_samples_leaf=2, min_samples_split=10, n_estimators=800; total time=   0.1s\n",
      "[CV] END max_depth=5, max_features=squrt, min_samples_leaf=2, min_samples_split=10, n_estimators=800; total time=   0.1s\n",
      "[CV] END max_depth=5, max_features=squrt, min_samples_leaf=2, min_samples_split=10, n_estimators=800; total time=   0.1s\n",
      "[CV] END max_depth=5, max_features=squrt, min_samples_leaf=2, min_samples_split=10, n_estimators=800; total time=   0.1s\n",
      "[CV] END max_depth=5, max_features=squrt, min_samples_leaf=2, min_samples_split=10, n_estimators=800; total time=   0.1s\n",
      "[CV] END max_depth=10, max_features=squrt, min_samples_leaf=2, min_samples_split=100, n_estimators=1100; total time=   0.2s\n",
      "[CV] END max_depth=10, max_features=squrt, min_samples_leaf=2, min_samples_split=100, n_estimators=1100; total time=   0.2s\n",
      "[CV] END max_depth=10, max_features=squrt, min_samples_leaf=2, min_samples_split=100, n_estimators=1100; total time=   0.2s\n",
      "[CV] END max_depth=10, max_features=squrt, min_samples_leaf=2, min_samples_split=100, n_estimators=1100; total time=   0.2s\n",
      "[CV] END max_depth=10, max_features=squrt, min_samples_leaf=2, min_samples_split=100, n_estimators=1100; total time=   0.2s\n",
      "[CV] END max_depth=10, max_features=squrt, min_samples_leaf=10, min_samples_split=100, n_estimators=500; total time=   0.0s\n",
      "[CV] END max_depth=10, max_features=squrt, min_samples_leaf=10, min_samples_split=100, n_estimators=500; total time=   0.0s\n",
      "[CV] END max_depth=10, max_features=squrt, min_samples_leaf=10, min_samples_split=100, n_estimators=500; total time=   0.0s\n",
      "[CV] END max_depth=10, max_features=squrt, min_samples_leaf=10, min_samples_split=100, n_estimators=500; total time=   0.0s\n",
      "[CV] END max_depth=10, max_features=squrt, min_samples_leaf=10, min_samples_split=100, n_estimators=500; total time=   0.0s\n",
      "[CV] END max_depth=15, max_features=squrt, min_samples_leaf=1, min_samples_split=5, n_estimators=1000; total time=   0.2s\n",
      "[CV] END max_depth=15, max_features=squrt, min_samples_leaf=1, min_samples_split=5, n_estimators=1000; total time=   0.2s\n",
      "[CV] END max_depth=15, max_features=squrt, min_samples_leaf=1, min_samples_split=5, n_estimators=1000; total time=   0.2s\n",
      "[CV] END max_depth=15, max_features=squrt, min_samples_leaf=1, min_samples_split=5, n_estimators=1000; total time=   0.1s\n",
      "[CV] END max_depth=15, max_features=squrt, min_samples_leaf=1, min_samples_split=5, n_estimators=1000; total time=   0.2s\n",
      "[CV] END max_depth=15, max_features=squrt, min_samples_leaf=2, min_samples_split=2, n_estimators=1000; total time=   0.2s\n",
      "[CV] END max_depth=15, max_features=squrt, min_samples_leaf=2, min_samples_split=2, n_estimators=1000; total time=   0.2s\n",
      "[CV] END max_depth=15, max_features=squrt, min_samples_leaf=2, min_samples_split=2, n_estimators=1000; total time=   0.2s\n",
      "[CV] END max_depth=15, max_features=squrt, min_samples_leaf=2, min_samples_split=2, n_estimators=1000; total time=   0.2s\n",
      "[CV] END max_depth=15, max_features=squrt, min_samples_leaf=2, min_samples_split=2, n_estimators=1000; total time=   0.2s\n",
      "[CV] END max_depth=25, max_features=squrt, min_samples_leaf=10, min_samples_split=10, n_estimators=1200; total time=   0.2s\n",
      "[CV] END max_depth=25, max_features=squrt, min_samples_leaf=10, min_samples_split=10, n_estimators=1200; total time=   0.2s\n",
      "[CV] END max_depth=25, max_features=squrt, min_samples_leaf=10, min_samples_split=10, n_estimators=1200; total time=   0.2s\n",
      "[CV] END max_depth=25, max_features=squrt, min_samples_leaf=10, min_samples_split=10, n_estimators=1200; total time=   0.2s\n",
      "[CV] END max_depth=25, max_features=squrt, min_samples_leaf=10, min_samples_split=10, n_estimators=1200; total time=   0.2s\n",
      "[CV] END max_depth=20, max_features=squrt, min_samples_leaf=2, min_samples_split=15, n_estimators=300; total time=   0.0s\n",
      "[CV] END max_depth=20, max_features=squrt, min_samples_leaf=2, min_samples_split=15, n_estimators=300; total time=   0.0s\n",
      "[CV] END max_depth=20, max_features=squrt, min_samples_leaf=2, min_samples_split=15, n_estimators=300; total time=   0.0s\n",
      "[CV] END max_depth=20, max_features=squrt, min_samples_leaf=2, min_samples_split=15, n_estimators=300; total time=   0.0s\n",
      "[CV] END max_depth=20, max_features=squrt, min_samples_leaf=2, min_samples_split=15, n_estimators=300; total time=   0.0s\n",
      "[CV] END max_depth=20, max_features=auto, min_samples_leaf=2, min_samples_split=5, n_estimators=600; total time=   1.2s\n",
      "[CV] END max_depth=20, max_features=auto, min_samples_leaf=2, min_samples_split=5, n_estimators=600; total time=   1.2s\n",
      "[CV] END max_depth=20, max_features=auto, min_samples_leaf=2, min_samples_split=5, n_estimators=600; total time=   1.2s\n",
      "[CV] END max_depth=20, max_features=auto, min_samples_leaf=2, min_samples_split=5, n_estimators=600; total time=   1.3s\n",
      "[CV] END max_depth=20, max_features=auto, min_samples_leaf=2, min_samples_split=5, n_estimators=600; total time=   1.2s\n",
      "[CV] END max_depth=25, max_features=auto, min_samples_leaf=2, min_samples_split=5, n_estimators=1100; total time=   2.2s\n",
      "[CV] END max_depth=25, max_features=auto, min_samples_leaf=2, min_samples_split=5, n_estimators=1100; total time=   2.3s\n",
      "[CV] END max_depth=25, max_features=auto, min_samples_leaf=2, min_samples_split=5, n_estimators=1100; total time=   2.3s\n",
      "[CV] END max_depth=25, max_features=auto, min_samples_leaf=2, min_samples_split=5, n_estimators=1100; total time=   2.2s\n",
      "[CV] END max_depth=25, max_features=auto, min_samples_leaf=2, min_samples_split=5, n_estimators=1100; total time=   2.3s\n"
     ]
    },
    {
     "name": "stdout",
     "output_type": "stream",
     "text": [
      "[CV] END max_depth=15, max_features=auto, min_samples_leaf=1, min_samples_split=100, n_estimators=300; total time=   0.3s\n",
      "[CV] END max_depth=15, max_features=auto, min_samples_leaf=1, min_samples_split=100, n_estimators=300; total time=   0.3s\n",
      "[CV] END max_depth=15, max_features=auto, min_samples_leaf=1, min_samples_split=100, n_estimators=300; total time=   0.3s\n",
      "[CV] END max_depth=15, max_features=auto, min_samples_leaf=1, min_samples_split=100, n_estimators=300; total time=   0.3s\n",
      "[CV] END max_depth=15, max_features=auto, min_samples_leaf=1, min_samples_split=100, n_estimators=300; total time=   0.3s\n",
      "[CV] END max_depth=20, max_features=squrt, min_samples_leaf=2, min_samples_split=5, n_estimators=100; total time=   0.0s\n",
      "[CV] END max_depth=20, max_features=squrt, min_samples_leaf=2, min_samples_split=5, n_estimators=100; total time=   0.0s\n",
      "[CV] END max_depth=20, max_features=squrt, min_samples_leaf=2, min_samples_split=5, n_estimators=100; total time=   0.0s\n",
      "[CV] END max_depth=20, max_features=squrt, min_samples_leaf=2, min_samples_split=5, n_estimators=100; total time=   0.0s\n",
      "[CV] END max_depth=20, max_features=squrt, min_samples_leaf=2, min_samples_split=5, n_estimators=100; total time=   0.0s\n",
      "[CV] END max_depth=20, max_features=squrt, min_samples_leaf=10, min_samples_split=100, n_estimators=700; total time=   0.1s\n",
      "[CV] END max_depth=20, max_features=squrt, min_samples_leaf=10, min_samples_split=100, n_estimators=700; total time=   0.1s\n",
      "[CV] END max_depth=20, max_features=squrt, min_samples_leaf=10, min_samples_split=100, n_estimators=700; total time=   0.1s\n",
      "[CV] END max_depth=20, max_features=squrt, min_samples_leaf=10, min_samples_split=100, n_estimators=700; total time=   0.1s\n",
      "[CV] END max_depth=20, max_features=squrt, min_samples_leaf=10, min_samples_split=100, n_estimators=700; total time=   0.1s\n",
      "[CV] END max_depth=15, max_features=squrt, min_samples_leaf=10, min_samples_split=100, n_estimators=200; total time=   0.0s\n",
      "[CV] END max_depth=15, max_features=squrt, min_samples_leaf=10, min_samples_split=100, n_estimators=200; total time=   0.0s\n",
      "[CV] END max_depth=15, max_features=squrt, min_samples_leaf=10, min_samples_split=100, n_estimators=200; total time=   0.0s\n",
      "[CV] END max_depth=15, max_features=squrt, min_samples_leaf=10, min_samples_split=100, n_estimators=200; total time=   0.0s\n",
      "[CV] END max_depth=15, max_features=squrt, min_samples_leaf=10, min_samples_split=100, n_estimators=200; total time=   0.0s\n",
      "[CV] END max_depth=20, max_features=auto, min_samples_leaf=5, min_samples_split=2, n_estimators=500; total time=   0.8s\n",
      "[CV] END max_depth=20, max_features=auto, min_samples_leaf=5, min_samples_split=2, n_estimators=500; total time=   0.8s\n",
      "[CV] END max_depth=20, max_features=auto, min_samples_leaf=5, min_samples_split=2, n_estimators=500; total time=   0.8s\n",
      "[CV] END max_depth=20, max_features=auto, min_samples_leaf=5, min_samples_split=2, n_estimators=500; total time=   0.8s\n",
      "[CV] END max_depth=20, max_features=auto, min_samples_leaf=5, min_samples_split=2, n_estimators=500; total time=   0.8s\n",
      "[CV] END max_depth=25, max_features=squrt, min_samples_leaf=10, min_samples_split=10, n_estimators=900; total time=   0.1s\n",
      "[CV] END max_depth=25, max_features=squrt, min_samples_leaf=10, min_samples_split=10, n_estimators=900; total time=   0.1s\n",
      "[CV] END max_depth=25, max_features=squrt, min_samples_leaf=10, min_samples_split=10, n_estimators=900; total time=   0.1s\n",
      "[CV] END max_depth=25, max_features=squrt, min_samples_leaf=10, min_samples_split=10, n_estimators=900; total time=   0.1s\n",
      "[CV] END max_depth=25, max_features=squrt, min_samples_leaf=10, min_samples_split=10, n_estimators=900; total time=   0.1s\n",
      "[CV] END max_depth=30, max_features=auto, min_samples_leaf=5, min_samples_split=15, n_estimators=1200; total time=   2.0s\n",
      "[CV] END max_depth=30, max_features=auto, min_samples_leaf=5, min_samples_split=15, n_estimators=1200; total time=   2.0s\n",
      "[CV] END max_depth=30, max_features=auto, min_samples_leaf=5, min_samples_split=15, n_estimators=1200; total time=   2.0s\n",
      "[CV] END max_depth=30, max_features=auto, min_samples_leaf=5, min_samples_split=15, n_estimators=1200; total time=   2.0s\n",
      "[CV] END max_depth=30, max_features=auto, min_samples_leaf=5, min_samples_split=15, n_estimators=1200; total time=   2.0s\n",
      "[CV] END max_depth=25, max_features=auto, min_samples_leaf=1, min_samples_split=10, n_estimators=900; total time=   1.7s\n",
      "[CV] END max_depth=25, max_features=auto, min_samples_leaf=1, min_samples_split=10, n_estimators=900; total time=   1.7s\n",
      "[CV] END max_depth=25, max_features=auto, min_samples_leaf=1, min_samples_split=10, n_estimators=900; total time=   1.7s\n",
      "[CV] END max_depth=25, max_features=auto, min_samples_leaf=1, min_samples_split=10, n_estimators=900; total time=   1.7s\n",
      "[CV] END max_depth=25, max_features=auto, min_samples_leaf=1, min_samples_split=10, n_estimators=900; total time=   1.7s\n",
      "[CV] END max_depth=10, max_features=squrt, min_samples_leaf=5, min_samples_split=5, n_estimators=600; total time=   0.1s\n",
      "[CV] END max_depth=10, max_features=squrt, min_samples_leaf=5, min_samples_split=5, n_estimators=600; total time=   0.1s\n",
      "[CV] END max_depth=10, max_features=squrt, min_samples_leaf=5, min_samples_split=5, n_estimators=600; total time=   0.1s\n",
      "[CV] END max_depth=10, max_features=squrt, min_samples_leaf=5, min_samples_split=5, n_estimators=600; total time=   0.1s\n",
      "[CV] END max_depth=10, max_features=squrt, min_samples_leaf=5, min_samples_split=5, n_estimators=600; total time=   0.1s\n",
      "[CV] END max_depth=25, max_features=squrt, min_samples_leaf=5, min_samples_split=5, n_estimators=800; total time=   0.1s\n",
      "[CV] END max_depth=25, max_features=squrt, min_samples_leaf=5, min_samples_split=5, n_estimators=800; total time=   0.1s\n",
      "[CV] END max_depth=25, max_features=squrt, min_samples_leaf=5, min_samples_split=5, n_estimators=800; total time=   0.1s\n",
      "[CV] END max_depth=25, max_features=squrt, min_samples_leaf=5, min_samples_split=5, n_estimators=800; total time=   0.1s\n",
      "[CV] END max_depth=25, max_features=squrt, min_samples_leaf=5, min_samples_split=5, n_estimators=800; total time=   0.1s\n",
      "[CV] END max_depth=5, max_features=auto, min_samples_leaf=5, min_samples_split=2, n_estimators=500; total time=   0.6s\n",
      "[CV] END max_depth=5, max_features=auto, min_samples_leaf=5, min_samples_split=2, n_estimators=500; total time=   0.7s\n",
      "[CV] END max_depth=5, max_features=auto, min_samples_leaf=5, min_samples_split=2, n_estimators=500; total time=   0.7s\n",
      "[CV] END max_depth=5, max_features=auto, min_samples_leaf=5, min_samples_split=2, n_estimators=500; total time=   0.7s\n",
      "[CV] END max_depth=5, max_features=auto, min_samples_leaf=5, min_samples_split=2, n_estimators=500; total time=   0.7s\n",
      "[CV] END max_depth=25, max_features=squrt, min_samples_leaf=2, min_samples_split=100, n_estimators=800; total time=   0.1s\n",
      "[CV] END max_depth=25, max_features=squrt, min_samples_leaf=2, min_samples_split=100, n_estimators=800; total time=   0.1s\n",
      "[CV] END max_depth=25, max_features=squrt, min_samples_leaf=2, min_samples_split=100, n_estimators=800; total time=   0.1s\n",
      "[CV] END max_depth=25, max_features=squrt, min_samples_leaf=2, min_samples_split=100, n_estimators=800; total time=   0.1s\n",
      "[CV] END max_depth=25, max_features=squrt, min_samples_leaf=2, min_samples_split=100, n_estimators=800; total time=   0.1s\n",
      "[CV] END max_depth=30, max_features=squrt, min_samples_leaf=5, min_samples_split=2, n_estimators=1200; total time=   0.2s\n",
      "[CV] END max_depth=30, max_features=squrt, min_samples_leaf=5, min_samples_split=2, n_estimators=1200; total time=   0.2s\n",
      "[CV] END max_depth=30, max_features=squrt, min_samples_leaf=5, min_samples_split=2, n_estimators=1200; total time=   0.2s\n",
      "[CV] END max_depth=30, max_features=squrt, min_samples_leaf=5, min_samples_split=2, n_estimators=1200; total time=   0.2s\n",
      "[CV] END max_depth=30, max_features=squrt, min_samples_leaf=5, min_samples_split=2, n_estimators=1200; total time=   0.2s\n",
      "[CV] END max_depth=30, max_features=squrt, min_samples_leaf=1, min_samples_split=10, n_estimators=600; total time=   0.1s\n",
      "[CV] END max_depth=30, max_features=squrt, min_samples_leaf=1, min_samples_split=10, n_estimators=600; total time=   0.1s\n",
      "[CV] END max_depth=30, max_features=squrt, min_samples_leaf=1, min_samples_split=10, n_estimators=600; total time=   0.1s\n"
     ]
    },
    {
     "name": "stdout",
     "output_type": "stream",
     "text": [
      "[CV] END max_depth=30, max_features=squrt, min_samples_leaf=1, min_samples_split=10, n_estimators=600; total time=   0.1s\n",
      "[CV] END max_depth=30, max_features=squrt, min_samples_leaf=1, min_samples_split=10, n_estimators=600; total time=   0.1s\n",
      "[CV] END max_depth=20, max_features=auto, min_samples_leaf=1, min_samples_split=10, n_estimators=900; total time=   1.7s\n",
      "[CV] END max_depth=20, max_features=auto, min_samples_leaf=1, min_samples_split=10, n_estimators=900; total time=   1.7s\n",
      "[CV] END max_depth=20, max_features=auto, min_samples_leaf=1, min_samples_split=10, n_estimators=900; total time=   1.7s\n",
      "[CV] END max_depth=20, max_features=auto, min_samples_leaf=1, min_samples_split=10, n_estimators=900; total time=   1.7s\n",
      "[CV] END max_depth=20, max_features=auto, min_samples_leaf=1, min_samples_split=10, n_estimators=900; total time=   1.7s\n",
      "[CV] END max_depth=15, max_features=squrt, min_samples_leaf=5, min_samples_split=2, n_estimators=200; total time=   0.0s\n",
      "[CV] END max_depth=15, max_features=squrt, min_samples_leaf=5, min_samples_split=2, n_estimators=200; total time=   0.0s\n",
      "[CV] END max_depth=15, max_features=squrt, min_samples_leaf=5, min_samples_split=2, n_estimators=200; total time=   0.0s\n",
      "[CV] END max_depth=15, max_features=squrt, min_samples_leaf=5, min_samples_split=2, n_estimators=200; total time=   0.0s\n",
      "[CV] END max_depth=15, max_features=squrt, min_samples_leaf=5, min_samples_split=2, n_estimators=200; total time=   0.0s\n",
      "[CV] END max_depth=25, max_features=squrt, min_samples_leaf=10, min_samples_split=10, n_estimators=700; total time=   0.1s\n",
      "[CV] END max_depth=25, max_features=squrt, min_samples_leaf=10, min_samples_split=10, n_estimators=700; total time=   0.1s\n",
      "[CV] END max_depth=25, max_features=squrt, min_samples_leaf=10, min_samples_split=10, n_estimators=700; total time=   0.1s\n",
      "[CV] END max_depth=25, max_features=squrt, min_samples_leaf=10, min_samples_split=10, n_estimators=700; total time=   0.1s\n",
      "[CV] END max_depth=25, max_features=squrt, min_samples_leaf=10, min_samples_split=10, n_estimators=700; total time=   0.1s\n",
      "[CV] END max_depth=15, max_features=squrt, min_samples_leaf=10, min_samples_split=10, n_estimators=200; total time=   0.0s\n",
      "[CV] END max_depth=15, max_features=squrt, min_samples_leaf=10, min_samples_split=10, n_estimators=200; total time=   0.0s\n",
      "[CV] END max_depth=15, max_features=squrt, min_samples_leaf=10, min_samples_split=10, n_estimators=200; total time=   0.0s\n",
      "[CV] END max_depth=15, max_features=squrt, min_samples_leaf=10, min_samples_split=10, n_estimators=200; total time=   0.0s\n",
      "[CV] END max_depth=15, max_features=squrt, min_samples_leaf=10, min_samples_split=10, n_estimators=200; total time=   0.0s\n",
      "[CV] END max_depth=25, max_features=auto, min_samples_leaf=2, min_samples_split=100, n_estimators=200; total time=   0.2s\n",
      "[CV] END max_depth=25, max_features=auto, min_samples_leaf=2, min_samples_split=100, n_estimators=200; total time=   0.2s\n",
      "[CV] END max_depth=25, max_features=auto, min_samples_leaf=2, min_samples_split=100, n_estimators=200; total time=   0.2s\n",
      "[CV] END max_depth=25, max_features=auto, min_samples_leaf=2, min_samples_split=100, n_estimators=200; total time=   0.2s\n",
      "[CV] END max_depth=25, max_features=auto, min_samples_leaf=2, min_samples_split=100, n_estimators=200; total time=   0.2s\n",
      "[CV] END max_depth=20, max_features=squrt, min_samples_leaf=5, min_samples_split=2, n_estimators=400; total time=   0.0s\n",
      "[CV] END max_depth=20, max_features=squrt, min_samples_leaf=5, min_samples_split=2, n_estimators=400; total time=   0.0s\n",
      "[CV] END max_depth=20, max_features=squrt, min_samples_leaf=5, min_samples_split=2, n_estimators=400; total time=   0.0s\n",
      "[CV] END max_depth=20, max_features=squrt, min_samples_leaf=5, min_samples_split=2, n_estimators=400; total time=   0.0s\n",
      "[CV] END max_depth=20, max_features=squrt, min_samples_leaf=5, min_samples_split=2, n_estimators=400; total time=   0.0s\n",
      "[CV] END max_depth=5, max_features=squrt, min_samples_leaf=1, min_samples_split=100, n_estimators=900; total time=   0.2s\n",
      "[CV] END max_depth=5, max_features=squrt, min_samples_leaf=1, min_samples_split=100, n_estimators=900; total time=   0.1s\n",
      "[CV] END max_depth=5, max_features=squrt, min_samples_leaf=1, min_samples_split=100, n_estimators=900; total time=   0.1s\n",
      "[CV] END max_depth=5, max_features=squrt, min_samples_leaf=1, min_samples_split=100, n_estimators=900; total time=   0.1s\n",
      "[CV] END max_depth=5, max_features=squrt, min_samples_leaf=1, min_samples_split=100, n_estimators=900; total time=   0.2s\n",
      "[CV] END max_depth=30, max_features=squrt, min_samples_leaf=1, min_samples_split=100, n_estimators=900; total time=   0.2s\n",
      "[CV] END max_depth=30, max_features=squrt, min_samples_leaf=1, min_samples_split=100, n_estimators=900; total time=   0.2s\n",
      "[CV] END max_depth=30, max_features=squrt, min_samples_leaf=1, min_samples_split=100, n_estimators=900; total time=   0.1s\n",
      "[CV] END max_depth=30, max_features=squrt, min_samples_leaf=1, min_samples_split=100, n_estimators=900; total time=   0.1s\n",
      "[CV] END max_depth=30, max_features=squrt, min_samples_leaf=1, min_samples_split=100, n_estimators=900; total time=   0.2s\n",
      "[CV] END max_depth=15, max_features=squrt, min_samples_leaf=1, min_samples_split=5, n_estimators=200; total time=   0.0s\n",
      "[CV] END max_depth=15, max_features=squrt, min_samples_leaf=1, min_samples_split=5, n_estimators=200; total time=   0.0s\n",
      "[CV] END max_depth=15, max_features=squrt, min_samples_leaf=1, min_samples_split=5, n_estimators=200; total time=   0.0s\n",
      "[CV] END max_depth=15, max_features=squrt, min_samples_leaf=1, min_samples_split=5, n_estimators=200; total time=   0.0s\n",
      "[CV] END max_depth=15, max_features=squrt, min_samples_leaf=1, min_samples_split=5, n_estimators=200; total time=   0.0s\n",
      "[CV] END max_depth=20, max_features=squrt, min_samples_leaf=5, min_samples_split=100, n_estimators=300; total time=   0.0s\n",
      "[CV] END max_depth=20, max_features=squrt, min_samples_leaf=5, min_samples_split=100, n_estimators=300; total time=   0.0s\n",
      "[CV] END max_depth=20, max_features=squrt, min_samples_leaf=5, min_samples_split=100, n_estimators=300; total time=   0.0s\n",
      "[CV] END max_depth=20, max_features=squrt, min_samples_leaf=5, min_samples_split=100, n_estimators=300; total time=   0.0s\n",
      "[CV] END max_depth=20, max_features=squrt, min_samples_leaf=5, min_samples_split=100, n_estimators=300; total time=   0.0s\n",
      "[CV] END max_depth=30, max_features=squrt, min_samples_leaf=1, min_samples_split=10, n_estimators=400; total time=   0.0s\n",
      "[CV] END max_depth=30, max_features=squrt, min_samples_leaf=1, min_samples_split=10, n_estimators=400; total time=   0.0s\n",
      "[CV] END max_depth=30, max_features=squrt, min_samples_leaf=1, min_samples_split=10, n_estimators=400; total time=   0.0s\n",
      "[CV] END max_depth=30, max_features=squrt, min_samples_leaf=1, min_samples_split=10, n_estimators=400; total time=   0.0s\n",
      "[CV] END max_depth=30, max_features=squrt, min_samples_leaf=1, min_samples_split=10, n_estimators=400; total time=   0.0s\n",
      "[CV] END max_depth=20, max_features=auto, min_samples_leaf=5, min_samples_split=10, n_estimators=300; total time=   0.4s\n",
      "[CV] END max_depth=20, max_features=auto, min_samples_leaf=5, min_samples_split=10, n_estimators=300; total time=   0.5s\n",
      "[CV] END max_depth=20, max_features=auto, min_samples_leaf=5, min_samples_split=10, n_estimators=300; total time=   0.5s\n",
      "[CV] END max_depth=20, max_features=auto, min_samples_leaf=5, min_samples_split=10, n_estimators=300; total time=   0.5s\n",
      "[CV] END max_depth=20, max_features=auto, min_samples_leaf=5, min_samples_split=10, n_estimators=300; total time=   0.5s\n",
      "[CV] END max_depth=30, max_features=squrt, min_samples_leaf=2, min_samples_split=5, n_estimators=200; total time=   0.0s\n",
      "[CV] END max_depth=30, max_features=squrt, min_samples_leaf=2, min_samples_split=5, n_estimators=200; total time=   0.0s\n",
      "[CV] END max_depth=30, max_features=squrt, min_samples_leaf=2, min_samples_split=5, n_estimators=200; total time=   0.0s\n",
      "[CV] END max_depth=30, max_features=squrt, min_samples_leaf=2, min_samples_split=5, n_estimators=200; total time=   0.0s\n",
      "[CV] END max_depth=30, max_features=squrt, min_samples_leaf=2, min_samples_split=5, n_estimators=200; total time=   0.0s\n",
      "[CV] END max_depth=30, max_features=squrt, min_samples_leaf=5, min_samples_split=10, n_estimators=400; total time=   0.0s\n"
     ]
    },
    {
     "name": "stdout",
     "output_type": "stream",
     "text": [
      "[CV] END max_depth=30, max_features=squrt, min_samples_leaf=5, min_samples_split=10, n_estimators=400; total time=   0.0s\n",
      "[CV] END max_depth=30, max_features=squrt, min_samples_leaf=5, min_samples_split=10, n_estimators=400; total time=   0.0s\n",
      "[CV] END max_depth=30, max_features=squrt, min_samples_leaf=5, min_samples_split=10, n_estimators=400; total time=   0.0s\n",
      "[CV] END max_depth=30, max_features=squrt, min_samples_leaf=5, min_samples_split=10, n_estimators=400; total time=   0.0s\n",
      "[CV] END max_depth=10, max_features=squrt, min_samples_leaf=10, min_samples_split=2, n_estimators=1200; total time=   0.2s\n",
      "[CV] END max_depth=10, max_features=squrt, min_samples_leaf=10, min_samples_split=2, n_estimators=1200; total time=   0.2s\n",
      "[CV] END max_depth=10, max_features=squrt, min_samples_leaf=10, min_samples_split=2, n_estimators=1200; total time=   0.7s\n",
      "[CV] END max_depth=10, max_features=squrt, min_samples_leaf=10, min_samples_split=2, n_estimators=1200; total time=   0.6s\n",
      "[CV] END max_depth=10, max_features=squrt, min_samples_leaf=10, min_samples_split=2, n_estimators=1200; total time=   0.7s\n",
      "[CV] END max_depth=10, max_features=auto, min_samples_leaf=2, min_samples_split=10, n_estimators=100; total time=   0.4s\n",
      "[CV] END max_depth=10, max_features=auto, min_samples_leaf=2, min_samples_split=10, n_estimators=100; total time=   0.4s\n",
      "[CV] END max_depth=10, max_features=auto, min_samples_leaf=2, min_samples_split=10, n_estimators=100; total time=   0.5s\n",
      "[CV] END max_depth=10, max_features=auto, min_samples_leaf=2, min_samples_split=10, n_estimators=100; total time=   0.6s\n",
      "[CV] END max_depth=10, max_features=auto, min_samples_leaf=2, min_samples_split=10, n_estimators=100; total time=   0.4s\n",
      "[CV] END max_depth=30, max_features=auto, min_samples_leaf=2, min_samples_split=2, n_estimators=200; total time=   1.0s\n",
      "[CV] END max_depth=30, max_features=auto, min_samples_leaf=2, min_samples_split=2, n_estimators=200; total time=   0.4s\n",
      "[CV] END max_depth=30, max_features=auto, min_samples_leaf=2, min_samples_split=2, n_estimators=200; total time=   0.4s\n",
      "[CV] END max_depth=30, max_features=auto, min_samples_leaf=2, min_samples_split=2, n_estimators=200; total time=   0.4s\n",
      "[CV] END max_depth=30, max_features=auto, min_samples_leaf=2, min_samples_split=2, n_estimators=200; total time=   0.4s\n",
      "[CV] END max_depth=15, max_features=squrt, min_samples_leaf=10, min_samples_split=5, n_estimators=400; total time=   0.0s\n",
      "[CV] END max_depth=15, max_features=squrt, min_samples_leaf=10, min_samples_split=5, n_estimators=400; total time=   0.0s\n",
      "[CV] END max_depth=15, max_features=squrt, min_samples_leaf=10, min_samples_split=5, n_estimators=400; total time=   0.0s\n",
      "[CV] END max_depth=15, max_features=squrt, min_samples_leaf=10, min_samples_split=5, n_estimators=400; total time=   0.0s\n",
      "[CV] END max_depth=15, max_features=squrt, min_samples_leaf=10, min_samples_split=5, n_estimators=400; total time=   0.0s\n",
      "[CV] END max_depth=15, max_features=auto, min_samples_leaf=1, min_samples_split=15, n_estimators=1000; total time=   2.1s\n",
      "[CV] END max_depth=15, max_features=auto, min_samples_leaf=1, min_samples_split=15, n_estimators=1000; total time=   2.0s\n",
      "[CV] END max_depth=15, max_features=auto, min_samples_leaf=1, min_samples_split=15, n_estimators=1000; total time=   3.3s\n",
      "[CV] END max_depth=15, max_features=auto, min_samples_leaf=1, min_samples_split=15, n_estimators=1000; total time=   1.9s\n",
      "[CV] END max_depth=15, max_features=auto, min_samples_leaf=1, min_samples_split=15, n_estimators=1000; total time=   1.8s\n",
      "[CV] END max_depth=5, max_features=squrt, min_samples_leaf=10, min_samples_split=100, n_estimators=1100; total time=   0.2s\n",
      "[CV] END max_depth=5, max_features=squrt, min_samples_leaf=10, min_samples_split=100, n_estimators=1100; total time=   0.2s\n",
      "[CV] END max_depth=5, max_features=squrt, min_samples_leaf=10, min_samples_split=100, n_estimators=1100; total time=   0.2s\n",
      "[CV] END max_depth=5, max_features=squrt, min_samples_leaf=10, min_samples_split=100, n_estimators=1100; total time=   0.2s\n",
      "[CV] END max_depth=5, max_features=squrt, min_samples_leaf=10, min_samples_split=100, n_estimators=1100; total time=   0.2s\n",
      "[CV] END max_depth=30, max_features=auto, min_samples_leaf=5, min_samples_split=100, n_estimators=900; total time=   2.9s\n",
      "[CV] END max_depth=30, max_features=auto, min_samples_leaf=5, min_samples_split=100, n_estimators=900; total time=   2.9s\n",
      "[CV] END max_depth=30, max_features=auto, min_samples_leaf=5, min_samples_split=100, n_estimators=900; total time=   1.2s\n",
      "[CV] END max_depth=30, max_features=auto, min_samples_leaf=5, min_samples_split=100, n_estimators=900; total time=   1.1s\n",
      "[CV] END max_depth=30, max_features=auto, min_samples_leaf=5, min_samples_split=100, n_estimators=900; total time=   1.1s\n",
      "[CV] END max_depth=15, max_features=squrt, min_samples_leaf=5, min_samples_split=100, n_estimators=300; total time=   0.0s\n",
      "[CV] END max_depth=15, max_features=squrt, min_samples_leaf=5, min_samples_split=100, n_estimators=300; total time=   0.0s\n",
      "[CV] END max_depth=15, max_features=squrt, min_samples_leaf=5, min_samples_split=100, n_estimators=300; total time=   0.0s\n",
      "[CV] END max_depth=15, max_features=squrt, min_samples_leaf=5, min_samples_split=100, n_estimators=300; total time=   0.0s\n",
      "[CV] END max_depth=15, max_features=squrt, min_samples_leaf=5, min_samples_split=100, n_estimators=300; total time=   0.0s\n",
      "[CV] END max_depth=10, max_features=squrt, min_samples_leaf=1, min_samples_split=15, n_estimators=1200; total time=   0.2s\n",
      "[CV] END max_depth=10, max_features=squrt, min_samples_leaf=1, min_samples_split=15, n_estimators=1200; total time=   0.2s\n",
      "[CV] END max_depth=10, max_features=squrt, min_samples_leaf=1, min_samples_split=15, n_estimators=1200; total time=   0.2s\n",
      "[CV] END max_depth=10, max_features=squrt, min_samples_leaf=1, min_samples_split=15, n_estimators=1200; total time=   0.2s\n",
      "[CV] END max_depth=10, max_features=squrt, min_samples_leaf=1, min_samples_split=15, n_estimators=1200; total time=   0.2s\n",
      "[CV] END max_depth=10, max_features=squrt, min_samples_leaf=1, min_samples_split=5, n_estimators=1000; total time=   0.1s\n",
      "[CV] END max_depth=10, max_features=squrt, min_samples_leaf=1, min_samples_split=5, n_estimators=1000; total time=   0.2s\n",
      "[CV] END max_depth=10, max_features=squrt, min_samples_leaf=1, min_samples_split=5, n_estimators=1000; total time=   0.2s\n",
      "[CV] END max_depth=10, max_features=squrt, min_samples_leaf=1, min_samples_split=5, n_estimators=1000; total time=   0.2s\n",
      "[CV] END max_depth=10, max_features=squrt, min_samples_leaf=1, min_samples_split=5, n_estimators=1000; total time=   0.2s\n",
      "[CV] END max_depth=5, max_features=auto, min_samples_leaf=5, min_samples_split=15, n_estimators=700; total time=   0.9s\n",
      "[CV] END max_depth=5, max_features=auto, min_samples_leaf=5, min_samples_split=15, n_estimators=700; total time=   1.0s\n",
      "[CV] END max_depth=5, max_features=auto, min_samples_leaf=5, min_samples_split=15, n_estimators=700; total time=   1.0s\n",
      "[CV] END max_depth=5, max_features=auto, min_samples_leaf=5, min_samples_split=15, n_estimators=700; total time=   0.9s\n",
      "[CV] END max_depth=5, max_features=auto, min_samples_leaf=5, min_samples_split=15, n_estimators=700; total time=   1.0s\n",
      "[CV] END max_depth=25, max_features=squrt, min_samples_leaf=2, min_samples_split=2, n_estimators=200; total time=   0.0s\n",
      "[CV] END max_depth=25, max_features=squrt, min_samples_leaf=2, min_samples_split=2, n_estimators=200; total time=   0.0s\n",
      "[CV] END max_depth=25, max_features=squrt, min_samples_leaf=2, min_samples_split=2, n_estimators=200; total time=   0.0s\n",
      "[CV] END max_depth=25, max_features=squrt, min_samples_leaf=2, min_samples_split=2, n_estimators=200; total time=   0.0s\n",
      "[CV] END max_depth=25, max_features=squrt, min_samples_leaf=2, min_samples_split=2, n_estimators=200; total time=   0.0s\n",
      "[CV] END max_depth=30, max_features=auto, min_samples_leaf=1, min_samples_split=5, n_estimators=700; total time=   1.5s\n",
      "[CV] END max_depth=30, max_features=auto, min_samples_leaf=1, min_samples_split=5, n_estimators=700; total time=   1.5s\n",
      "[CV] END max_depth=30, max_features=auto, min_samples_leaf=1, min_samples_split=5, n_estimators=700; total time=   1.4s\n",
      "[CV] END max_depth=30, max_features=auto, min_samples_leaf=1, min_samples_split=5, n_estimators=700; total time=   1.5s\n"
     ]
    },
    {
     "name": "stdout",
     "output_type": "stream",
     "text": [
      "[CV] END max_depth=30, max_features=auto, min_samples_leaf=1, min_samples_split=5, n_estimators=700; total time=   1.5s\n",
      "[CV] END max_depth=20, max_features=squrt, min_samples_leaf=10, min_samples_split=100, n_estimators=500; total time=   0.0s\n",
      "[CV] END max_depth=20, max_features=squrt, min_samples_leaf=10, min_samples_split=100, n_estimators=500; total time=   0.0s\n",
      "[CV] END max_depth=20, max_features=squrt, min_samples_leaf=10, min_samples_split=100, n_estimators=500; total time=   0.0s\n",
      "[CV] END max_depth=20, max_features=squrt, min_samples_leaf=10, min_samples_split=100, n_estimators=500; total time=   0.0s\n",
      "[CV] END max_depth=20, max_features=squrt, min_samples_leaf=10, min_samples_split=100, n_estimators=500; total time=   0.0s\n",
      "[CV] END max_depth=30, max_features=squrt, min_samples_leaf=10, min_samples_split=2, n_estimators=600; total time=   0.1s\n",
      "[CV] END max_depth=30, max_features=squrt, min_samples_leaf=10, min_samples_split=2, n_estimators=600; total time=   0.1s\n",
      "[CV] END max_depth=30, max_features=squrt, min_samples_leaf=10, min_samples_split=2, n_estimators=600; total time=   0.1s\n",
      "[CV] END max_depth=30, max_features=squrt, min_samples_leaf=10, min_samples_split=2, n_estimators=600; total time=   0.1s\n",
      "[CV] END max_depth=30, max_features=squrt, min_samples_leaf=10, min_samples_split=2, n_estimators=600; total time=   0.1s\n",
      "[CV] END max_depth=10, max_features=squrt, min_samples_leaf=2, min_samples_split=2, n_estimators=1000; total time=   0.1s\n",
      "[CV] END max_depth=10, max_features=squrt, min_samples_leaf=2, min_samples_split=2, n_estimators=1000; total time=   0.2s\n",
      "[CV] END max_depth=10, max_features=squrt, min_samples_leaf=2, min_samples_split=2, n_estimators=1000; total time=   0.2s\n",
      "[CV] END max_depth=10, max_features=squrt, min_samples_leaf=2, min_samples_split=2, n_estimators=1000; total time=   0.2s\n",
      "[CV] END max_depth=10, max_features=squrt, min_samples_leaf=2, min_samples_split=2, n_estimators=1000; total time=   0.2s\n",
      "[CV] END max_depth=5, max_features=auto, min_samples_leaf=10, min_samples_split=5, n_estimators=500; total time=   0.6s\n",
      "[CV] END max_depth=5, max_features=auto, min_samples_leaf=10, min_samples_split=5, n_estimators=500; total time=   0.6s\n",
      "[CV] END max_depth=5, max_features=auto, min_samples_leaf=10, min_samples_split=5, n_estimators=500; total time=   0.7s\n",
      "[CV] END max_depth=5, max_features=auto, min_samples_leaf=10, min_samples_split=5, n_estimators=500; total time=   0.6s\n",
      "[CV] END max_depth=5, max_features=auto, min_samples_leaf=10, min_samples_split=5, n_estimators=500; total time=   0.6s\n",
      "[CV] END max_depth=25, max_features=auto, min_samples_leaf=10, min_samples_split=10, n_estimators=700; total time=   1.0s\n",
      "[CV] END max_depth=25, max_features=auto, min_samples_leaf=10, min_samples_split=10, n_estimators=700; total time=   1.0s\n",
      "[CV] END max_depth=25, max_features=auto, min_samples_leaf=10, min_samples_split=10, n_estimators=700; total time=   1.0s\n",
      "[CV] END max_depth=25, max_features=auto, min_samples_leaf=10, min_samples_split=10, n_estimators=700; total time=   1.0s\n",
      "[CV] END max_depth=25, max_features=auto, min_samples_leaf=10, min_samples_split=10, n_estimators=700; total time=   1.0s\n",
      "[CV] END max_depth=30, max_features=squrt, min_samples_leaf=10, min_samples_split=15, n_estimators=1000; total time=   0.1s\n",
      "[CV] END max_depth=30, max_features=squrt, min_samples_leaf=10, min_samples_split=15, n_estimators=1000; total time=   0.2s\n",
      "[CV] END max_depth=30, max_features=squrt, min_samples_leaf=10, min_samples_split=15, n_estimators=1000; total time=   0.2s\n",
      "[CV] END max_depth=30, max_features=squrt, min_samples_leaf=10, min_samples_split=15, n_estimators=1000; total time=   0.2s\n",
      "[CV] END max_depth=30, max_features=squrt, min_samples_leaf=10, min_samples_split=15, n_estimators=1000; total time=   0.1s\n",
      "[CV] END max_depth=20, max_features=squrt, min_samples_leaf=1, min_samples_split=5, n_estimators=600; total time=   0.1s\n",
      "[CV] END max_depth=20, max_features=squrt, min_samples_leaf=1, min_samples_split=5, n_estimators=600; total time=   0.1s\n",
      "[CV] END max_depth=20, max_features=squrt, min_samples_leaf=1, min_samples_split=5, n_estimators=600; total time=   0.1s\n",
      "[CV] END max_depth=20, max_features=squrt, min_samples_leaf=1, min_samples_split=5, n_estimators=600; total time=   0.1s\n",
      "[CV] END max_depth=20, max_features=squrt, min_samples_leaf=1, min_samples_split=5, n_estimators=600; total time=   0.1s\n",
      "[CV] END max_depth=5, max_features=squrt, min_samples_leaf=2, min_samples_split=2, n_estimators=1000; total time=   0.2s\n",
      "[CV] END max_depth=5, max_features=squrt, min_samples_leaf=2, min_samples_split=2, n_estimators=1000; total time=   0.2s\n",
      "[CV] END max_depth=5, max_features=squrt, min_samples_leaf=2, min_samples_split=2, n_estimators=1000; total time=   0.1s\n",
      "[CV] END max_depth=5, max_features=squrt, min_samples_leaf=2, min_samples_split=2, n_estimators=1000; total time=   0.2s\n",
      "[CV] END max_depth=5, max_features=squrt, min_samples_leaf=2, min_samples_split=2, n_estimators=1000; total time=   0.2s\n",
      "[CV] END max_depth=25, max_features=auto, min_samples_leaf=5, min_samples_split=15, n_estimators=900; total time=   1.5s\n",
      "[CV] END max_depth=25, max_features=auto, min_samples_leaf=5, min_samples_split=15, n_estimators=900; total time=   1.5s\n",
      "[CV] END max_depth=25, max_features=auto, min_samples_leaf=5, min_samples_split=15, n_estimators=900; total time=   1.5s\n",
      "[CV] END max_depth=25, max_features=auto, min_samples_leaf=5, min_samples_split=15, n_estimators=900; total time=   1.5s\n",
      "[CV] END max_depth=25, max_features=auto, min_samples_leaf=5, min_samples_split=15, n_estimators=900; total time=   1.5s\n",
      "[CV] END max_depth=20, max_features=squrt, min_samples_leaf=1, min_samples_split=15, n_estimators=1100; total time=   0.2s\n",
      "[CV] END max_depth=20, max_features=squrt, min_samples_leaf=1, min_samples_split=15, n_estimators=1100; total time=   0.2s\n",
      "[CV] END max_depth=20, max_features=squrt, min_samples_leaf=1, min_samples_split=15, n_estimators=1100; total time=   0.2s\n",
      "[CV] END max_depth=20, max_features=squrt, min_samples_leaf=1, min_samples_split=15, n_estimators=1100; total time=   0.2s\n",
      "[CV] END max_depth=20, max_features=squrt, min_samples_leaf=1, min_samples_split=15, n_estimators=1100; total time=   0.2s\n",
      "[CV] END max_depth=10, max_features=squrt, min_samples_leaf=1, min_samples_split=10, n_estimators=1200; total time=   0.2s\n",
      "[CV] END max_depth=10, max_features=squrt, min_samples_leaf=1, min_samples_split=10, n_estimators=1200; total time=   0.2s\n",
      "[CV] END max_depth=10, max_features=squrt, min_samples_leaf=1, min_samples_split=10, n_estimators=1200; total time=   0.2s\n",
      "[CV] END max_depth=10, max_features=squrt, min_samples_leaf=1, min_samples_split=10, n_estimators=1200; total time=   0.2s\n",
      "[CV] END max_depth=10, max_features=squrt, min_samples_leaf=1, min_samples_split=10, n_estimators=1200; total time=   0.2s\n",
      "[CV] END max_depth=5, max_features=squrt, min_samples_leaf=10, min_samples_split=5, n_estimators=500; total time=   0.0s\n",
      "[CV] END max_depth=5, max_features=squrt, min_samples_leaf=10, min_samples_split=5, n_estimators=500; total time=   0.0s\n",
      "[CV] END max_depth=5, max_features=squrt, min_samples_leaf=10, min_samples_split=5, n_estimators=500; total time=   0.0s\n",
      "[CV] END max_depth=5, max_features=squrt, min_samples_leaf=10, min_samples_split=5, n_estimators=500; total time=   0.0s\n",
      "[CV] END max_depth=5, max_features=squrt, min_samples_leaf=10, min_samples_split=5, n_estimators=500; total time=   0.0s\n",
      "[CV] END max_depth=30, max_features=squrt, min_samples_leaf=5, min_samples_split=5, n_estimators=900; total time=   0.1s\n",
      "[CV] END max_depth=30, max_features=squrt, min_samples_leaf=5, min_samples_split=5, n_estimators=900; total time=   0.1s\n",
      "[CV] END max_depth=30, max_features=squrt, min_samples_leaf=5, min_samples_split=5, n_estimators=900; total time=   0.1s\n",
      "[CV] END max_depth=30, max_features=squrt, min_samples_leaf=5, min_samples_split=5, n_estimators=900; total time=   0.1s\n",
      "[CV] END max_depth=30, max_features=squrt, min_samples_leaf=5, min_samples_split=5, n_estimators=900; total time=   0.1s\n",
      "[CV] END max_depth=15, max_features=auto, min_samples_leaf=1, min_samples_split=15, n_estimators=300; total time=   0.5s\n",
      "[CV] END max_depth=15, max_features=auto, min_samples_leaf=1, min_samples_split=15, n_estimators=300; total time=   0.5s\n"
     ]
    },
    {
     "name": "stdout",
     "output_type": "stream",
     "text": [
      "[CV] END max_depth=15, max_features=auto, min_samples_leaf=1, min_samples_split=15, n_estimators=300; total time=   0.5s\n",
      "[CV] END max_depth=15, max_features=auto, min_samples_leaf=1, min_samples_split=15, n_estimators=300; total time=   0.5s\n",
      "[CV] END max_depth=15, max_features=auto, min_samples_leaf=1, min_samples_split=15, n_estimators=300; total time=   0.5s\n",
      "[CV] END max_depth=20, max_features=auto, min_samples_leaf=1, min_samples_split=10, n_estimators=1200; total time=   2.3s\n",
      "[CV] END max_depth=20, max_features=auto, min_samples_leaf=1, min_samples_split=10, n_estimators=1200; total time=   2.4s\n",
      "[CV] END max_depth=20, max_features=auto, min_samples_leaf=1, min_samples_split=10, n_estimators=1200; total time=   2.4s\n",
      "[CV] END max_depth=20, max_features=auto, min_samples_leaf=1, min_samples_split=10, n_estimators=1200; total time=   2.4s\n",
      "[CV] END max_depth=20, max_features=auto, min_samples_leaf=1, min_samples_split=10, n_estimators=1200; total time=   2.3s\n",
      "[CV] END max_depth=5, max_features=squrt, min_samples_leaf=10, min_samples_split=5, n_estimators=200; total time=   0.0s\n",
      "[CV] END max_depth=5, max_features=squrt, min_samples_leaf=10, min_samples_split=5, n_estimators=200; total time=   0.0s\n",
      "[CV] END max_depth=5, max_features=squrt, min_samples_leaf=10, min_samples_split=5, n_estimators=200; total time=   0.0s\n",
      "[CV] END max_depth=5, max_features=squrt, min_samples_leaf=10, min_samples_split=5, n_estimators=200; total time=   0.0s\n",
      "[CV] END max_depth=5, max_features=squrt, min_samples_leaf=10, min_samples_split=5, n_estimators=200; total time=   0.0s\n",
      "[CV] END max_depth=30, max_features=squrt, min_samples_leaf=10, min_samples_split=100, n_estimators=900; total time=   0.1s\n",
      "[CV] END max_depth=30, max_features=squrt, min_samples_leaf=10, min_samples_split=100, n_estimators=900; total time=   0.1s\n",
      "[CV] END max_depth=30, max_features=squrt, min_samples_leaf=10, min_samples_split=100, n_estimators=900; total time=   0.1s\n",
      "[CV] END max_depth=30, max_features=squrt, min_samples_leaf=10, min_samples_split=100, n_estimators=900; total time=   0.1s\n",
      "[CV] END max_depth=30, max_features=squrt, min_samples_leaf=10, min_samples_split=100, n_estimators=900; total time=   0.1s\n",
      "[CV] END max_depth=30, max_features=squrt, min_samples_leaf=2, min_samples_split=100, n_estimators=200; total time=   0.0s\n",
      "[CV] END max_depth=30, max_features=squrt, min_samples_leaf=2, min_samples_split=100, n_estimators=200; total time=   0.0s\n",
      "[CV] END max_depth=30, max_features=squrt, min_samples_leaf=2, min_samples_split=100, n_estimators=200; total time=   0.0s\n",
      "[CV] END max_depth=30, max_features=squrt, min_samples_leaf=2, min_samples_split=100, n_estimators=200; total time=   0.0s\n",
      "[CV] END max_depth=30, max_features=squrt, min_samples_leaf=2, min_samples_split=100, n_estimators=200; total time=   0.0s\n",
      "[CV] END max_depth=5, max_features=auto, min_samples_leaf=5, min_samples_split=100, n_estimators=1100; total time=   1.3s\n",
      "[CV] END max_depth=5, max_features=auto, min_samples_leaf=5, min_samples_split=100, n_estimators=1100; total time=   1.3s\n",
      "[CV] END max_depth=5, max_features=auto, min_samples_leaf=5, min_samples_split=100, n_estimators=1100; total time=   1.3s\n",
      "[CV] END max_depth=5, max_features=auto, min_samples_leaf=5, min_samples_split=100, n_estimators=1100; total time=   1.4s\n",
      "[CV] END max_depth=5, max_features=auto, min_samples_leaf=5, min_samples_split=100, n_estimators=1100; total time=   1.3s\n",
      "[CV] END max_depth=10, max_features=squrt, min_samples_leaf=1, min_samples_split=2, n_estimators=800; total time=   0.1s\n",
      "[CV] END max_depth=10, max_features=squrt, min_samples_leaf=1, min_samples_split=2, n_estimators=800; total time=   0.1s\n",
      "[CV] END max_depth=10, max_features=squrt, min_samples_leaf=1, min_samples_split=2, n_estimators=800; total time=   0.1s\n",
      "[CV] END max_depth=10, max_features=squrt, min_samples_leaf=1, min_samples_split=2, n_estimators=800; total time=   0.1s\n",
      "[CV] END max_depth=10, max_features=squrt, min_samples_leaf=1, min_samples_split=2, n_estimators=800; total time=   0.1s\n",
      "[CV] END max_depth=25, max_features=squrt, min_samples_leaf=5, min_samples_split=2, n_estimators=700; total time=   0.1s\n",
      "[CV] END max_depth=25, max_features=squrt, min_samples_leaf=5, min_samples_split=2, n_estimators=700; total time=   0.1s\n",
      "[CV] END max_depth=25, max_features=squrt, min_samples_leaf=5, min_samples_split=2, n_estimators=700; total time=   0.1s\n",
      "[CV] END max_depth=25, max_features=squrt, min_samples_leaf=5, min_samples_split=2, n_estimators=700; total time=   0.1s\n",
      "[CV] END max_depth=25, max_features=squrt, min_samples_leaf=5, min_samples_split=2, n_estimators=700; total time=   0.1s\n",
      "[CV] END max_depth=5, max_features=squrt, min_samples_leaf=2, min_samples_split=10, n_estimators=100; total time=   0.0s\n",
      "[CV] END max_depth=5, max_features=squrt, min_samples_leaf=2, min_samples_split=10, n_estimators=100; total time=   0.0s\n",
      "[CV] END max_depth=5, max_features=squrt, min_samples_leaf=2, min_samples_split=10, n_estimators=100; total time=   0.0s\n",
      "[CV] END max_depth=5, max_features=squrt, min_samples_leaf=2, min_samples_split=10, n_estimators=100; total time=   0.0s\n",
      "[CV] END max_depth=5, max_features=squrt, min_samples_leaf=2, min_samples_split=10, n_estimators=100; total time=   0.0s\n",
      "[CV] END max_depth=10, max_features=squrt, min_samples_leaf=1, min_samples_split=15, n_estimators=1000; total time=   0.2s\n",
      "[CV] END max_depth=10, max_features=squrt, min_samples_leaf=1, min_samples_split=15, n_estimators=1000; total time=   0.2s\n",
      "[CV] END max_depth=10, max_features=squrt, min_samples_leaf=1, min_samples_split=15, n_estimators=1000; total time=   0.2s\n",
      "[CV] END max_depth=10, max_features=squrt, min_samples_leaf=1, min_samples_split=15, n_estimators=1000; total time=   0.2s\n",
      "[CV] END max_depth=10, max_features=squrt, min_samples_leaf=1, min_samples_split=15, n_estimators=1000; total time=   0.2s\n",
      "[CV] END max_depth=20, max_features=auto, min_samples_leaf=1, min_samples_split=10, n_estimators=500; total time=   1.0s\n",
      "[CV] END max_depth=20, max_features=auto, min_samples_leaf=1, min_samples_split=10, n_estimators=500; total time=   0.9s\n",
      "[CV] END max_depth=20, max_features=auto, min_samples_leaf=1, min_samples_split=10, n_estimators=500; total time=   0.9s\n",
      "[CV] END max_depth=20, max_features=auto, min_samples_leaf=1, min_samples_split=10, n_estimators=500; total time=   0.9s\n",
      "[CV] END max_depth=20, max_features=auto, min_samples_leaf=1, min_samples_split=10, n_estimators=500; total time=   0.9s\n",
      "[CV] END max_depth=20, max_features=squrt, min_samples_leaf=1, min_samples_split=15, n_estimators=200; total time=   0.0s\n",
      "[CV] END max_depth=20, max_features=squrt, min_samples_leaf=1, min_samples_split=15, n_estimators=200; total time=   0.0s\n",
      "[CV] END max_depth=20, max_features=squrt, min_samples_leaf=1, min_samples_split=15, n_estimators=200; total time=   0.0s\n",
      "[CV] END max_depth=20, max_features=squrt, min_samples_leaf=1, min_samples_split=15, n_estimators=200; total time=   0.0s\n",
      "[CV] END max_depth=20, max_features=squrt, min_samples_leaf=1, min_samples_split=15, n_estimators=200; total time=   0.0s\n",
      "[CV] END max_depth=10, max_features=auto, min_samples_leaf=10, min_samples_split=10, n_estimators=1200; total time=   1.8s\n",
      "[CV] END max_depth=10, max_features=auto, min_samples_leaf=10, min_samples_split=10, n_estimators=1200; total time=   1.8s\n",
      "[CV] END max_depth=10, max_features=auto, min_samples_leaf=10, min_samples_split=10, n_estimators=1200; total time=   1.9s\n",
      "[CV] END max_depth=10, max_features=auto, min_samples_leaf=10, min_samples_split=10, n_estimators=1200; total time=   1.8s\n",
      "[CV] END max_depth=10, max_features=auto, min_samples_leaf=10, min_samples_split=10, n_estimators=1200; total time=   1.8s\n",
      "[CV] END max_depth=30, max_features=auto, min_samples_leaf=1, min_samples_split=5, n_estimators=500; total time=   1.0s\n",
      "[CV] END max_depth=30, max_features=auto, min_samples_leaf=1, min_samples_split=5, n_estimators=500; total time=   1.0s\n",
      "[CV] END max_depth=30, max_features=auto, min_samples_leaf=1, min_samples_split=5, n_estimators=500; total time=   1.0s\n",
      "[CV] END max_depth=30, max_features=auto, min_samples_leaf=1, min_samples_split=5, n_estimators=500; total time=   1.0s\n",
      "[CV] END max_depth=30, max_features=auto, min_samples_leaf=1, min_samples_split=5, n_estimators=500; total time=   1.0s\n"
     ]
    },
    {
     "name": "stdout",
     "output_type": "stream",
     "text": [
      "[CV] END max_depth=20, max_features=squrt, min_samples_leaf=10, min_samples_split=100, n_estimators=1100; total time=   0.2s\n",
      "[CV] END max_depth=20, max_features=squrt, min_samples_leaf=10, min_samples_split=100, n_estimators=1100; total time=   0.2s\n",
      "[CV] END max_depth=20, max_features=squrt, min_samples_leaf=10, min_samples_split=100, n_estimators=1100; total time=   0.2s\n",
      "[CV] END max_depth=20, max_features=squrt, min_samples_leaf=10, min_samples_split=100, n_estimators=1100; total time=   0.2s\n",
      "[CV] END max_depth=20, max_features=squrt, min_samples_leaf=10, min_samples_split=100, n_estimators=1100; total time=   0.2s\n",
      "[CV] END max_depth=10, max_features=auto, min_samples_leaf=2, min_samples_split=5, n_estimators=300; total time=   0.5s\n",
      "[CV] END max_depth=10, max_features=auto, min_samples_leaf=2, min_samples_split=5, n_estimators=300; total time=   0.5s\n",
      "[CV] END max_depth=10, max_features=auto, min_samples_leaf=2, min_samples_split=5, n_estimators=300; total time=   0.5s\n",
      "[CV] END max_depth=10, max_features=auto, min_samples_leaf=2, min_samples_split=5, n_estimators=300; total time=   0.5s\n",
      "[CV] END max_depth=10, max_features=auto, min_samples_leaf=2, min_samples_split=5, n_estimators=300; total time=   0.5s\n",
      "[CV] END max_depth=15, max_features=squrt, min_samples_leaf=1, min_samples_split=2, n_estimators=500; total time=   0.0s\n",
      "[CV] END max_depth=15, max_features=squrt, min_samples_leaf=1, min_samples_split=2, n_estimators=500; total time=   0.0s\n",
      "[CV] END max_depth=15, max_features=squrt, min_samples_leaf=1, min_samples_split=2, n_estimators=500; total time=   0.0s\n",
      "[CV] END max_depth=15, max_features=squrt, min_samples_leaf=1, min_samples_split=2, n_estimators=500; total time=   0.0s\n",
      "[CV] END max_depth=15, max_features=squrt, min_samples_leaf=1, min_samples_split=2, n_estimators=500; total time=   0.0s\n",
      "[CV] END max_depth=20, max_features=squrt, min_samples_leaf=2, min_samples_split=2, n_estimators=500; total time=   0.0s\n",
      "[CV] END max_depth=20, max_features=squrt, min_samples_leaf=2, min_samples_split=2, n_estimators=500; total time=   0.0s\n",
      "[CV] END max_depth=20, max_features=squrt, min_samples_leaf=2, min_samples_split=2, n_estimators=500; total time=   0.0s\n",
      "[CV] END max_depth=20, max_features=squrt, min_samples_leaf=2, min_samples_split=2, n_estimators=500; total time=   0.0s\n",
      "[CV] END max_depth=20, max_features=squrt, min_samples_leaf=2, min_samples_split=2, n_estimators=500; total time=   0.0s\n",
      "[CV] END max_depth=20, max_features=squrt, min_samples_leaf=1, min_samples_split=10, n_estimators=700; total time=   0.1s\n",
      "[CV] END max_depth=20, max_features=squrt, min_samples_leaf=1, min_samples_split=10, n_estimators=700; total time=   0.1s\n",
      "[CV] END max_depth=20, max_features=squrt, min_samples_leaf=1, min_samples_split=10, n_estimators=700; total time=   0.1s\n",
      "[CV] END max_depth=20, max_features=squrt, min_samples_leaf=1, min_samples_split=10, n_estimators=700; total time=   0.1s\n",
      "[CV] END max_depth=20, max_features=squrt, min_samples_leaf=1, min_samples_split=10, n_estimators=700; total time=   0.1s\n"
     ]
    },
    {
     "name": "stderr",
     "output_type": "stream",
     "text": [
      "C:\\Users\\BRAG\\anaconda3\\envs\\airquality\\lib\\site-packages\\sklearn\\model_selection\\_validation.py:372: FitFailedWarning: \n",
      "340 fits failed out of a total of 500.\n",
      "The score on these train-test partitions for these parameters will be set to nan.\n",
      "If these failures are not expected, you can try to debug them by setting error_score='raise'.\n",
      "\n",
      "Below are more details about the failures:\n",
      "--------------------------------------------------------------------------------\n",
      "340 fits failed with the following error:\n",
      "Traceback (most recent call last):\n",
      "  File \"C:\\Users\\BRAG\\anaconda3\\envs\\airquality\\lib\\site-packages\\sklearn\\model_selection\\_validation.py\", line 680, in _fit_and_score\n",
      "    estimator.fit(X_train, y_train, **fit_params)\n",
      "  File \"C:\\Users\\BRAG\\anaconda3\\envs\\airquality\\lib\\site-packages\\sklearn\\ensemble\\_forest.py\", line 450, in fit\n",
      "    trees = Parallel(\n",
      "  File \"C:\\Users\\BRAG\\anaconda3\\envs\\airquality\\lib\\site-packages\\joblib\\parallel.py\", line 1043, in __call__\n",
      "    if self.dispatch_one_batch(iterator):\n",
      "  File \"C:\\Users\\BRAG\\anaconda3\\envs\\airquality\\lib\\site-packages\\joblib\\parallel.py\", line 861, in dispatch_one_batch\n",
      "    self._dispatch(tasks)\n",
      "  File \"C:\\Users\\BRAG\\anaconda3\\envs\\airquality\\lib\\site-packages\\joblib\\parallel.py\", line 779, in _dispatch\n",
      "    job = self._backend.apply_async(batch, callback=cb)\n",
      "  File \"C:\\Users\\BRAG\\anaconda3\\envs\\airquality\\lib\\site-packages\\joblib\\_parallel_backends.py\", line 208, in apply_async\n",
      "    result = ImmediateResult(func)\n",
      "  File \"C:\\Users\\BRAG\\anaconda3\\envs\\airquality\\lib\\site-packages\\joblib\\_parallel_backends.py\", line 572, in __init__\n",
      "    self.results = batch()\n",
      "  File \"C:\\Users\\BRAG\\anaconda3\\envs\\airquality\\lib\\site-packages\\joblib\\parallel.py\", line 262, in __call__\n",
      "    return [func(*args, **kwargs)\n",
      "  File \"C:\\Users\\BRAG\\anaconda3\\envs\\airquality\\lib\\site-packages\\joblib\\parallel.py\", line 262, in <listcomp>\n",
      "    return [func(*args, **kwargs)\n",
      "  File \"C:\\Users\\BRAG\\anaconda3\\envs\\airquality\\lib\\site-packages\\sklearn\\utils\\fixes.py\", line 216, in __call__\n",
      "    return self.function(*args, **kwargs)\n",
      "  File \"C:\\Users\\BRAG\\anaconda3\\envs\\airquality\\lib\\site-packages\\sklearn\\ensemble\\_forest.py\", line 185, in _parallel_build_trees\n",
      "    tree.fit(X, y, sample_weight=curr_sample_weight, check_input=False)\n",
      "  File \"C:\\Users\\BRAG\\anaconda3\\envs\\airquality\\lib\\site-packages\\sklearn\\tree\\_classes.py\", line 1315, in fit\n",
      "    super().fit(\n",
      "  File \"C:\\Users\\BRAG\\anaconda3\\envs\\airquality\\lib\\site-packages\\sklearn\\tree\\_classes.py\", line 281, in fit\n",
      "    raise ValueError(\n",
      "ValueError: Invalid value for max_features. Allowed string values are 'auto', 'sqrt' or 'log2'.\n",
      "\n",
      "  warnings.warn(some_fits_failed_message, FitFailedWarning)\n",
      "C:\\Users\\BRAG\\anaconda3\\envs\\airquality\\lib\\site-packages\\sklearn\\model_selection\\_search.py:969: UserWarning: One or more of the test scores are non-finite: [           nan -2930.14425336            nan -2914.07796657\n",
      " -2920.01899179            nan -2935.28339899            nan\n",
      "            nan            nan            nan            nan\n",
      "            nan            nan            nan            nan\n",
      " -2926.72167946 -2944.32504762            nan            nan\n",
      "            nan            nan            nan            nan\n",
      "            nan -2929.78619243 -2922.16365758 -2955.28048698\n",
      "            nan            nan            nan -2919.57686829\n",
      "            nan -2908.9764537  -2931.07740378            nan\n",
      "            nan -2884.72505756            nan            nan\n",
      "            nan -2923.20374285            nan            nan\n",
      "            nan -2935.98539305            nan            nan\n",
      "            nan            nan            nan            nan\n",
      " -2929.93049156            nan            nan            nan\n",
      " -2941.19495341 -2935.02254904            nan -2913.66204663\n",
      "            nan -2936.45991542            nan            nan\n",
      "            nan -2890.88828685            nan -2925.86036053\n",
      "            nan            nan            nan -2897.34355951\n",
      " -2894.98482285            nan            nan            nan\n",
      " -2903.00341925            nan            nan            nan\n",
      "            nan -2933.1914518  -2922.97871804            nan\n",
      "            nan            nan -2938.60063395            nan\n",
      "            nan            nan            nan -2923.8776206\n",
      "            nan -2896.38178698 -2944.51801104            nan\n",
      " -2898.88212916            nan            nan            nan]\n",
      "  warnings.warn(\n"
     ]
    },
    {
     "data": {
      "text/plain": [
       "RandomizedSearchCV(cv=5, estimator=RandomForestRegressor(), n_iter=100,\n",
       "                   param_distributions={'max_depth': [5, 10, 15, 20, 25, 30],\n",
       "                                        'max_features': ['auto', 'squrt'],\n",
       "                                        'min_samples_leaf': [1, 2, 5, 10],\n",
       "                                        'min_samples_split': [2, 5, 10, 15,\n",
       "                                                              100],\n",
       "                                        'n_estimators': [100, 200, 300, 400,\n",
       "                                                         500, 600, 700, 800,\n",
       "                                                         900, 1000, 1100,\n",
       "                                                         1200]},\n",
       "                   random_state=42, scoring='neg_mean_squared_error',\n",
       "                   verbose=2)"
      ]
     },
     "execution_count": 22,
     "metadata": {},
     "output_type": "execute_result"
    }
   ],
   "source": [
    "rf_random.fit(X_train,y_train)"
   ]
  },
  {
   "cell_type": "code",
   "execution_count": 23,
   "id": "f006ede0",
   "metadata": {},
   "outputs": [
    {
     "data": {
      "text/plain": [
       "{'n_estimators': 500,\n",
       " 'min_samples_split': 2,\n",
       " 'min_samples_leaf': 5,\n",
       " 'max_features': 'auto',\n",
       " 'max_depth': 5}"
      ]
     },
     "execution_count": 23,
     "metadata": {},
     "output_type": "execute_result"
    }
   ],
   "source": [
    "rf_random.best_params_"
   ]
  },
  {
   "cell_type": "code",
   "execution_count": 24,
   "id": "6db21774",
   "metadata": {},
   "outputs": [
    {
     "data": {
      "text/plain": [
       "-2884.7250575592216"
      ]
     },
     "execution_count": 24,
     "metadata": {},
     "output_type": "execute_result"
    }
   ],
   "source": [
    "rf_random.best_score_"
   ]
  },
  {
   "cell_type": "code",
   "execution_count": 25,
   "id": "382fac24",
   "metadata": {},
   "outputs": [],
   "source": [
    "prediction=rf_random.predict(X_test)"
   ]
  },
  {
   "cell_type": "code",
   "execution_count": 26,
   "id": "a0a60a76",
   "metadata": {},
   "outputs": [
    {
     "name": "stderr",
     "output_type": "stream",
     "text": [
      "C:\\Users\\BRAG\\anaconda3\\envs\\airquality\\lib\\site-packages\\seaborn\\_decorators.py:36: FutureWarning: Pass the following variables as keyword args: x, y. From version 0.12, the only valid positional argument will be `data`, and passing other arguments without an explicit keyword will result in an error or misinterpretation.\n",
      "  warnings.warn(\n"
     ]
    },
    {
     "data": {
      "text/plain": [
       "<AxesSubplot:xlabel='PM 2.5'>"
      ]
     },
     "execution_count": 26,
     "metadata": {},
     "output_type": "execute_result"
    },
    {
     "data": {
      "image/png": "[encoded data removed]",
      "text/plain": [
       "<Figure size 432x288 with 1 Axes>"
      ]
     },
     "metadata": {
      "needs_background": "light"
     },
     "output_type": "display_data"
    }
   ],
   "source": [
    "# scatterplot\n",
    "\n",
    "sns.scatterplot(y_test,prediction)"
   ]
  },
  {
   "cell_type": "code",
   "execution_count": 27,
   "id": "bbdd62c7",
   "metadata": {},
   "outputs": [
    {
     "name": "stderr",
     "output_type": "stream",
     "text": [
      "C:\\Users\\BRAG\\anaconda3\\envs\\airquality\\lib\\site-packages\\seaborn\\distributions.py:2619: FutureWarning: `distplot` is a deprecated function and will be removed in a future version. Please adapt your code to use either `displot` (a figure-level function with similar flexibility) or `histplot` (an axes-level function for histograms).\n",
      "  warnings.warn(msg, FutureWarning)\n"
     ]
    },
    {
     "data": {
      "text/plain": [
       "<AxesSubplot:xlabel='PM 2.5', ylabel='Density'>"
      ]
     },
     "execution_count": 27,
     "metadata": {},
     "output_type": "execute_result"
    },
    {
     "data": {
      "image/png": "[encoded data removed]",
      "text/plain": [
       "<Figure size 432x288 with 1 Axes>"
      ]
     },
     "metadata": {
      "needs_background": "light"
     },
     "output_type": "display_data"
    }
   ],
   "source": [
    "# distplot\n",
    "\n",
    "sns.distplot(y_test-prediction)"
   ]
  },
  {
   "cell_type": "markdown",
   "id": "2ae94971",
   "metadata": {},
   "source": [
    "### Evaluation metrics"
   ]
  },
  {
   "cell_type": "code",
   "execution_count": 28,
   "id": "73f34d0c",
   "metadata": {},
   "outputs": [
    {
     "name": "stdout",
     "output_type": "stream",
     "text": [
      "MAE: 36.22558767229152\n",
      "MSE: 2688.1736165865\n",
      "RMSE: 51.847599911534\n",
      "r2 score: 0.6246287204294707\n"
     ]
    }
   ],
   "source": [
    "from sklearn.metrics import mean_absolute_error,mean_squared_error,accuracy_score,r2_score\n",
    "\n",
    "print('MAE: {}'.format(mean_absolute_error(y_test,prediction)))\n",
    "print('MSE: {}'.format(mean_squared_error(y_test,prediction)))\n",
    "print('RMSE: {}'.format(np.sqrt(mean_squared_error(y_test,prediction))))\n",
    "print('r2 score: {}'.format(r2_score(y_test,prediction)))"
   ]
  },
  {
   "cell_type": "code",
   "execution_count": 33,
   "id": "475af0fd",
   "metadata": {},
   "outputs": [],
   "source": [
    "# Creating Pickle\n",
    "import pickle\n",
    "\n",
    "file=open('rf_regresser.pkl','wb')\n",
    "pickle.dump(rf_random,file)"
   ]
  },
  {
   "cell_type": "code",
   "execution_count": 34,
   "id": "db93a54b",
   "metadata": {},
   "outputs": [],
   "source": [
    "file.close()"
   ]
  },
  {
   "cell_type": "code",
   "execution_count": null,
   "id": "a802b8fd",
   "metadata": {},
   "outputs": [],
   "source": []
  }
 ],
 "metadata": {
  "kernelspec": {
   "display_name": "Python 3 (ipykernel)",
   "language": "python",
   "name": "python3"
  },
  "language_info": {
   "codemirror_mode": {
    "name": "ipython",
    "version": 3
   },
   "file_extension": ".py",
   "mimetype": "text/x-python",
   "name": "python",
   "nbconvert_exporter": "python",
   "pygments_lexer": "ipython3",
   "version": "3.9.12"
  }
 },
 "nbformat": 4,
 "nbformat_minor": 5
}
