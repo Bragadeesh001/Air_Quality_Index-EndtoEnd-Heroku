{
 "cells": [
  {
   "cell_type": "markdown",
   "id": "75ea82ca",
   "metadata": {},
   "source": [
    "# ANN"
   ]
  },
  {
   "cell_type": "code",
   "execution_count": 2,
   "id": "ab47bd67",
   "metadata": {},
   "outputs": [],
   "source": [
    "# importing the libraries\n",
    "\n",
    "import pandas as pd\n",
    "import numpy as np\n",
    "import matplotlib.pyplot as plt\n",
    "import seaborn as sns"
   ]
  },
  {
   "cell_type": "code",
   "execution_count": 3,
   "id": "cec3c4ea",
   "metadata": {},
   "outputs": [
    {
     "data": {
      "text/html": [
       "<div>\n",
       "<style scoped>\n",
       "    .dataframe tbody tr th:only-of-type {\n",
       "        vertical-align: middle;\n",
       "    }\n",
       "\n",
       "    .dataframe tbody tr th {\n",
       "        vertical-align: top;\n",
       "    }\n",
       "\n",
       "    .dataframe thead th {\n",
       "        text-align: right;\n",
       "    }\n",
       "</style>\n",
       "<table border=\"1\" class=\"dataframe\">\n",
       "  <thead>\n",
       "    <tr style=\"text-align: right;\">\n",
       "      <th></th>\n",
       "      <th>T</th>\n",
       "      <th>TM</th>\n",
       "      <th>SLP</th>\n",
       "      <th>H</th>\n",
       "      <th>W</th>\n",
       "      <th>V</th>\n",
       "      <th>VM</th>\n",
       "      <th>PM 2.5</th>\n",
       "    </tr>\n",
       "  </thead>\n",
       "  <tbody>\n",
       "    <tr>\n",
       "      <th>0</th>\n",
       "      <td>9.8</td>\n",
       "      <td>4.8</td>\n",
       "      <td>1017.6</td>\n",
       "      <td>93.0</td>\n",
       "      <td>0.5</td>\n",
       "      <td>4.3</td>\n",
       "      <td>9.4</td>\n",
       "      <td>219.720833</td>\n",
       "    </tr>\n",
       "    <tr>\n",
       "      <th>1</th>\n",
       "      <td>12.7</td>\n",
       "      <td>4.4</td>\n",
       "      <td>1018.5</td>\n",
       "      <td>87.0</td>\n",
       "      <td>0.6</td>\n",
       "      <td>4.4</td>\n",
       "      <td>11.1</td>\n",
       "      <td>182.187500</td>\n",
       "    </tr>\n",
       "    <tr>\n",
       "      <th>2</th>\n",
       "      <td>13.4</td>\n",
       "      <td>2.4</td>\n",
       "      <td>1019.4</td>\n",
       "      <td>82.0</td>\n",
       "      <td>0.6</td>\n",
       "      <td>4.8</td>\n",
       "      <td>11.1</td>\n",
       "      <td>154.037500</td>\n",
       "    </tr>\n",
       "    <tr>\n",
       "      <th>3</th>\n",
       "      <td>15.5</td>\n",
       "      <td>3.3</td>\n",
       "      <td>1018.7</td>\n",
       "      <td>72.0</td>\n",
       "      <td>0.8</td>\n",
       "      <td>8.1</td>\n",
       "      <td>20.6</td>\n",
       "      <td>223.208333</td>\n",
       "    </tr>\n",
       "    <tr>\n",
       "      <th>4</th>\n",
       "      <td>20.9</td>\n",
       "      <td>4.4</td>\n",
       "      <td>1017.3</td>\n",
       "      <td>61.0</td>\n",
       "      <td>1.3</td>\n",
       "      <td>8.7</td>\n",
       "      <td>22.2</td>\n",
       "      <td>200.645833</td>\n",
       "    </tr>\n",
       "  </tbody>\n",
       "</table>\n",
       "</div>"
      ],
      "text/plain": [
       "      T   TM     SLP     H    W    V    VM      PM 2.5\n",
       "0   9.8  4.8  1017.6  93.0  0.5  4.3   9.4  219.720833\n",
       "1  12.7  4.4  1018.5  87.0  0.6  4.4  11.1  182.187500\n",
       "2  13.4  2.4  1019.4  82.0  0.6  4.8  11.1  154.037500\n",
       "3  15.5  3.3  1018.7  72.0  0.8  8.1  20.6  223.208333\n",
       "4  20.9  4.4  1017.3  61.0  1.3  8.7  22.2  200.645833"
      ]
     },
     "execution_count": 3,
     "metadata": {},
     "output_type": "execute_result"
    }
   ],
   "source": [
    "df=pd.read_csv('data/Real-Data/Real_Combine.csv')\n",
    "df.head()"
   ]
  },
  {
   "cell_type": "code",
   "execution_count": 4,
   "id": "0d0612cd",
   "metadata": {},
   "outputs": [],
   "source": [
    "# Splitting into independent and dependent\n",
    "\n",
    "X=df.iloc[:,:-1]\n",
    "y=df.iloc[:,-1]"
   ]
  },
  {
   "cell_type": "code",
   "execution_count": 5,
   "id": "54dfa8e9",
   "metadata": {},
   "outputs": [
    {
     "data": {
      "text/plain": [
       "2"
      ]
     },
     "execution_count": 5,
     "metadata": {},
     "output_type": "execute_result"
    }
   ],
   "source": [
    "y.isnull().sum()"
   ]
  },
  {
   "cell_type": "code",
   "execution_count": 6,
   "id": "ed8e6be5",
   "metadata": {},
   "outputs": [],
   "source": [
    "## Replacing the null values with median\n",
    "y.fillna(y.median(),inplace=True)"
   ]
  },
  {
   "cell_type": "code",
   "execution_count": 7,
   "id": "02fa1ef8",
   "metadata": {},
   "outputs": [],
   "source": [
    "### Train test split\n",
    "from sklearn.model_selection import train_test_split\n",
    "\n",
    "X_train,X_test,y_train,y_test=train_test_split(X,y,test_size=0.3,random_state=0)"
   ]
  },
  {
   "cell_type": "code",
   "execution_count": 8,
   "id": "fc113cbc",
   "metadata": {},
   "outputs": [],
   "source": [
    "### Implementation"
   ]
  },
  {
   "cell_type": "code",
   "execution_count": 14,
   "id": "1cf3471c",
   "metadata": {},
   "outputs": [],
   "source": [
    "from tensorflow.keras.models import Sequential\n",
    "from tensorflow.keras.layers import Dense\n",
    "from tensorflow.keras.layers import LeakyReLU,PReLU,ELU,ReLU\n",
    "from tensorflow.keras.layers import Dropout"
   ]
  },
  {
   "cell_type": "code",
   "execution_count": 15,
   "id": "1642ced1",
   "metadata": {},
   "outputs": [],
   "source": [
    "model=Sequential()"
   ]
  },
  {
   "cell_type": "code",
   "execution_count": 23,
   "id": "a39199a6",
   "metadata": {},
   "outputs": [
    {
     "name": "stdout",
     "output_type": "stream",
     "text": [
      "Model: \"sequential_3\"\n",
      "_________________________________________________________________\n",
      " Layer (type)                Output Shape              Param #   \n",
      "=================================================================\n",
      " dense_26 (Dense)            (None, 128)               1024      \n",
      "                                                                 \n",
      " dense_27 (Dense)            (None, 256)               33024     \n",
      "                                                                 \n",
      " dense_28 (Dense)            (None, 256)               65792     \n",
      "                                                                 \n",
      " dense_29 (Dense)            (None, 256)               65792     \n",
      "                                                                 \n",
      " dense_30 (Dense)            (None, 1)                 257       \n",
      "                                                                 \n",
      "=================================================================\n",
      "Total params: 165,889\n",
      "Trainable params: 165,889\n",
      "Non-trainable params: 0\n",
      "_________________________________________________________________\n",
      "Epoch 1/100\n",
      "52/52 [==============================] - 2s 16ms/step - loss: 68.7515 - mean_absolute_error: 68.7515 - val_loss: 65.9643 - val_mean_absolute_error: 65.9643\n",
      "Epoch 2/100\n",
      "52/52 [==============================] - 0s 6ms/step - loss: 63.1934 - mean_absolute_error: 63.1934 - val_loss: 62.4632 - val_mean_absolute_error: 62.4632\n",
      "Epoch 3/100\n",
      "52/52 [==============================] - 0s 8ms/step - loss: 62.5222 - mean_absolute_error: 62.5222 - val_loss: 66.4109 - val_mean_absolute_error: 66.4109\n",
      "Epoch 4/100\n",
      "52/52 [==============================] - 1s 10ms/step - loss: 59.6853 - mean_absolute_error: 59.6853 - val_loss: 61.9133 - val_mean_absolute_error: 61.9133\n",
      "Epoch 5/100\n",
      "52/52 [==============================] - 0s 6ms/step - loss: 55.3454 - mean_absolute_error: 55.3454 - val_loss: 57.9862 - val_mean_absolute_error: 57.9862\n",
      "Epoch 6/100\n",
      "52/52 [==============================] - 0s 6ms/step - loss: 49.1020 - mean_absolute_error: 49.1020 - val_loss: 50.3922 - val_mean_absolute_error: 50.3922\n",
      "Epoch 7/100\n",
      "52/52 [==============================] - 1s 10ms/step - loss: 46.9993 - mean_absolute_error: 46.9993 - val_loss: 53.0483 - val_mean_absolute_error: 53.0483\n",
      "Epoch 8/100\n",
      "52/52 [==============================] - 0s 5ms/step - loss: 48.0031 - mean_absolute_error: 48.0031 - val_loss: 44.4177 - val_mean_absolute_error: 44.4177\n",
      "Epoch 9/100\n",
      "52/52 [==============================] - 0s 6ms/step - loss: 51.2749 - mean_absolute_error: 51.2749 - val_loss: 44.3176 - val_mean_absolute_error: 44.3176\n",
      "Epoch 10/100\n",
      "52/52 [==============================] - 1s 12ms/step - loss: 45.4975 - mean_absolute_error: 45.4975 - val_loss: 50.3703 - val_mean_absolute_error: 50.3703\n",
      "Epoch 11/100\n",
      "52/52 [==============================] - 0s 4ms/step - loss: 44.6062 - mean_absolute_error: 44.6062 - val_loss: 43.4733 - val_mean_absolute_error: 43.4733\n",
      "Epoch 12/100\n",
      "52/52 [==============================] - 0s 6ms/step - loss: 48.1488 - mean_absolute_error: 48.1488 - val_loss: 48.5056 - val_mean_absolute_error: 48.5056\n",
      "Epoch 13/100\n",
      "52/52 [==============================] - 0s 9ms/step - loss: 45.1136 - mean_absolute_error: 45.1136 - val_loss: 45.4087 - val_mean_absolute_error: 45.4087\n",
      "Epoch 14/100\n",
      "52/52 [==============================] - 0s 4ms/step - loss: 43.8217 - mean_absolute_error: 43.8217 - val_loss: 45.8973 - val_mean_absolute_error: 45.8973\n",
      "Epoch 15/100\n",
      "52/52 [==============================] - 0s 6ms/step - loss: 44.6516 - mean_absolute_error: 44.6516 - val_loss: 43.7687 - val_mean_absolute_error: 43.7687\n",
      "Epoch 16/100\n",
      "52/52 [==============================] - 1s 12ms/step - loss: 46.4555 - mean_absolute_error: 46.4555 - val_loss: 49.9313 - val_mean_absolute_error: 49.9313\n",
      "Epoch 17/100\n",
      "52/52 [==============================] - 0s 5ms/step - loss: 44.8777 - mean_absolute_error: 44.8777 - val_loss: 44.0121 - val_mean_absolute_error: 44.0121\n",
      "Epoch 18/100\n",
      "52/52 [==============================] - 0s 6ms/step - loss: 44.0757 - mean_absolute_error: 44.0757 - val_loss: 46.9005 - val_mean_absolute_error: 46.9005\n",
      "Epoch 19/100\n",
      "52/52 [==============================] - 0s 8ms/step - loss: 43.2572 - mean_absolute_error: 43.2572 - val_loss: 42.2105 - val_mean_absolute_error: 42.2105\n",
      "Epoch 20/100\n",
      "52/52 [==============================] - 0s 4ms/step - loss: 41.5844 - mean_absolute_error: 41.5844 - val_loss: 44.9849 - val_mean_absolute_error: 44.9849\n",
      "Epoch 21/100\n",
      "52/52 [==============================] - 0s 5ms/step - loss: 44.4672 - mean_absolute_error: 44.4672 - val_loss: 46.0289 - val_mean_absolute_error: 46.0289\n",
      "Epoch 22/100\n",
      "52/52 [==============================] - 0s 5ms/step - loss: 43.6554 - mean_absolute_error: 43.6554 - val_loss: 45.7951 - val_mean_absolute_error: 45.7951\n",
      "Epoch 23/100\n",
      "52/52 [==============================] - 0s 6ms/step - loss: 42.2709 - mean_absolute_error: 42.2709 - val_loss: 44.0507 - val_mean_absolute_error: 44.0507\n",
      "Epoch 24/100\n",
      "52/52 [==============================] - 0s 7ms/step - loss: 44.5448 - mean_absolute_error: 44.5448 - val_loss: 45.3879 - val_mean_absolute_error: 45.3879\n",
      "Epoch 25/100\n",
      "52/52 [==============================] - 0s 5ms/step - loss: 42.3968 - mean_absolute_error: 42.3968 - val_loss: 42.8361 - val_mean_absolute_error: 42.8361\n",
      "Epoch 26/100\n",
      "52/52 [==============================] - 1s 10ms/step - loss: 44.5997 - mean_absolute_error: 44.5997 - val_loss: 42.4371 - val_mean_absolute_error: 42.4371\n",
      "Epoch 27/100\n",
      "52/52 [==============================] - 1s 13ms/step - loss: 42.7063 - mean_absolute_error: 42.7063 - val_loss: 45.1169 - val_mean_absolute_error: 45.1169\n",
      "Epoch 28/100\n",
      "52/52 [==============================] - 0s 8ms/step - loss: 42.2788 - mean_absolute_error: 42.2788 - val_loss: 48.7200 - val_mean_absolute_error: 48.7200\n",
      "Epoch 29/100\n",
      "52/52 [==============================] - 0s 4ms/step - loss: 41.4732 - mean_absolute_error: 41.4732 - val_loss: 46.2582 - val_mean_absolute_error: 46.2582\n",
      "Epoch 30/100\n",
      "52/52 [==============================] - 0s 5ms/step - loss: 41.6462 - mean_absolute_error: 41.6462 - val_loss: 42.5365 - val_mean_absolute_error: 42.5365\n",
      "Epoch 31/100\n",
      "52/52 [==============================] - 0s 4ms/step - loss: 41.6060 - mean_absolute_error: 41.6060 - val_loss: 42.1769 - val_mean_absolute_error: 42.1769\n",
      "Epoch 32/100\n",
      "52/52 [==============================] - 0s 5ms/step - loss: 41.4719 - mean_absolute_error: 41.4719 - val_loss: 44.3830 - val_mean_absolute_error: 44.3830\n",
      "Epoch 33/100\n",
      "52/52 [==============================] - 1s 10ms/step - loss: 41.5218 - mean_absolute_error: 41.5218 - val_loss: 42.7905 - val_mean_absolute_error: 42.7905\n",
      "Epoch 34/100\n",
      "52/52 [==============================] - 0s 6ms/step - loss: 41.2496 - mean_absolute_error: 41.2496 - val_loss: 44.8253 - val_mean_absolute_error: 44.8253\n",
      "Epoch 35/100\n",
      "52/52 [==============================] - 0s 5ms/step - loss: 41.7111 - mean_absolute_error: 41.7111 - val_loss: 42.5943 - val_mean_absolute_error: 42.5943\n",
      "Epoch 36/100\n",
      "52/52 [==============================] - 0s 5ms/step - loss: 42.9554 - mean_absolute_error: 42.9554 - val_loss: 56.0614 - val_mean_absolute_error: 56.0614\n",
      "Epoch 37/100\n",
      "52/52 [==============================] - 0s 5ms/step - loss: 43.8531 - mean_absolute_error: 43.8531 - val_loss: 42.1421 - val_mean_absolute_error: 42.1421\n",
      "Epoch 38/100\n",
      "52/52 [==============================] - 0s 5ms/step - loss: 40.7942 - mean_absolute_error: 40.7942 - val_loss: 44.0836 - val_mean_absolute_error: 44.0836\n",
      "Epoch 39/100\n",
      "52/52 [==============================] - 0s 5ms/step - loss: 40.3463 - mean_absolute_error: 40.3463 - val_loss: 41.9899 - val_mean_absolute_error: 41.9899\n",
      "Epoch 40/100\n",
      "52/52 [==============================] - 0s 8ms/step - loss: 40.7475 - mean_absolute_error: 40.7475 - val_loss: 42.4699 - val_mean_absolute_error: 42.4699\n",
      "Epoch 41/100\n",
      "52/52 [==============================] - 0s 6ms/step - loss: 43.6363 - mean_absolute_error: 43.6363 - val_loss: 47.0976 - val_mean_absolute_error: 47.0976\n",
      "Epoch 42/100\n",
      "52/52 [==============================] - 0s 8ms/step - loss: 40.7996 - mean_absolute_error: 40.7996 - val_loss: 42.9702 - val_mean_absolute_error: 42.9702\n",
      "Epoch 43/100\n"
     ]
    },
    {
     "name": "stdout",
     "output_type": "stream",
     "text": [
      "52/52 [==============================] - 0s 7ms/step - loss: 40.8003 - mean_absolute_error: 40.8003 - val_loss: 42.3977 - val_mean_absolute_error: 42.3977\n",
      "Epoch 44/100\n",
      "52/52 [==============================] - 0s 4ms/step - loss: 40.0193 - mean_absolute_error: 40.0193 - val_loss: 44.8325 - val_mean_absolute_error: 44.8325\n",
      "Epoch 45/100\n",
      "52/52 [==============================] - 0s 6ms/step - loss: 41.3316 - mean_absolute_error: 41.3316 - val_loss: 41.9960 - val_mean_absolute_error: 41.9960\n",
      "Epoch 46/100\n",
      "52/52 [==============================] - 0s 7ms/step - loss: 40.8556 - mean_absolute_error: 40.8556 - val_loss: 42.4214 - val_mean_absolute_error: 42.4214\n",
      "Epoch 47/100\n",
      "52/52 [==============================] - 0s 8ms/step - loss: 40.5618 - mean_absolute_error: 40.5618 - val_loss: 43.5478 - val_mean_absolute_error: 43.5478\n",
      "Epoch 48/100\n",
      "52/52 [==============================] - 0s 8ms/step - loss: 39.2013 - mean_absolute_error: 39.2013 - val_loss: 42.9010 - val_mean_absolute_error: 42.9010\n",
      "Epoch 49/100\n",
      "52/52 [==============================] - 0s 5ms/step - loss: 41.1587 - mean_absolute_error: 41.1587 - val_loss: 42.4407 - val_mean_absolute_error: 42.4407\n",
      "Epoch 50/100\n",
      "52/52 [==============================] - 0s 7ms/step - loss: 41.8322 - mean_absolute_error: 41.8322 - val_loss: 46.8017 - val_mean_absolute_error: 46.8017\n",
      "Epoch 51/100\n",
      "52/52 [==============================] - 0s 5ms/step - loss: 42.0326 - mean_absolute_error: 42.0326 - val_loss: 43.9105 - val_mean_absolute_error: 43.9105\n",
      "Epoch 52/100\n",
      "52/52 [==============================] - 0s 4ms/step - loss: 41.1063 - mean_absolute_error: 41.1063 - val_loss: 43.6857 - val_mean_absolute_error: 43.6857\n",
      "Epoch 53/100\n",
      "52/52 [==============================] - 0s 4ms/step - loss: 40.1049 - mean_absolute_error: 40.1049 - val_loss: 42.2507 - val_mean_absolute_error: 42.2507\n",
      "Epoch 54/100\n",
      "52/52 [==============================] - 0s 5ms/step - loss: 41.0203 - mean_absolute_error: 41.0203 - val_loss: 42.5996 - val_mean_absolute_error: 42.5996\n",
      "Epoch 55/100\n",
      "52/52 [==============================] - 0s 5ms/step - loss: 40.0357 - mean_absolute_error: 40.0357 - val_loss: 42.1432 - val_mean_absolute_error: 42.1432\n",
      "Epoch 56/100\n",
      "52/52 [==============================] - 0s 4ms/step - loss: 40.3860 - mean_absolute_error: 40.3860 - val_loss: 41.9182 - val_mean_absolute_error: 41.9182\n",
      "Epoch 57/100\n",
      "52/52 [==============================] - 0s 4ms/step - loss: 39.0942 - mean_absolute_error: 39.0942 - val_loss: 42.2911 - val_mean_absolute_error: 42.2911\n",
      "Epoch 58/100\n",
      "52/52 [==============================] - 0s 4ms/step - loss: 40.3829 - mean_absolute_error: 40.3829 - val_loss: 42.2660 - val_mean_absolute_error: 42.2660\n",
      "Epoch 59/100\n",
      "52/52 [==============================] - 0s 5ms/step - loss: 41.0634 - mean_absolute_error: 41.0634 - val_loss: 42.8206 - val_mean_absolute_error: 42.8206\n",
      "Epoch 60/100\n",
      "52/52 [==============================] - 0s 6ms/step - loss: 42.4884 - mean_absolute_error: 42.4884 - val_loss: 43.7091 - val_mean_absolute_error: 43.7091\n",
      "Epoch 61/100\n",
      "52/52 [==============================] - 0s 5ms/step - loss: 41.4060 - mean_absolute_error: 41.4060 - val_loss: 42.7450 - val_mean_absolute_error: 42.7450\n",
      "Epoch 62/100\n",
      "52/52 [==============================] - 0s 5ms/step - loss: 41.1463 - mean_absolute_error: 41.1463 - val_loss: 42.7538 - val_mean_absolute_error: 42.7538\n",
      "Epoch 63/100\n",
      "52/52 [==============================] - 0s 4ms/step - loss: 40.3515 - mean_absolute_error: 40.3515 - val_loss: 42.7208 - val_mean_absolute_error: 42.7208\n",
      "Epoch 64/100\n",
      "52/52 [==============================] - 0s 5ms/step - loss: 40.1842 - mean_absolute_error: 40.1842 - val_loss: 43.1699 - val_mean_absolute_error: 43.1699\n",
      "Epoch 65/100\n",
      "52/52 [==============================] - 0s 4ms/step - loss: 40.5738 - mean_absolute_error: 40.5738 - val_loss: 44.6457 - val_mean_absolute_error: 44.6457\n",
      "Epoch 66/100\n",
      "52/52 [==============================] - 0s 5ms/step - loss: 40.6365 - mean_absolute_error: 40.6365 - val_loss: 42.8139 - val_mean_absolute_error: 42.8139\n",
      "Epoch 67/100\n",
      "52/52 [==============================] - 0s 5ms/step - loss: 42.2210 - mean_absolute_error: 42.2210 - val_loss: 43.4904 - val_mean_absolute_error: 43.4904\n",
      "Epoch 68/100\n",
      "52/52 [==============================] - 0s 6ms/step - loss: 39.9335 - mean_absolute_error: 39.9335 - val_loss: 42.3808 - val_mean_absolute_error: 42.3808\n",
      "Epoch 69/100\n",
      "52/52 [==============================] - 0s 4ms/step - loss: 40.5726 - mean_absolute_error: 40.5726 - val_loss: 42.9443 - val_mean_absolute_error: 42.9443\n",
      "Epoch 70/100\n",
      "52/52 [==============================] - 0s 5ms/step - loss: 40.3809 - mean_absolute_error: 40.3809 - val_loss: 41.5502 - val_mean_absolute_error: 41.5502\n",
      "Epoch 71/100\n",
      "52/52 [==============================] - 0s 4ms/step - loss: 40.1458 - mean_absolute_error: 40.1458 - val_loss: 41.6600 - val_mean_absolute_error: 41.6600\n",
      "Epoch 72/100\n",
      "52/52 [==============================] - 0s 4ms/step - loss: 40.3995 - mean_absolute_error: 40.3995 - val_loss: 44.1269 - val_mean_absolute_error: 44.1269\n",
      "Epoch 73/100\n",
      "52/52 [==============================] - 0s 4ms/step - loss: 41.9989 - mean_absolute_error: 41.9989 - val_loss: 42.9487 - val_mean_absolute_error: 42.9487\n",
      "Epoch 74/100\n",
      "52/52 [==============================] - 0s 5ms/step - loss: 39.0215 - mean_absolute_error: 39.0215 - val_loss: 42.6476 - val_mean_absolute_error: 42.6476\n",
      "Epoch 75/100\n",
      "52/52 [==============================] - 0s 5ms/step - loss: 40.7875 - mean_absolute_error: 40.7875 - val_loss: 44.6022 - val_mean_absolute_error: 44.6022\n",
      "Epoch 76/100\n",
      "52/52 [==============================] - 0s 8ms/step - loss: 40.2636 - mean_absolute_error: 40.2636 - val_loss: 41.5549 - val_mean_absolute_error: 41.5549\n",
      "Epoch 77/100\n",
      "52/52 [==============================] - 0s 6ms/step - loss: 40.0429 - mean_absolute_error: 40.0429 - val_loss: 41.5616 - val_mean_absolute_error: 41.5616\n",
      "Epoch 78/100\n",
      "52/52 [==============================] - 0s 5ms/step - loss: 40.5643 - mean_absolute_error: 40.5643 - val_loss: 44.3725 - val_mean_absolute_error: 44.3725\n",
      "Epoch 79/100\n",
      "52/52 [==============================] - 0s 4ms/step - loss: 39.2134 - mean_absolute_error: 39.2134 - val_loss: 44.1480 - val_mean_absolute_error: 44.1480\n",
      "Epoch 80/100\n",
      "52/52 [==============================] - 0s 4ms/step - loss: 39.7255 - mean_absolute_error: 39.7255 - val_loss: 41.4482 - val_mean_absolute_error: 41.4482\n",
      "Epoch 81/100\n",
      "52/52 [==============================] - 0s 5ms/step - loss: 40.3772 - mean_absolute_error: 40.3772 - val_loss: 41.6173 - val_mean_absolute_error: 41.6173\n",
      "Epoch 82/100\n",
      "52/52 [==============================] - 0s 5ms/step - loss: 39.8090 - mean_absolute_error: 39.8090 - val_loss: 41.7178 - val_mean_absolute_error: 41.7178\n",
      "Epoch 83/100\n",
      "52/52 [==============================] - 0s 4ms/step - loss: 38.7266 - mean_absolute_error: 38.7266 - val_loss: 41.8861 - val_mean_absolute_error: 41.8861\n",
      "Epoch 84/100\n",
      "52/52 [==============================] - 0s 4ms/step - loss: 39.8453 - mean_absolute_error: 39.8453 - val_loss: 42.7006 - val_mean_absolute_error: 42.7006\n",
      "Epoch 85/100\n",
      "52/52 [==============================] - 0s 4ms/step - loss: 38.9721 - mean_absolute_error: 38.9721 - val_loss: 41.5944 - val_mean_absolute_error: 41.5944\n",
      "Epoch 86/100\n",
      "52/52 [==============================] - 0s 6ms/step - loss: 39.0014 - mean_absolute_error: 39.0014 - val_loss: 42.0461 - val_mean_absolute_error: 42.0461\n",
      "Epoch 87/100\n",
      "52/52 [==============================] - 0s 7ms/step - loss: 40.1530 - mean_absolute_error: 40.1530 - val_loss: 43.5246 - val_mean_absolute_error: 43.5246\n",
      "Epoch 88/100\n",
      "52/52 [==============================] - 0s 5ms/step - loss: 40.2546 - mean_absolute_error: 40.2546 - val_loss: 41.5732 - val_mean_absolute_error: 41.5732\n",
      "Epoch 89/100\n",
      "52/52 [==============================] - 0s 7ms/step - loss: 40.6653 - mean_absolute_error: 40.6653 - val_loss: 41.6931 - val_mean_absolute_error: 41.6931\n",
      "Epoch 90/100\n",
      "52/52 [==============================] - 0s 7ms/step - loss: 38.5837 - mean_absolute_error: 38.5837 - val_loss: 41.9548 - val_mean_absolute_error: 41.9548\n",
      "Epoch 91/100\n",
      "52/52 [==============================] - 0s 6ms/step - loss: 39.8510 - mean_absolute_error: 39.8510 - val_loss: 44.2678 - val_mean_absolute_error: 44.2678\n"
     ]
    },
    {
     "name": "stdout",
     "output_type": "stream",
     "text": [
      "Epoch 92/100\n",
      "52/52 [==============================] - 0s 5ms/step - loss: 40.2686 - mean_absolute_error: 40.2686 - val_loss: 42.8390 - val_mean_absolute_error: 42.8390\n",
      "Epoch 93/100\n",
      "52/52 [==============================] - 0s 7ms/step - loss: 39.4816 - mean_absolute_error: 39.4816 - val_loss: 45.3541 - val_mean_absolute_error: 45.3541\n",
      "Epoch 94/100\n",
      "52/52 [==============================] - 1s 10ms/step - loss: 38.5845 - mean_absolute_error: 38.5845 - val_loss: 41.7348 - val_mean_absolute_error: 41.7348\n",
      "Epoch 95/100\n",
      "52/52 [==============================] - 1s 10ms/step - loss: 39.8525 - mean_absolute_error: 39.8525 - val_loss: 46.5759 - val_mean_absolute_error: 46.5759\n",
      "Epoch 96/100\n",
      "52/52 [==============================] - 1s 13ms/step - loss: 37.8916 - mean_absolute_error: 37.8916 - val_loss: 45.9972 - val_mean_absolute_error: 45.9972\n",
      "Epoch 97/100\n",
      "52/52 [==============================] - 0s 6ms/step - loss: 39.6680 - mean_absolute_error: 39.6680 - val_loss: 43.0772 - val_mean_absolute_error: 43.0772\n",
      "Epoch 98/100\n",
      "52/52 [==============================] - 1s 16ms/step - loss: 40.3972 - mean_absolute_error: 40.3972 - val_loss: 44.0247 - val_mean_absolute_error: 44.0247\n",
      "Epoch 99/100\n",
      "52/52 [==============================] - 0s 7ms/step - loss: 38.6937 - mean_absolute_error: 38.6937 - val_loss: 40.8975 - val_mean_absolute_error: 40.8975\n",
      "Epoch 100/100\n",
      "52/52 [==============================] - 0s 8ms/step - loss: 39.3610 - mean_absolute_error: 39.3610 - val_loss: 44.0768 - val_mean_absolute_error: 44.0768\n"
     ]
    }
   ],
   "source": [
    "NN_model = Sequential()\n",
    "\n",
    "# The Input Layer :\n",
    "NN_model.add(Dense(128, kernel_initializer='normal',input_dim = X_train.shape[1], activation='relu'))\n",
    "\n",
    "# The Hidden Layers :\n",
    "NN_model.add(Dense(256, kernel_initializer='normal',activation='relu'))\n",
    "NN_model.add(Dense(256, kernel_initializer='normal',activation='relu'))\n",
    "NN_model.add(Dense(256, kernel_initializer='normal',activation='relu'))\n",
    "\n",
    "# The Output Layer :\n",
    "NN_model.add(Dense(1, kernel_initializer='normal',activation='linear'))\n",
    "\n",
    "# Compile the network :\n",
    "NN_model.compile(loss='mean_absolute_error', optimizer='adam', metrics=['mean_absolute_error'])\n",
    "NN_model.summary()\n",
    "\n",
    "# Fitting the ANN to the Training set\n",
    "model_history=NN_model.fit(X_train, y_train,validation_split=0.33, batch_size = 10, epochs = 100)"
   ]
  },
  {
   "cell_type": "code",
   "execution_count": 24,
   "id": "04030a6e",
   "metadata": {},
   "outputs": [
    {
     "name": "stdout",
     "output_type": "stream",
     "text": [
      "11/11 [==============================] - 0s 2ms/step\n"
     ]
    }
   ],
   "source": [
    "prediction=NN_model.predict(X_test)"
   ]
  },
  {
   "cell_type": "code",
   "execution_count": 27,
   "id": "bead4f41",
   "metadata": {},
   "outputs": [
    {
     "name": "stderr",
     "output_type": "stream",
     "text": [
      "C:\\Users\\BRAG\\anaconda3\\envs\\airquality\\lib\\site-packages\\seaborn\\distributions.py:2619: FutureWarning: `distplot` is a deprecated function and will be removed in a future version. Please adapt your code to use either `displot` (a figure-level function with similar flexibility) or `histplot` (an axes-level function for histograms).\n",
      "  warnings.warn(msg, FutureWarning)\n"
     ]
    },
    {
     "data": {
      "text/plain": [
       "<AxesSubplot:ylabel='Density'>"
      ]
     },
     "execution_count": 27,
     "metadata": {},
     "output_type": "execute_result"
    },
    {
     "data": {
      "image/png": "[encoded data removed]",
      "text/plain": [
       "<Figure size 432x288 with 1 Axes>"
      ]
     },
     "metadata": {
      "needs_background": "light"
     },
     "output_type": "display_data"
    }
   ],
   "source": [
    "# dist plot\n",
    "sns.distplot(y_test.values.reshape(-1,1)-prediction)"
   ]
  },
  {
   "cell_type": "code",
   "execution_count": 28,
   "id": "0c8d546c",
   "metadata": {},
   "outputs": [
    {
     "data": {
      "text/plain": [
       "<matplotlib.collections.PathCollection at 0x1842c5defd0>"
      ]
     },
     "execution_count": 28,
     "metadata": {},
     "output_type": "execute_result"
    },
    {
     "data": {
      "image/png": "[encoded data removed]",
      "text/plain": [
       "<Figure size 432x288 with 1 Axes>"
      ]
     },
     "metadata": {
      "needs_background": "light"
     },
     "output_type": "display_data"
    }
   ],
   "source": [
    "# scatter\n",
    "plt.scatter(y_test,prediction)"
   ]
  },
  {
   "cell_type": "code",
   "execution_count": 29,
   "id": "212b1297",
   "metadata": {},
   "outputs": [
    {
     "name": "stdout",
     "output_type": "stream",
     "text": [
      "MAE: 40.36857966307349\n",
      "MSE: 3303.7303549570875\n",
      "RMSE: 57.47808586719888\n",
      "r2 score: 0.5386735875077225\n"
     ]
    }
   ],
   "source": [
    "### Evaluation metrics\n",
    "\n",
    "from sklearn.metrics import mean_absolute_error,mean_squared_error,accuracy_score,r2_score\n",
    "\n",
    "print('MAE: {}'.format(mean_absolute_error(y_test,prediction)))\n",
    "print('MSE: {}'.format(mean_squared_error(y_test,prediction)))\n",
    "print('RMSE: {}'.format(np.sqrt(mean_squared_error(y_test,prediction))))\n",
    "print('r2 score: {}'.format(r2_score(y_test,prediction)))"
   ]
  },
  {
   "cell_type": "code",
   "execution_count": null,
   "id": "96977566",
   "metadata": {},
   "outputs": [],
   "source": []
  }
 ],
 "metadata": {
  "kernelspec": {
   "display_name": "Python 3 (ipykernel)",
   "language": "python",
   "name": "python3"
  },
  "language_info": {
   "codemirror_mode": {
    "name": "ipython",
    "version": 3
   },
   "file_extension": ".py",
   "mimetype": "text/x-python",
   "name": "python",
   "nbconvert_exporter": "python",
   "pygments_lexer": "ipython3",
   "version": "3.9.12"
  }
 },
 "nbformat": 4,
 "nbformat_minor": 5
}
